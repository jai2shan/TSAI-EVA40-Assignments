{
  "nbformat": 4,
  "nbformat_minor": 0,
  "metadata": {
    "colab": {
      "name": "draws this curve .ipynb",
      "provenance": [],
      "collapsed_sections": [],
      "authorship_tag": "ABX9TyNgr9+bWWTK0JnF5cqdCL8K",
      "include_colab_link": true
    },
    "kernelspec": {
      "name": "python3",
      "display_name": "Python 3"
    }
  },
  "cells": [
    {
      "cell_type": "markdown",
      "metadata": {
        "id": "view-in-github",
        "colab_type": "text"
      },
      "source": [
        "<a href=\"https://colab.research.google.com/github/jai2shan/TSAI-EVA40-Assignments/blob/master/Session%2011/draws_this_curve_.ipynb\" target=\"_parent\"><img src=\"https://colab.research.google.com/assets/colab-badge.svg\" alt=\"Open In Colab\"/></a>"
      ]
    },
    {
      "cell_type": "code",
      "metadata": {
        "id": "YZ0R2TxFAZxR",
        "colab_type": "code",
        "colab": {}
      },
      "source": [
        "import matplotlib.pyplot as plt\n",
        "import math\n",
        "def graph(num_iter,ymin,ymax,ss):\n",
        "    x_ = []\n",
        "    y_ = []\n",
        "    for i in range(num_iter):\n",
        "        x_.append(i)\n",
        "        cycle = math.floor(1+ i/(2*ss))\n",
        "        x = abs(i/ss - 2*(cycle)+1)\n",
        "    \n",
        "        y = ymin + (ymax-ymin)*(1-x)\n",
        "        y_.append(y)\n",
        "    # print(x_)\n",
        "    # print(y_)\n",
        "    plt.title(\"Graph\")\n",
        "    plt.plot(x_, y_)\n",
        "    plt.axis(\"off\")\n",
        "    plt.show()"
      ],
      "execution_count": 0,
      "outputs": []
    },
    {
      "cell_type": "code",
      "metadata": {
        "id": "cziU-SKdApRF",
        "colab_type": "code",
        "colab": {
          "base_uri": "https://localhost:8080/",
          "height": 264
        },
        "outputId": "5dd1ea96-7eb5-4af1-fe74-dd0ba89e5b2d"
      },
      "source": [
        "graph(num_iter = 1200, ymin = 20,ymax = 25,ss=200)"
      ],
      "execution_count": 14,
      "outputs": [
        {
          "output_type": "display_data",
          "data": {
            "image/png": "[encoded data removed]",
            "text/plain": [
              "<Figure size 432x288 with 1 Axes>"
            ]
          },
          "metadata": {
            "tags": [],
            "needs_background": "light"
          }
        }
      ]
    },
    {
      "cell_type": "code",
      "metadata": {
        "id": "9olkkeDnAt0P",
        "colab_type": "code",
        "colab": {}
      },
      "source": [
        ""
      ],
      "execution_count": 0,
      "outputs": []
    }
  ]
}