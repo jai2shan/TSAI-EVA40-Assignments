{
  "nbformat": 4,
  "nbformat_minor": 0,
  "metadata": {
    "colab": {
      "name": "Untitled20.ipynb",
      "provenance": [],
      "toc_visible": true,
      "authorship_tag": "ABX9TyN/xDuqSR5y0C4wh15jjwey",
      "include_colab_link": true
    },
    "kernelspec": {
      "name": "python3",
      "display_name": "Python 3"
    },
    "accelerator": "GPU",
    "widgets": {
      "application/vnd.jupyter.widget-state+json": {
        "018884ac139e405ca8aa043a63f2f29a": {
          "model_module": "@jupyter-widgets/controls",
          "model_name": "HBoxModel",
          "state": {
            "_view_name": "HBoxView",
            "_dom_classes": [],
            "_model_name": "HBoxModel",
            "_view_module": "@jupyter-widgets/controls",
            "_model_module_version": "1.5.0",
            "_view_count": null,
            "_view_module_version": "1.5.0",
            "box_style": "",
            "layout": "IPY_MODEL_8d2dffd1366944a98057d2e62ec93ea0",
            "_model_module": "@jupyter-widgets/controls",
            "children": [
              "IPY_MODEL_2960aca080c244009aedeea8f16bddfa",
              "IPY_MODEL_d3b37861ccc64814aeb656af209fe0fa"
            ]
          }
        },
        "8d2dffd1366944a98057d2e62ec93ea0": {
          "model_module": "@jupyter-widgets/base",
          "model_name": "LayoutModel",
          "state": {
            "_view_name": "LayoutView",
            "grid_template_rows": null,
            "right": null,
            "justify_content": null,
            "_view_module": "@jupyter-widgets/base",
            "overflow": null,
            "_model_module_version": "1.2.0",
            "_view_count": null,
            "flex_flow": null,
            "width": null,
            "min_width": null,
            "border": null,
            "align_items": null,
            "bottom": null,
            "_model_module": "@jupyter-widgets/base",
            "top": null,
            "grid_column": null,
            "overflow_y": null,
            "overflow_x": null,
            "grid_auto_flow": null,
            "grid_area": null,
            "grid_template_columns": null,
            "flex": null,
            "_model_name": "LayoutModel",
            "justify_items": null,
            "grid_row": null,
            "max_height": null,
            "align_content": null,
            "visibility": null,
            "align_self": null,
            "height": null,
            "min_height": null,
            "padding": null,
            "grid_auto_rows": null,
            "grid_gap": null,
            "max_width": null,
            "order": null,
            "_view_module_version": "1.2.0",
            "grid_template_areas": null,
            "object_position": null,
            "object_fit": null,
            "grid_auto_columns": null,
            "margin": null,
            "display": null,
            "left": null
          }
        },
        "2960aca080c244009aedeea8f16bddfa": {
          "model_module": "@jupyter-widgets/controls",
          "model_name": "FloatProgressModel",
          "state": {
            "_view_name": "ProgressView",
            "style": "IPY_MODEL_aae0a45559284332940d3aac2842aa05",
            "_dom_classes": [],
            "description": "",
            "_model_name": "FloatProgressModel",
            "bar_style": "info",
            "max": 1,
            "_view_module": "@jupyter-widgets/controls",
            "_model_module_version": "1.5.0",
            "value": 1,
            "_view_count": null,
            "_view_module_version": "1.5.0",
            "orientation": "horizontal",
            "min": 0,
            "description_tooltip": null,
            "_model_module": "@jupyter-widgets/controls",
            "layout": "IPY_MODEL_464e2ea13a814cf9a49d83a64a2d1afd"
          }
        },
        "d3b37861ccc64814aeb656af209fe0fa": {
          "model_module": "@jupyter-widgets/controls",
          "model_name": "HTMLModel",
          "state": {
            "_view_name": "HTMLView",
            "style": "IPY_MODEL_1eba64d3d56b4a7c9fb9cbd76d6b9524",
            "_dom_classes": [],
            "description": "",
            "_model_name": "HTMLModel",
            "placeholder": "​",
            "_view_module": "@jupyter-widgets/controls",
            "_model_module_version": "1.5.0",
            "value": " 170500096/? [00:20&lt;00:00, 43664054.99it/s]",
            "_view_count": null,
            "_view_module_version": "1.5.0",
            "description_tooltip": null,
            "_model_module": "@jupyter-widgets/controls",
            "layout": "IPY_MODEL_4a7eb0157d4c432c9a7db88843c219e1"
          }
        },
        "aae0a45559284332940d3aac2842aa05": {
          "model_module": "@jupyter-widgets/controls",
          "model_name": "ProgressStyleModel",
          "state": {
            "_view_name": "StyleView",
            "_model_name": "ProgressStyleModel",
            "description_width": "initial",
            "_view_module": "@jupyter-widgets/base",
            "_model_module_version": "1.5.0",
            "_view_count": null,
            "_view_module_version": "1.2.0",
            "bar_color": null,
            "_model_module": "@jupyter-widgets/controls"
          }
        },
        "464e2ea13a814cf9a49d83a64a2d1afd": {
          "model_module": "@jupyter-widgets/base",
          "model_name": "LayoutModel",
          "state": {
            "_view_name": "LayoutView",
            "grid_template_rows": null,
            "right": null,
            "justify_content": null,
            "_view_module": "@jupyter-widgets/base",
            "overflow": null,
            "_model_module_version": "1.2.0",
            "_view_count": null,
            "flex_flow": null,
            "width": null,
            "min_width": null,
            "border": null,
            "align_items": null,
            "bottom": null,
            "_model_module": "@jupyter-widgets/base",
            "top": null,
            "grid_column": null,
            "overflow_y": null,
            "overflow_x": null,
            "grid_auto_flow": null,
            "grid_area": null,
            "grid_template_columns": null,
            "flex": null,
            "_model_name": "LayoutModel",
            "justify_items": null,
            "grid_row": null,
            "max_height": null,
            "align_content": null,
            "visibility": null,
            "align_self": null,
            "height": null,
            "min_height": null,
            "padding": null,
            "grid_auto_rows": null,
            "grid_gap": null,
            "max_width": null,
            "order": null,
            "_view_module_version": "1.2.0",
            "grid_template_areas": null,
            "object_position": null,
            "object_fit": null,
            "grid_auto_columns": null,
            "margin": null,
            "display": null,
            "left": null
          }
        },
        "1eba64d3d56b4a7c9fb9cbd76d6b9524": {
          "model_module": "@jupyter-widgets/controls",
          "model_name": "DescriptionStyleModel",
          "state": {
            "_view_name": "StyleView",
            "_model_name": "DescriptionStyleModel",
            "description_width": "",
            "_view_module": "@jupyter-widgets/base",
            "_model_module_version": "1.5.0",
            "_view_count": null,
            "_view_module_version": "1.2.0",
            "_model_module": "@jupyter-widgets/controls"
          }
        },
        "4a7eb0157d4c432c9a7db88843c219e1": {
          "model_module": "@jupyter-widgets/base",
          "model_name": "LayoutModel",
          "state": {
            "_view_name": "LayoutView",
            "grid_template_rows": null,
            "right": null,
            "justify_content": null,
            "_view_module": "@jupyter-widgets/base",
            "overflow": null,
            "_model_module_version": "1.2.0",
            "_view_count": null,
            "flex_flow": null,
            "width": null,
            "min_width": null,
            "border": null,
            "align_items": null,
            "bottom": null,
            "_model_module": "@jupyter-widgets/base",
            "top": null,
            "grid_column": null,
            "overflow_y": null,
            "overflow_x": null,
            "grid_auto_flow": null,
            "grid_area": null,
            "grid_template_columns": null,
            "flex": null,
            "_model_name": "LayoutModel",
            "justify_items": null,
            "grid_row": null,
            "max_height": null,
            "align_content": null,
            "visibility": null,
            "align_self": null,
            "height": null,
            "min_height": null,
            "padding": null,
            "grid_auto_rows": null,
            "grid_gap": null,
            "max_width": null,
            "order": null,
            "_view_module_version": "1.2.0",
            "grid_template_areas": null,
            "object_position": null,
            "object_fit": null,
            "grid_auto_columns": null,
            "margin": null,
            "display": null,
            "left": null
          }
        },
        "870724e6a44b4c01a7034e282eeb2719": {
          "model_module": "@jupyter-widgets/controls",
          "model_name": "HBoxModel",
          "state": {
            "_view_name": "HBoxView",
            "_dom_classes": [],
            "_model_name": "HBoxModel",
            "_view_module": "@jupyter-widgets/controls",
            "_model_module_version": "1.5.0",
            "_view_count": null,
            "_view_module_version": "1.5.0",
            "box_style": "",
            "layout": "IPY_MODEL_48e929f71b6547e684c86d396c3c1245",
            "_model_module": "@jupyter-widgets/controls",
            "children": [
              "IPY_MODEL_280958c457f746738f8a75c70d69b463",
              "IPY_MODEL_9741230bcbb84998baf0d54c28fd3b80"
            ]
          }
        },
        "48e929f71b6547e684c86d396c3c1245": {
          "model_module": "@jupyter-widgets/base",
          "model_name": "LayoutModel",
          "state": {
            "_view_name": "LayoutView",
            "grid_template_rows": null,
            "right": null,
            "justify_content": null,
            "_view_module": "@jupyter-widgets/base",
            "overflow": null,
            "_model_module_version": "1.2.0",
            "_view_count": null,
            "flex_flow": null,
            "width": null,
            "min_width": null,
            "border": null,
            "align_items": null,
            "bottom": null,
            "_model_module": "@jupyter-widgets/base",
            "top": null,
            "grid_column": null,
            "overflow_y": null,
            "overflow_x": null,
            "grid_auto_flow": null,
            "grid_area": null,
            "grid_template_columns": null,
            "flex": null,
            "_model_name": "LayoutModel",
            "justify_items": null,
            "grid_row": null,
            "max_height": null,
            "align_content": null,
            "visibility": null,
            "align_self": null,
            "height": null,
            "min_height": null,
            "padding": null,
            "grid_auto_rows": null,
            "grid_gap": null,
            "max_width": null,
            "order": null,
            "_view_module_version": "1.2.0",
            "grid_template_areas": null,
            "object_position": null,
            "object_fit": null,
            "grid_auto_columns": null,
            "margin": null,
            "display": null,
            "left": null
          }
        },
        "280958c457f746738f8a75c70d69b463": {
          "model_module": "@jupyter-widgets/controls",
          "model_name": "FloatProgressModel",
          "state": {
            "_view_name": "ProgressView",
            "style": "IPY_MODEL_f7b3f6914a5a49e39ffbfe57e06b6b64",
            "_dom_classes": [],
            "description": "100%",
            "_model_name": "FloatProgressModel",
            "bar_style": "success",
            "max": 100,
            "_view_module": "@jupyter-widgets/controls",
            "_model_module_version": "1.5.0",
            "value": 100,
            "_view_count": null,
            "_view_module_version": "1.5.0",
            "orientation": "horizontal",
            "min": 0,
            "description_tooltip": null,
            "_model_module": "@jupyter-widgets/controls",
            "layout": "IPY_MODEL_92ed2882e16148d190a8e1b8f0efb055"
          }
        },
        "9741230bcbb84998baf0d54c28fd3b80": {
          "model_module": "@jupyter-widgets/controls",
          "model_name": "HTMLModel",
          "state": {
            "_view_name": "HTMLView",
            "style": "IPY_MODEL_e2b109840b67467587c94e370d7d8cfa",
            "_dom_classes": [],
            "description": "",
            "_model_name": "HTMLModel",
            "placeholder": "​",
            "_view_module": "@jupyter-widgets/controls",
            "_model_module_version": "1.5.0",
            "value": " 100/100 [00:34&lt;00:00,  2.92it/s]",
            "_view_count": null,
            "_view_module_version": "1.5.0",
            "description_tooltip": null,
            "_model_module": "@jupyter-widgets/controls",
            "layout": "IPY_MODEL_27497f28db7f44148fff4d5d71e9bd3b"
          }
        },
        "f7b3f6914a5a49e39ffbfe57e06b6b64": {
          "model_module": "@jupyter-widgets/controls",
          "model_name": "ProgressStyleModel",
          "state": {
            "_view_name": "StyleView",
            "_model_name": "ProgressStyleModel",
            "description_width": "initial",
            "_view_module": "@jupyter-widgets/base",
            "_model_module_version": "1.5.0",
            "_view_count": null,
            "_view_module_version": "1.2.0",
            "bar_color": null,
            "_model_module": "@jupyter-widgets/controls"
          }
        },
        "92ed2882e16148d190a8e1b8f0efb055": {
          "model_module": "@jupyter-widgets/base",
          "model_name": "LayoutModel",
          "state": {
            "_view_name": "LayoutView",
            "grid_template_rows": null,
            "right": null,
            "justify_content": null,
            "_view_module": "@jupyter-widgets/base",
            "overflow": null,
            "_model_module_version": "1.2.0",
            "_view_count": null,
            "flex_flow": null,
            "width": null,
            "min_width": null,
            "border": null,
            "align_items": null,
            "bottom": null,
            "_model_module": "@jupyter-widgets/base",
            "top": null,
            "grid_column": null,
            "overflow_y": null,
            "overflow_x": null,
            "grid_auto_flow": null,
            "grid_area": null,
            "grid_template_columns": null,
            "flex": null,
            "_model_name": "LayoutModel",
            "justify_items": null,
            "grid_row": null,
            "max_height": null,
            "align_content": null,
            "visibility": null,
            "align_self": null,
            "height": null,
            "min_height": null,
            "padding": null,
            "grid_auto_rows": null,
            "grid_gap": null,
            "max_width": null,
            "order": null,
            "_view_module_version": "1.2.0",
            "grid_template_areas": null,
            "object_position": null,
            "object_fit": null,
            "grid_auto_columns": null,
            "margin": null,
            "display": null,
            "left": null
          }
        },
        "e2b109840b67467587c94e370d7d8cfa": {
          "model_module": "@jupyter-widgets/controls",
          "model_name": "DescriptionStyleModel",
          "state": {
            "_view_name": "StyleView",
            "_model_name": "DescriptionStyleModel",
            "description_width": "",
            "_view_module": "@jupyter-widgets/base",
            "_model_module_version": "1.5.0",
            "_view_count": null,
            "_view_module_version": "1.2.0",
            "_model_module": "@jupyter-widgets/controls"
          }
        },
        "27497f28db7f44148fff4d5d71e9bd3b": {
          "model_module": "@jupyter-widgets/base",
          "model_name": "LayoutModel",
          "state": {
            "_view_name": "LayoutView",
            "grid_template_rows": null,
            "right": null,
            "justify_content": null,
            "_view_module": "@jupyter-widgets/base",
            "overflow": null,
            "_model_module_version": "1.2.0",
            "_view_count": null,
            "flex_flow": null,
            "width": null,
            "min_width": null,
            "border": null,
            "align_items": null,
            "bottom": null,
            "_model_module": "@jupyter-widgets/base",
            "top": null,
            "grid_column": null,
            "overflow_y": null,
            "overflow_x": null,
            "grid_auto_flow": null,
            "grid_area": null,
            "grid_template_columns": null,
            "flex": null,
            "_model_name": "LayoutModel",
            "justify_items": null,
            "grid_row": null,
            "max_height": null,
            "align_content": null,
            "visibility": null,
            "align_self": null,
            "height": null,
            "min_height": null,
            "padding": null,
            "grid_auto_rows": null,
            "grid_gap": null,
            "max_width": null,
            "order": null,
            "_view_module_version": "1.2.0",
            "grid_template_areas": null,
            "object_position": null,
            "object_fit": null,
            "grid_auto_columns": null,
            "margin": null,
            "display": null,
            "left": null
          }
        }
      }
    }
  },
  "cells": [
    {
      "cell_type": "markdown",
      "metadata": {
        "id": "view-in-github",
        "colab_type": "text"
      },
      "source": [
        "<a href=\"https://colab.research.google.com/github/jai2shan/TSAI-EVA40-Assignments/blob/master/Session%2011/Assignment%2011%20-%20Model%20Architecture.ipynb\" target=\"_parent\"><img src=\"https://colab.research.google.com/assets/colab-badge.svg\" alt=\"Open In Colab\"/></a>"
      ]
    },
    {
      "cell_type": "code",
      "metadata": {
        "id": "KzSQr9ClCZY2",
        "colab_type": "code",
        "colab": {
          "base_uri": "https://localhost:8080/",
          "height": 134
        },
        "outputId": "54c2c530-50f4-4bf2-bc2c-e2f6df735801"
      },
      "source": [
        "import os\n",
        "os.chdir(r'/content')\n",
        "!git clone https://github.com/jai2shan/TSAI-EVA40-Assignments.git\n",
        "import os\n",
        "os.chdir(r'/content/TSAI-EVA40-Assignments/Session 11/asgnmt11')"
      ],
      "execution_count": 1,
      "outputs": [
        {
          "output_type": "stream",
          "text": [
            "Cloning into 'TSAI-EVA40-Assignments'...\n",
            "remote: Enumerating objects: 97, done.\u001b[K\n",
            "remote: Counting objects:   1% (1/97)\u001b[K\rremote: Counting objects:   2% (2/97)\u001b[K\rremote: Counting objects:   3% (3/97)\u001b[K\rremote: Counting objects:   4% (4/97)\u001b[K\rremote: Counting objects:   5% (5/97)\u001b[K\rremote: Counting objects:   6% (6/97)\u001b[K\rremote: Counting objects:   7% (7/97)\u001b[K\rremote: Counting objects:   8% (8/97)\u001b[K\rremote: Counting objects:   9% (9/97)\u001b[K\rremote: Counting objects:  10% (10/97)\u001b[K\rremote: Counting objects:  11% (11/97)\u001b[K\rremote: Counting objects:  12% (12/97)\u001b[K\rremote: Counting objects:  13% (13/97)\u001b[K\rremote: Counting objects:  14% (14/97)\u001b[K\rremote: Counting objects:  15% (15/97)\u001b[K\rremote: Counting objects:  16% (16/97)\u001b[K\rremote: Counting objects:  17% (17/97)\u001b[K\rremote: Counting objects:  18% (18/97)\u001b[K\rremote: Counting objects:  19% (19/97)\u001b[K\rremote: Counting objects:  20% (20/97)\u001b[K\rremote: Counting objects:  21% (21/97)\u001b[K\rremote: Counting objects:  22% (22/97)\u001b[K\rremote: Counting objects:  23% (23/97)\u001b[K\rremote: Counting objects:  24% (24/97)\u001b[K\rremote: Counting objects:  25% (25/97)\u001b[K\rremote: Counting objects:  26% (26/97)\u001b[K\rremote: Counting objects:  27% (27/97)\u001b[K\rremote: Counting objects:  28% (28/97)\u001b[K\rremote: Counting objects:  29% (29/97)\u001b[K\rremote: Counting objects:  30% (30/97)\u001b[K\rremote: Counting objects:  31% (31/97)\u001b[K\rremote: Counting objects:  32% (32/97)\u001b[K\rremote: Counting objects:  34% (33/97)\u001b[K\rremote: Counting objects:  35% (34/97)\u001b[K\rremote: Counting objects:  36% (35/97)\u001b[K\rremote: Counting objects:  37% (36/97)\u001b[K\rremote: Counting objects:  38% (37/97)\u001b[K\rremote: Counting objects:  39% (38/97)\u001b[K\rremote: Counting objects:  40% (39/97)\u001b[K\rremote: Counting objects:  41% (40/97)\u001b[K\rremote: Counting objects:  42% (41/97)\u001b[K\rremote: Counting objects:  43% (42/97)\u001b[K\rremote: Counting objects:  44% (43/97)\u001b[K\rremote: Counting objects:  45% (44/97)\u001b[K\rremote: Counting objects:  46% (45/97)\u001b[K\rremote: Counting objects:  47% (46/97)\u001b[K\rremote: Counting objects:  48% (47/97)\u001b[K\rremote: Counting objects:  49% (48/97)\u001b[K\rremote: Counting objects:  50% (49/97)\u001b[K\rremote: Counting objects:  51% (50/97)\u001b[K\rremote: Counting objects:  52% (51/97)\u001b[K\rremote: Counting objects:  53% (52/97)\u001b[K\rremote: Counting objects:  54% (53/97)\u001b[K\rremote: Counting objects:  55% (54/97)\u001b[K\rremote: Counting objects:  56% (55/97)\u001b[K\rremote: Counting objects:  57% (56/97)\u001b[K\rremote: Counting objects:  58% (57/97)\u001b[K\rremote: Counting objects:  59% (58/97)\u001b[K\rremote: Counting objects:  60% (59/97)\u001b[K\rremote: Counting objects:  61% (60/97)\u001b[K\rremote: Counting objects:  62% (61/97)\u001b[K\rremote: Counting objects:  63% (62/97)\u001b[K\rremote: Counting objects:  64% (63/97)\u001b[K\rremote: Counting objects:  65% (64/97)\u001b[K\rremote: Counting objects:  67% (65/97)\u001b[K\rremote: Counting objects:  68% (66/97)\u001b[K\rremote: Counting objects:  69% (67/97)\u001b[K\rremote: Counting objects:  70% (68/97)\u001b[K\rremote: Counting objects:  71% (69/97)\u001b[K\rremote: Counting objects:  72% (70/97)\u001b[K\rremote: Counting objects:  73% (71/97)\u001b[K\rremote: Counting objects:  74% (72/97)\u001b[K\rremote: Counting objects:  75% (73/97)\u001b[K\rremote: Counting objects:  76% (74/97)\u001b[K\rremote: Counting objects:  77% (75/97)\u001b[K\rremote: Counting objects:  78% (76/97)\u001b[K\rremote: Counting objects:  79% (77/97)\u001b[K\rremote: Counting objects:  80% (78/97)\u001b[K\rremote: Counting objects:  81% (79/97)\u001b[K\rremote: Counting objects:  82% (80/97)\u001b[K\rremote: Counting objects:  83% (81/97)\u001b[K\rremote: Counting objects:  84% (82/97)\u001b[K\rremote: Counting objects:  85% (83/97)\u001b[K\rremote: Counting objects:  86% (84/97)\u001b[K\rremote: Counting objects:  87% (85/97)\u001b[K\rremote: Counting objects:  88% (86/97)\u001b[K\rremote: Counting objects:  89% (87/97)\u001b[K\rremote: Counting objects:  90% (88/97)\u001b[K\rremote: Counting objects:  91% (89/97)\u001b[K\rremote: Counting objects:  92% (90/97)\u001b[K\rremote: Counting objects:  93% (91/97)\u001b[K\rremote: Counting objects:  94% (92/97)\u001b[K\rremote: Counting objects:  95% (93/97)\u001b[K\rremote: Counting objects:  96% (94/97)\u001b[K\rremote: Counting objects:  97% (95/97)\u001b[K\rremote: Counting objects:  98% (96/97)\u001b[K\rremote: Counting objects: 100% (97/97)\u001b[K\rremote: Counting objects: 100% (97/97), done.\u001b[K\n",
            "remote: Compressing objects:   1% (1/87)\u001b[K\rremote: Compressing objects:   2% (2/87)\u001b[K\rremote: Compressing objects:   3% (3/87)\u001b[K\rremote: Compressing objects:   4% (4/87)\u001b[K\rremote: Compressing objects:   5% (5/87)\u001b[K\rremote: Compressing objects:   6% (6/87)\u001b[K\rremote: Compressing objects:   8% (7/87)\u001b[K\rremote: Compressing objects:   9% (8/87)\u001b[K\rremote: Compressing objects:  10% (9/87)\u001b[K\rremote: Compressing objects:  11% (10/87)\u001b[K\rremote: Compressing objects:  12% (11/87)\u001b[K\rremote: Compressing objects:  13% (12/87)\u001b[K\rremote: Compressing objects:  14% (13/87)\u001b[K\rremote: Compressing objects:  16% (14/87)\u001b[K\rremote: Compressing objects:  17% (15/87)\u001b[K\rremote: Compressing objects:  18% (16/87)\u001b[K\rremote: Compressing objects:  19% (17/87)\u001b[K\rremote: Compressing objects:  20% (18/87)\u001b[K\rremote: Compressing objects:  21% (19/87)\u001b[K\rremote: Compressing objects:  22% (20/87)\u001b[K\rremote: Compressing objects:  24% (21/87)\u001b[K\rremote: Compressing objects:  25% (22/87)\u001b[K\rremote: Compressing objects:  26% (23/87)\u001b[K\rremote: Compressing objects:  27% (24/87)\u001b[K\rremote: Compressing objects:  28% (25/87)\u001b[K\rremote: Compressing objects:  29% (26/87)\u001b[K\rremote: Compressing objects:  31% (27/87)\u001b[K\rremote: Compressing objects:  32% (28/87)\u001b[K\rremote: Compressing objects:  33% (29/87)\u001b[K\rremote: Compressing objects:  34% (30/87)\u001b[K\rremote: Compressing objects:  35% (31/87)\u001b[K\rremote: Compressing objects:  36% (32/87)\u001b[K\rremote: Compressing objects:  37% (33/87)\u001b[K\rremote: Compressing objects:  39% (34/87)\u001b[K\rremote: Compressing objects:  40% (35/87)\u001b[K\rremote: Compressing objects:  41% (36/87)\u001b[K\rremote: Compressing objects:  42% (37/87)\u001b[K\rremote: Compressing objects:  43% (38/87)\u001b[K\rremote: Compressing objects:  44% (39/87)\u001b[K\rremote: Compressing objects:  45% (40/87)\u001b[K\rremote: Compressing objects:  47% (41/87)\u001b[K\rremote: Compressing objects:  48% (42/87)\u001b[K\rremote: Compressing objects:  49% (43/87)\u001b[K\rremote: Compressing objects:  50% (44/87)\u001b[K\rremote: Compressing objects:  51% (45/87)\u001b[K\rremote: Compressing objects:  52% (46/87)\u001b[K\rremote: Compressing objects:  54% (47/87)\u001b[K\rremote: Compressing objects:  55% (48/87)\u001b[K\rremote: Compressing objects:  56% (49/87)\u001b[K\rremote: Compressing objects:  57% (50/87)\u001b[K\rremote: Compressing objects:  58% (51/87)\u001b[K\rremote: Compressing objects:  59% (52/87)\u001b[K\rremote: Compressing objects:  60% (53/87)\u001b[K\rremote: Compressing objects:  62% (54/87)\u001b[K\rremote: Compressing objects:  63% (55/87)\u001b[K\rremote: Compressing objects:  64% (56/87)\u001b[K\rremote: Compressing objects:  65% (57/87)\u001b[K\rremote: Compressing objects:  66% (58/87)\u001b[K\rremote: Compressing objects:  67% (59/87)\u001b[K\rremote: Compressing objects:  68% (60/87)\u001b[K\rremote: Compressing objects:  70% (61/87)\u001b[K\rremote: Compressing objects:  71% (62/87)\u001b[K\rremote: Compressing objects:  72% (63/87)\u001b[K\rremote: Compressing objects:  73% (64/87)\u001b[K\rremote: Compressing objects:  74% (65/87)\u001b[K\rremote: Compressing objects:  75% (66/87)\u001b[K\rremote: Compressing objects:  77% (67/87)\u001b[K\rremote: Compressing objects:  78% (68/87)\u001b[K\rremote: Compressing objects:  79% (69/87)\u001b[K\rremote: Compressing objects:  80% (70/87)\u001b[K\rremote: Compressing objects:  81% (71/87)\u001b[K\rremote: Compressing objects:  82% (72/87)\u001b[K\rremote: Compressing objects:  83% (73/87)\u001b[K\rremote: Compressing objects:  85% (74/87)\u001b[K\rremote: Compressing objects:  86% (75/87)\u001b[K\rremote: Compressing objects:  87% (76/87)\u001b[K\rremote: Compressing objects:  88% (77/87)\u001b[K\rremote: Compressing objects:  89% (78/87)\u001b[K\rremote: Compressing objects:  90% (79/87)\u001b[K\rremote: Compressing objects:  91% (80/87)\u001b[K\rremote: Compressing objects:  93% (81/87)\u001b[K\rremote: Compressing objects:  94% (82/87)\u001b[K\rremote: Compressing objects:  95% (83/87)\u001b[K\rremote: Compressing objects:  96% (84/87)\u001b[K\rremote: Compressing objects:  97% (85/87)\u001b[K\rremote: Compressing objects:  98% (86/87)\u001b[K\rremote: Compressing objects: 100% (87/87)\u001b[K\rremote: Compressing objects: 100% (87/87), done.\u001b[K\n",
            "Receiving objects:   0% (1/933)   \rReceiving objects:   1% (10/933)   \rReceiving objects:   2% (19/933)   \rReceiving objects:   3% (28/933)   \rReceiving objects:   4% (38/933)   \rReceiving objects:   5% (47/933)   \rReceiving objects:   6% (56/933)   \rReceiving objects:   7% (66/933)   \rReceiving objects:   8% (75/933)   \rReceiving objects:   9% (84/933)   \rReceiving objects:  10% (94/933)   \rReceiving objects:  11% (103/933)   \rReceiving objects:  12% (112/933)   \rReceiving objects:  13% (122/933)   \rReceiving objects:  14% (131/933)   \rReceiving objects:  15% (140/933)   \rReceiving objects:  16% (150/933)   \rReceiving objects:  17% (159/933)   \rReceiving objects:  18% (168/933)   \rReceiving objects:  19% (178/933)   \rReceiving objects:  20% (187/933)   \rReceiving objects:  21% (196/933)   \rReceiving objects:  22% (206/933)   \rReceiving objects:  23% (215/933)   \rReceiving objects:  24% (224/933)   \rReceiving objects:  25% (234/933)   \rReceiving objects:  26% (243/933)   \rReceiving objects:  27% (252/933)   \rReceiving objects:  28% (262/933)   \rReceiving objects:  29% (271/933)   \rReceiving objects:  30% (280/933)   \rReceiving objects:  31% (290/933)   \rReceiving objects:  32% (299/933)   \rReceiving objects:  33% (308/933)   \rReceiving objects:  34% (318/933)   \rReceiving objects:  35% (327/933)   \rReceiving objects:  36% (336/933)   \rReceiving objects:  37% (346/933)   \rReceiving objects:  38% (355/933)   \rReceiving objects:  39% (364/933)   \rReceiving objects:  40% (374/933)   \rReceiving objects:  41% (383/933)   \rReceiving objects:  42% (392/933)   \rReceiving objects:  43% (402/933)   \rReceiving objects:  44% (411/933)   \rReceiving objects:  45% (420/933)   \rReceiving objects:  46% (430/933)   \rReceiving objects:  47% (439/933)   \rReceiving objects:  48% (448/933)   \rReceiving objects:  49% (458/933)   \rReceiving objects:  50% (467/933)   \rReceiving objects:  51% (476/933)   \rReceiving objects:  52% (486/933)   \rReceiving objects:  53% (495/933)   \rReceiving objects:  54% (504/933)   \rReceiving objects:  55% (514/933)   \rReceiving objects:  56% (523/933)   \rReceiving objects:  57% (532/933)   \rReceiving objects:  58% (542/933)   \rReceiving objects:  59% (551/933)   \rReceiving objects:  60% (560/933)   \rReceiving objects:  61% (570/933)   \rReceiving objects:  62% (579/933)   \rReceiving objects:  63% (588/933)   \rReceiving objects:  64% (598/933)   \rReceiving objects:  65% (607/933)   \rReceiving objects:  66% (616/933)   \rReceiving objects:  67% (626/933)   \rReceiving objects:  68% (635/933)   \rReceiving objects:  69% (644/933)   \rReceiving objects:  69% (653/933), 16.02 MiB | 16.01 MiB/s   \rReceiving objects:  70% (654/933), 16.02 MiB | 16.01 MiB/s   \rReceiving objects:  71% (663/933), 16.02 MiB | 16.01 MiB/s   \rReceiving objects:  72% (672/933), 16.02 MiB | 16.01 MiB/s   \rReceiving objects:  73% (682/933), 16.02 MiB | 16.01 MiB/s   \rReceiving objects:  74% (691/933), 16.02 MiB | 16.01 MiB/s   \rReceiving objects:  75% (700/933), 16.02 MiB | 16.01 MiB/s   \rReceiving objects:  76% (710/933), 16.02 MiB | 16.01 MiB/s   \rReceiving objects:  77% (719/933), 16.02 MiB | 16.01 MiB/s   \rReceiving objects:  78% (728/933), 16.02 MiB | 16.01 MiB/s   \rReceiving objects:  79% (738/933), 16.02 MiB | 16.01 MiB/s   \rReceiving objects:  80% (747/933), 16.02 MiB | 16.01 MiB/s   \rReceiving objects:  81% (756/933), 16.02 MiB | 16.01 MiB/s   \rReceiving objects:  82% (766/933), 16.02 MiB | 16.01 MiB/s   \rReceiving objects:  83% (775/933), 16.02 MiB | 16.01 MiB/s   \rReceiving objects:  84% (784/933), 16.02 MiB | 16.01 MiB/s   \rReceiving objects:  85% (794/933), 16.02 MiB | 16.01 MiB/s   \rReceiving objects:  86% (803/933), 16.02 MiB | 16.01 MiB/s   \rReceiving objects:  87% (812/933), 16.02 MiB | 16.01 MiB/s   \rReceiving objects:  88% (822/933), 16.02 MiB | 16.01 MiB/s   \rReceiving objects:  89% (831/933), 16.02 MiB | 16.01 MiB/s   \rReceiving objects:  90% (840/933), 16.02 MiB | 16.01 MiB/s   \rReceiving objects:  91% (850/933), 16.02 MiB | 16.01 MiB/s   \rremote: Total 933 (delta 69), reused 16 (delta 10), pack-reused 836\u001b[K\n",
            "Receiving objects: 100% (933/933), 25.12 MiB | 20.71 MiB/s, done.\n",
            "Resolving deltas: 100% (534/534), done.\n"
          ],
          "name": "stdout"
        }
      ]
    },
    {
      "cell_type": "code",
      "metadata": {
        "id": "mposALb_CjdZ",
        "colab_type": "code",
        "colab": {}
      },
      "source": [
        "from torchvision import transforms\n",
        "from DataLoader import cifar_data_loader,View_images\n",
        "import torch\n",
        "from torchsummary import summary\n",
        "from assignment11_model import Net\n",
        "\n",
        "from LR_Finder_acc import *\n",
        "from LR_Min_Max import *\n",
        "from Training_Testing import TrainTest\n",
        "import torch.optim as optim\n",
        "import torch.nn as nn\n",
        "from torch.optim.lr_scheduler import StepLR\n",
        "from ModelPerformance import *\n",
        "from gradcam import GradCamDisplay\n",
        "import PIL\n",
        "from gradcam import *\n",
        "import copy"
      ],
      "execution_count": 0,
      "outputs": []
    },
    {
      "cell_type": "code",
      "metadata": {
        "id": "pjCi6GErfFig",
        "colab_type": "code",
        "outputId": "35c98dfd-00df-41b4-8fbf-bbcce06f782a",
        "colab": {
          "base_uri": "https://localhost:8080/",
          "height": 99,
          "referenced_widgets": [
            "018884ac139e405ca8aa043a63f2f29a",
            "8d2dffd1366944a98057d2e62ec93ea0",
            "2960aca080c244009aedeea8f16bddfa",
            "d3b37861ccc64814aeb656af209fe0fa",
            "aae0a45559284332940d3aac2842aa05",
            "464e2ea13a814cf9a49d83a64a2d1afd",
            "1eba64d3d56b4a7c9fb9cbd76d6b9524",
            "4a7eb0157d4c432c9a7db88843c219e1"
          ]
        }
      },
      "source": [
        "### Data Loading\n",
        "trainloader,testloader = cifar_data_loader(BatchSize=512)"
      ],
      "execution_count": 3,
      "outputs": [
        {
          "output_type": "stream",
          "text": [
            "Downloading https://www.cs.toronto.edu/~kriz/cifar-10-python.tar.gz to ./data/cifar-10-python.tar.gz\n"
          ],
          "name": "stdout"
        },
        {
          "output_type": "display_data",
          "data": {
            "application/vnd.jupyter.widget-view+json": {
              "model_id": "018884ac139e405ca8aa043a63f2f29a",
              "version_minor": 0,
              "version_major": 2
            },
            "text/plain": [
              "HBox(children=(FloatProgress(value=1.0, bar_style='info', max=1.0), HTML(value='')))"
            ]
          },
          "metadata": {
            "tags": []
          }
        },
        {
          "output_type": "stream",
          "text": [
            "Extracting ./data/cifar-10-python.tar.gz to ./data\n",
            "Files already downloaded and verified\n"
          ],
          "name": "stdout"
        }
      ]
    },
    {
      "cell_type": "code",
      "metadata": {
        "id": "ZqgWSdxkfvU1",
        "colab_type": "code",
        "outputId": "bc9e98d6-38c0-4e06-cd79-89fe21540629",
        "colab": {
          "base_uri": "https://localhost:8080/",
          "height": 739
        }
      },
      "source": [
        "use_cuda = torch.cuda.is_available()\n",
        "device = torch.device(\"cuda\" if use_cuda else \"cpu\")\n",
        "print(device)\n",
        "\n",
        "net = Net().to(device)\n",
        "summary(net, input_size=(3,32,32))"
      ],
      "execution_count": 4,
      "outputs": [
        {
          "output_type": "stream",
          "text": [
            "cuda\n",
            "----------------------------------------------------------------\n",
            "        Layer (type)               Output Shape         Param #\n",
            "================================================================\n",
            "            Conv2d-1           [-1, 64, 32, 32]           1,728\n",
            "              ReLU-2           [-1, 64, 32, 32]               0\n",
            "       BatchNorm2d-3           [-1, 64, 32, 32]             128\n",
            "            Conv2d-4          [-1, 128, 32, 32]          73,728\n",
            "         MaxPool2d-5          [-1, 128, 16, 16]               0\n",
            "       BatchNorm2d-6          [-1, 128, 16, 16]             256\n",
            "              ReLU-7          [-1, 128, 16, 16]               0\n",
            "            Conv2d-8          [-1, 128, 16, 16]         147,456\n",
            "       BatchNorm2d-9          [-1, 128, 16, 16]             256\n",
            "             ReLU-10          [-1, 128, 16, 16]               0\n",
            "           Conv2d-11          [-1, 128, 16, 16]         147,456\n",
            "      BatchNorm2d-12          [-1, 128, 16, 16]             256\n",
            "             ReLU-13          [-1, 128, 16, 16]               0\n",
            "           Conv2d-14          [-1, 256, 16, 16]         294,912\n",
            "        MaxPool2d-15            [-1, 256, 8, 8]               0\n",
            "      BatchNorm2d-16            [-1, 256, 8, 8]             512\n",
            "             ReLU-17            [-1, 256, 8, 8]               0\n",
            "           Conv2d-18            [-1, 512, 8, 8]       1,179,648\n",
            "        MaxPool2d-19            [-1, 512, 4, 4]               0\n",
            "      BatchNorm2d-20            [-1, 512, 4, 4]           1,024\n",
            "             ReLU-21            [-1, 512, 4, 4]               0\n",
            "           Conv2d-22            [-1, 512, 4, 4]       2,359,296\n",
            "      BatchNorm2d-23            [-1, 512, 4, 4]           1,024\n",
            "             ReLU-24            [-1, 512, 4, 4]               0\n",
            "           Conv2d-25            [-1, 512, 4, 4]       2,359,296\n",
            "      BatchNorm2d-26            [-1, 512, 4, 4]           1,024\n",
            "             ReLU-27            [-1, 512, 4, 4]               0\n",
            "        MaxPool2d-28            [-1, 512, 1, 1]               0\n",
            "           Conv2d-29             [-1, 10, 1, 1]           5,120\n",
            "================================================================\n",
            "Total params: 6,573,120\n",
            "Trainable params: 6,573,120\n",
            "Non-trainable params: 0\n",
            "----------------------------------------------------------------\n",
            "Input size (MB): 0.01\n",
            "Forward/backward pass size (MB): 6.44\n",
            "Params size (MB): 25.07\n",
            "Estimated Total Size (MB): 31.53\n",
            "----------------------------------------------------------------\n"
          ],
          "name": "stdout"
        }
      ]
    },
    {
      "cell_type": "markdown",
      "metadata": {
        "id": "LzH6N1U6UFrm",
        "colab_type": "text"
      },
      "source": [
        "## Estimating LR Max"
      ]
    },
    {
      "cell_type": "code",
      "metadata": {
        "id": "QlamRWwkkHet",
        "colab_type": "code",
        "outputId": "722cc539-2ef1-405c-ab24-80b4902ff566",
        "colab": {
          "base_uri": "https://localhost:8080/",
          "height": 386,
          "referenced_widgets": [
            "870724e6a44b4c01a7034e282eeb2719",
            "48e929f71b6547e684c86d396c3c1245",
            "280958c457f746738f8a75c70d69b463",
            "9741230bcbb84998baf0d54c28fd3b80",
            "f7b3f6914a5a49e39ffbfe57e06b6b64",
            "92ed2882e16148d190a8e1b8f0efb055",
            "e2b109840b67467587c94e370d7d8cfa",
            "27497f28db7f44148fff4d5d71e9bd3b"
          ]
        }
      },
      "source": [
        "lr_max = LR_Max(net,trainloader,1e-4,0.1,iters = 100,mode = 'linear')\n",
        "lr_max"
      ],
      "execution_count": 5,
      "outputs": [
        {
          "output_type": "display_data",
          "data": {
            "application/vnd.jupyter.widget-view+json": {
              "model_id": "870724e6a44b4c01a7034e282eeb2719",
              "version_minor": 0,
              "version_major": 2
            },
            "text/plain": [
              "HBox(children=(FloatProgress(value=0.0), HTML(value='')))"
            ]
          },
          "metadata": {
            "tags": []
          }
        },
        {
          "output_type": "stream",
          "text": [
            "\n",
            "Learning rate search finished. See the graph with {finder_name}.plot()\n"
          ],
          "name": "stdout"
        },
        {
          "output_type": "display_data",
          "data": {
            "image/png": "[encoded data removed]",
            "text/plain": [
              "<Figure size 432x288 with 1 Axes>"
            ]
          },
          "metadata": {
            "tags": [],
            "needs_background": "light"
          }
        },
        {
          "output_type": "execute_result",
          "data": {
            "text/plain": [
              "53    0.053582\n",
              "Name: lr, dtype: float64"
            ]
          },
          "metadata": {
            "tags": []
          },
          "execution_count": 5
        }
      ]
    },
    {
      "cell_type": "markdown",
      "metadata": {
        "id": "gDQ9TaYGUM6u",
        "colab_type": "text"
      },
      "source": [
        "## Estimating LR Min\n"
      ]
    },
    {
      "cell_type": "code",
      "metadata": {
        "id": "lM73L8MtH8LP",
        "colab_type": "code",
        "colab": {
          "base_uri": "https://localhost:8080/",
          "height": 1000
        },
        "outputId": "8d0b74c1-dfba-4bb9-973c-83dc90165728"
      },
      "source": [
        "lr_min =  LR_Min(trainloader,lr_max)"
      ],
      "execution_count": 6,
      "outputs": [
        {
          "output_type": "stream",
          "text": [
            "\r  0%|          | 0/98 [00:00<?, ?it/s]"
          ],
          "name": "stderr"
        },
        {
          "output_type": "stream",
          "text": [
            "EPOCH: 0\n"
          ],
          "name": "stdout"
        },
        {
          "output_type": "stream",
          "text": [
            "Loss=2.03285813331604 Batch_id=97 Accuracy=16.58: 100%|██████████| 98/98 [00:34<00:00,  2.88it/s]\n",
            "  0%|          | 0/98 [00:00<?, ?it/s]"
          ],
          "name": "stderr"
        },
        {
          "output_type": "stream",
          "text": [
            "EPOCH: 1\n"
          ],
          "name": "stdout"
        },
        {
          "output_type": "stream",
          "text": [
            "Loss=1.6864758729934692 Batch_id=97 Accuracy=32.09: 100%|██████████| 98/98 [00:33<00:00,  2.89it/s]\n",
            "  0%|          | 0/98 [00:00<?, ?it/s]"
          ],
          "name": "stderr"
        },
        {
          "output_type": "stream",
          "text": [
            "EPOCH: 2\n"
          ],
          "name": "stdout"
        },
        {
          "output_type": "stream",
          "text": [
            "Loss=1.4537736177444458 Batch_id=97 Accuracy=42.25: 100%|██████████| 98/98 [00:34<00:00,  2.87it/s]\n",
            "  0%|          | 0/98 [00:00<?, ?it/s]"
          ],
          "name": "stderr"
        },
        {
          "output_type": "stream",
          "text": [
            "EPOCH: 3\n"
          ],
          "name": "stdout"
        },
        {
          "output_type": "stream",
          "text": [
            "Loss=1.2626445293426514 Batch_id=97 Accuracy=48.51: 100%|██████████| 98/98 [00:34<00:00,  2.87it/s]\n",
            "  0%|          | 0/98 [00:00<?, ?it/s]"
          ],
          "name": "stderr"
        },
        {
          "output_type": "stream",
          "text": [
            "EPOCH: 4\n"
          ],
          "name": "stdout"
        },
        {
          "output_type": "stream",
          "text": [
            "Loss=1.352846384048462 Batch_id=97 Accuracy=54.20: 100%|██████████| 98/98 [00:34<00:00,  2.86it/s]\n",
            "  0%|          | 0/98 [00:00<?, ?it/s]"
          ],
          "name": "stderr"
        },
        {
          "output_type": "stream",
          "text": [
            "EPOCH: 0\n"
          ],
          "name": "stdout"
        },
        {
          "output_type": "stream",
          "text": [
            "Loss=2.245150566101074 Batch_id=97 Accuracy=18.53: 100%|██████████| 98/98 [00:34<00:00,  2.88it/s]\n",
            "  0%|          | 0/98 [00:00<?, ?it/s]"
          ],
          "name": "stderr"
        },
        {
          "output_type": "stream",
          "text": [
            "EPOCH: 1\n"
          ],
          "name": "stdout"
        },
        {
          "output_type": "stream",
          "text": [
            "Loss=1.9364467859268188 Batch_id=97 Accuracy=30.43: 100%|██████████| 98/98 [00:34<00:00,  2.85it/s]\n",
            "  0%|          | 0/98 [00:00<?, ?it/s]"
          ],
          "name": "stderr"
        },
        {
          "output_type": "stream",
          "text": [
            "EPOCH: 2\n"
          ],
          "name": "stdout"
        },
        {
          "output_type": "stream",
          "text": [
            "Loss=1.8123681545257568 Batch_id=97 Accuracy=39.77: 100%|██████████| 98/98 [00:34<00:00,  2.87it/s]\n",
            "  0%|          | 0/98 [00:00<?, ?it/s]"
          ],
          "name": "stderr"
        },
        {
          "output_type": "stream",
          "text": [
            "EPOCH: 3\n"
          ],
          "name": "stdout"
        },
        {
          "output_type": "stream",
          "text": [
            "Loss=1.3776859045028687 Batch_id=97 Accuracy=46.40: 100%|██████████| 98/98 [00:34<00:00,  2.87it/s]\n",
            "  0%|          | 0/98 [00:00<?, ?it/s]"
          ],
          "name": "stderr"
        },
        {
          "output_type": "stream",
          "text": [
            "EPOCH: 4\n"
          ],
          "name": "stdout"
        },
        {
          "output_type": "stream",
          "text": [
            "Loss=1.369278907775879 Batch_id=97 Accuracy=51.58: 100%|██████████| 98/98 [00:33<00:00,  2.89it/s]\n",
            "  0%|          | 0/98 [00:00<?, ?it/s]"
          ],
          "name": "stderr"
        },
        {
          "output_type": "stream",
          "text": [
            "EPOCH: 0\n"
          ],
          "name": "stdout"
        },
        {
          "output_type": "stream",
          "text": [
            "Loss=2.0526485443115234 Batch_id=97 Accuracy=22.64: 100%|██████████| 98/98 [00:34<00:00,  2.88it/s]\n",
            "  0%|          | 0/98 [00:00<?, ?it/s]"
          ],
          "name": "stderr"
        },
        {
          "output_type": "stream",
          "text": [
            "EPOCH: 1\n"
          ],
          "name": "stdout"
        },
        {
          "output_type": "stream",
          "text": [
            "Loss=1.5622204542160034 Batch_id=97 Accuracy=38.97: 100%|██████████| 98/98 [00:34<00:00,  2.87it/s]\n",
            "  0%|          | 0/98 [00:00<?, ?it/s]"
          ],
          "name": "stderr"
        },
        {
          "output_type": "stream",
          "text": [
            "EPOCH: 2\n"
          ],
          "name": "stdout"
        },
        {
          "output_type": "stream",
          "text": [
            "Loss=1.424344778060913 Batch_id=97 Accuracy=47.15: 100%|██████████| 98/98 [00:34<00:00,  2.86it/s]\n",
            "  0%|          | 0/98 [00:00<?, ?it/s]"
          ],
          "name": "stderr"
        },
        {
          "output_type": "stream",
          "text": [
            "EPOCH: 3\n"
          ],
          "name": "stdout"
        },
        {
          "output_type": "stream",
          "text": [
            "Loss=1.2371323108673096 Batch_id=97 Accuracy=52.80: 100%|██████████| 98/98 [00:34<00:00,  2.85it/s]\n",
            "  0%|          | 0/98 [00:00<?, ?it/s]"
          ],
          "name": "stderr"
        },
        {
          "output_type": "stream",
          "text": [
            "EPOCH: 4\n"
          ],
          "name": "stdout"
        },
        {
          "output_type": "stream",
          "text": [
            "Loss=1.1275399923324585 Batch_id=97 Accuracy=57.83: 100%|██████████| 98/98 [00:34<00:00,  2.87it/s]\n",
            "  0%|          | 0/98 [00:00<?, ?it/s]"
          ],
          "name": "stderr"
        },
        {
          "output_type": "stream",
          "text": [
            "EPOCH: 0\n"
          ],
          "name": "stdout"
        },
        {
          "output_type": "stream",
          "text": [
            "Loss=1.913208246231079 Batch_id=97 Accuracy=23.98: 100%|██████████| 98/98 [00:34<00:00,  2.84it/s]\n",
            "  0%|          | 0/98 [00:00<?, ?it/s]"
          ],
          "name": "stderr"
        },
        {
          "output_type": "stream",
          "text": [
            "EPOCH: 1\n"
          ],
          "name": "stdout"
        },
        {
          "output_type": "stream",
          "text": [
            "Loss=1.5413416624069214 Batch_id=97 Accuracy=40.67: 100%|██████████| 98/98 [00:34<00:00,  2.86it/s]\n",
            "  0%|          | 0/98 [00:00<?, ?it/s]"
          ],
          "name": "stderr"
        },
        {
          "output_type": "stream",
          "text": [
            "EPOCH: 2\n"
          ],
          "name": "stdout"
        },
        {
          "output_type": "stream",
          "text": [
            "Loss=1.4168506860733032 Batch_id=97 Accuracy=48.21: 100%|██████████| 98/98 [00:34<00:00,  2.86it/s]\n",
            "  0%|          | 0/98 [00:00<?, ?it/s]"
          ],
          "name": "stderr"
        },
        {
          "output_type": "stream",
          "text": [
            "EPOCH: 3\n"
          ],
          "name": "stdout"
        },
        {
          "output_type": "stream",
          "text": [
            "Loss=1.3225911855697632 Batch_id=97 Accuracy=54.43: 100%|██████████| 98/98 [00:33<00:00,  2.89it/s]\n",
            "  0%|          | 0/98 [00:00<?, ?it/s]"
          ],
          "name": "stderr"
        },
        {
          "output_type": "stream",
          "text": [
            "EPOCH: 4\n"
          ],
          "name": "stdout"
        },
        {
          "output_type": "stream",
          "text": [
            "Loss=1.2008074522018433 Batch_id=97 Accuracy=59.07: 100%|██████████| 98/98 [00:34<00:00,  2.88it/s]\n",
            "  0%|          | 0/98 [00:00<?, ?it/s]"
          ],
          "name": "stderr"
        },
        {
          "output_type": "stream",
          "text": [
            "EPOCH: 0\n"
          ],
          "name": "stdout"
        },
        {
          "output_type": "stream",
          "text": [
            "Loss=1.623533844947815 Batch_id=97 Accuracy=28.68: 100%|██████████| 98/98 [00:34<00:00,  2.87it/s]\n",
            "  0%|          | 0/98 [00:00<?, ?it/s]"
          ],
          "name": "stderr"
        },
        {
          "output_type": "stream",
          "text": [
            "EPOCH: 1\n"
          ],
          "name": "stdout"
        },
        {
          "output_type": "stream",
          "text": [
            "Loss=1.5414588451385498 Batch_id=97 Accuracy=43.53: 100%|██████████| 98/98 [00:34<00:00,  2.84it/s]\n",
            "  0%|          | 0/98 [00:00<?, ?it/s]"
          ],
          "name": "stderr"
        },
        {
          "output_type": "stream",
          "text": [
            "EPOCH: 2\n"
          ],
          "name": "stdout"
        },
        {
          "output_type": "stream",
          "text": [
            "Loss=1.2320060729980469 Batch_id=97 Accuracy=50.85: 100%|██████████| 98/98 [00:34<00:00,  2.86it/s]\n",
            "  0%|          | 0/98 [00:00<?, ?it/s]"
          ],
          "name": "stderr"
        },
        {
          "output_type": "stream",
          "text": [
            "EPOCH: 3\n"
          ],
          "name": "stdout"
        },
        {
          "output_type": "stream",
          "text": [
            "Loss=1.0964328050613403 Batch_id=97 Accuracy=55.67: 100%|██████████| 98/98 [00:34<00:00,  2.88it/s]\n",
            "  0%|          | 0/98 [00:00<?, ?it/s]"
          ],
          "name": "stderr"
        },
        {
          "output_type": "stream",
          "text": [
            "EPOCH: 4\n"
          ],
          "name": "stdout"
        },
        {
          "output_type": "stream",
          "text": [
            "Loss=1.0959657430648804 Batch_id=97 Accuracy=59.85: 100%|██████████| 98/98 [00:34<00:00,  2.88it/s]\n",
            "  0%|          | 0/98 [00:00<?, ?it/s]"
          ],
          "name": "stderr"
        },
        {
          "output_type": "stream",
          "text": [
            "EPOCH: 0\n"
          ],
          "name": "stdout"
        },
        {
          "output_type": "stream",
          "text": [
            "Loss=1.6333837509155273 Batch_id=97 Accuracy=27.13: 100%|██████████| 98/98 [00:34<00:00,  2.85it/s]\n",
            "  0%|          | 0/98 [00:00<?, ?it/s]"
          ],
          "name": "stderr"
        },
        {
          "output_type": "stream",
          "text": [
            "EPOCH: 1\n"
          ],
          "name": "stdout"
        },
        {
          "output_type": "stream",
          "text": [
            "Loss=1.4821150302886963 Batch_id=97 Accuracy=43.15: 100%|██████████| 98/98 [00:34<00:00,  2.87it/s]\n",
            "  0%|          | 0/98 [00:00<?, ?it/s]"
          ],
          "name": "stderr"
        },
        {
          "output_type": "stream",
          "text": [
            "EPOCH: 2\n"
          ],
          "name": "stdout"
        },
        {
          "output_type": "stream",
          "text": [
            "Loss=1.2768219709396362 Batch_id=97 Accuracy=51.12: 100%|██████████| 98/98 [00:34<00:00,  2.84it/s]\n",
            "  0%|          | 0/98 [00:00<?, ?it/s]"
          ],
          "name": "stderr"
        },
        {
          "output_type": "stream",
          "text": [
            "EPOCH: 3\n"
          ],
          "name": "stdout"
        },
        {
          "output_type": "stream",
          "text": [
            "Loss=1.171373724937439 Batch_id=97 Accuracy=56.15: 100%|██████████| 98/98 [00:34<00:00,  2.85it/s]\n",
            "  0%|          | 0/98 [00:00<?, ?it/s]"
          ],
          "name": "stderr"
        },
        {
          "output_type": "stream",
          "text": [
            "EPOCH: 4\n"
          ],
          "name": "stdout"
        },
        {
          "output_type": "stream",
          "text": [
            "Loss=1.2728192806243896 Batch_id=97 Accuracy=59.43: 100%|██████████| 98/98 [00:34<00:00,  2.83it/s]\n"
          ],
          "name": "stderr"
        }
      ]
    },
    {
      "cell_type": "code",
      "metadata": {
        "id": "hSN5TRtQLzEb",
        "colab_type": "code",
        "colab": {
          "base_uri": "https://localhost:8080/",
          "height": 34
        },
        "outputId": "71c98efc-6b7e-436b-a92c-f9e7b7c9f1bd"
      },
      "source": [
        "lr_min"
      ],
      "execution_count": 7,
      "outputs": [
        {
          "output_type": "execute_result",
          "data": {
            "text/plain": [
              "0.005358181818181819"
            ]
          },
          "metadata": {
            "tags": []
          },
          "execution_count": 7
        }
      ]
    },
    {
      "cell_type": "code",
      "metadata": {
        "id": "Y0zW1EYQkpgW",
        "colab_type": "code",
        "colab": {}
      },
      "source": [
        ""
      ],
      "execution_count": 0,
      "outputs": []
    },
    {
      "cell_type": "code",
      "metadata": {
        "id": "LSLUibI0k4LL",
        "colab_type": "code",
        "colab": {}
      },
      "source": [
        ""
      ],
      "execution_count": 0,
      "outputs": []
    }
  ]
}