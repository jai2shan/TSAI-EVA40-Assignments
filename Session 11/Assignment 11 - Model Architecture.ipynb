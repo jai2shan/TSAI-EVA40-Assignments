{
  "nbformat": 4,
  "nbformat_minor": 0,
  "metadata": {
    "colab": {
      "name": "Untitled20.ipynb",
      "provenance": [],
      "authorship_tag": "ABX9TyMxpcfGWbeaeohGsTlf+e8h",
      "include_colab_link": true
    },
    "kernelspec": {
      "name": "python3",
      "display_name": "Python 3"
    },
    "accelerator": "GPU",
    "widgets": {
      "application/vnd.jupyter.widget-state+json": {
        "018884ac139e405ca8aa043a63f2f29a": {
          "model_module": "@jupyter-widgets/controls",
          "model_name": "HBoxModel",
          "state": {
            "_view_name": "HBoxView",
            "_dom_classes": [],
            "_model_name": "HBoxModel",
            "_view_module": "@jupyter-widgets/controls",
            "_model_module_version": "1.5.0",
            "_view_count": null,
            "_view_module_version": "1.5.0",
            "box_style": "",
            "layout": "IPY_MODEL_8d2dffd1366944a98057d2e62ec93ea0",
            "_model_module": "@jupyter-widgets/controls",
            "children": [
              "IPY_MODEL_2960aca080c244009aedeea8f16bddfa",
              "IPY_MODEL_d3b37861ccc64814aeb656af209fe0fa"
            ]
          }
        },
        "8d2dffd1366944a98057d2e62ec93ea0": {
          "model_module": "@jupyter-widgets/base",
          "model_name": "LayoutModel",
          "state": {
            "_view_name": "LayoutView",
            "grid_template_rows": null,
            "right": null,
            "justify_content": null,
            "_view_module": "@jupyter-widgets/base",
            "overflow": null,
            "_model_module_version": "1.2.0",
            "_view_count": null,
            "flex_flow": null,
            "width": null,
            "min_width": null,
            "border": null,
            "align_items": null,
            "bottom": null,
            "_model_module": "@jupyter-widgets/base",
            "top": null,
            "grid_column": null,
            "overflow_y": null,
            "overflow_x": null,
            "grid_auto_flow": null,
            "grid_area": null,
            "grid_template_columns": null,
            "flex": null,
            "_model_name": "LayoutModel",
            "justify_items": null,
            "grid_row": null,
            "max_height": null,
            "align_content": null,
            "visibility": null,
            "align_self": null,
            "height": null,
            "min_height": null,
            "padding": null,
            "grid_auto_rows": null,
            "grid_gap": null,
            "max_width": null,
            "order": null,
            "_view_module_version": "1.2.0",
            "grid_template_areas": null,
            "object_position": null,
            "object_fit": null,
            "grid_auto_columns": null,
            "margin": null,
            "display": null,
            "left": null
          }
        },
        "2960aca080c244009aedeea8f16bddfa": {
          "model_module": "@jupyter-widgets/controls",
          "model_name": "FloatProgressModel",
          "state": {
            "_view_name": "ProgressView",
            "style": "IPY_MODEL_aae0a45559284332940d3aac2842aa05",
            "_dom_classes": [],
            "description": "",
            "_model_name": "FloatProgressModel",
            "bar_style": "info",
            "max": 1,
            "_view_module": "@jupyter-widgets/controls",
            "_model_module_version": "1.5.0",
            "value": 1,
            "_view_count": null,
            "_view_module_version": "1.5.0",
            "orientation": "horizontal",
            "min": 0,
            "description_tooltip": null,
            "_model_module": "@jupyter-widgets/controls",
            "layout": "IPY_MODEL_464e2ea13a814cf9a49d83a64a2d1afd"
          }
        },
        "d3b37861ccc64814aeb656af209fe0fa": {
          "model_module": "@jupyter-widgets/controls",
          "model_name": "HTMLModel",
          "state": {
            "_view_name": "HTMLView",
            "style": "IPY_MODEL_1eba64d3d56b4a7c9fb9cbd76d6b9524",
            "_dom_classes": [],
            "description": "",
            "_model_name": "HTMLModel",
            "placeholder": "​",
            "_view_module": "@jupyter-widgets/controls",
            "_model_module_version": "1.5.0",
            "value": " 170500096/? [00:20&lt;00:00, 43664054.99it/s]",
            "_view_count": null,
            "_view_module_version": "1.5.0",
            "description_tooltip": null,
            "_model_module": "@jupyter-widgets/controls",
            "layout": "IPY_MODEL_4a7eb0157d4c432c9a7db88843c219e1"
          }
        },
        "aae0a45559284332940d3aac2842aa05": {
          "model_module": "@jupyter-widgets/controls",
          "model_name": "ProgressStyleModel",
          "state": {
            "_view_name": "StyleView",
            "_model_name": "ProgressStyleModel",
            "description_width": "initial",
            "_view_module": "@jupyter-widgets/base",
            "_model_module_version": "1.5.0",
            "_view_count": null,
            "_view_module_version": "1.2.0",
            "bar_color": null,
            "_model_module": "@jupyter-widgets/controls"
          }
        },
        "464e2ea13a814cf9a49d83a64a2d1afd": {
          "model_module": "@jupyter-widgets/base",
          "model_name": "LayoutModel",
          "state": {
            "_view_name": "LayoutView",
            "grid_template_rows": null,
            "right": null,
            "justify_content": null,
            "_view_module": "@jupyter-widgets/base",
            "overflow": null,
            "_model_module_version": "1.2.0",
            "_view_count": null,
            "flex_flow": null,
            "width": null,
            "min_width": null,
            "border": null,
            "align_items": null,
            "bottom": null,
            "_model_module": "@jupyter-widgets/base",
            "top": null,
            "grid_column": null,
            "overflow_y": null,
            "overflow_x": null,
            "grid_auto_flow": null,
            "grid_area": null,
            "grid_template_columns": null,
            "flex": null,
            "_model_name": "LayoutModel",
            "justify_items": null,
            "grid_row": null,
            "max_height": null,
            "align_content": null,
            "visibility": null,
            "align_self": null,
            "height": null,
            "min_height": null,
            "padding": null,
            "grid_auto_rows": null,
            "grid_gap": null,
            "max_width": null,
            "order": null,
            "_view_module_version": "1.2.0",
            "grid_template_areas": null,
            "object_position": null,
            "object_fit": null,
            "grid_auto_columns": null,
            "margin": null,
            "display": null,
            "left": null
          }
        },
        "1eba64d3d56b4a7c9fb9cbd76d6b9524": {
          "model_module": "@jupyter-widgets/controls",
          "model_name": "DescriptionStyleModel",
          "state": {
            "_view_name": "StyleView",
            "_model_name": "DescriptionStyleModel",
            "description_width": "",
            "_view_module": "@jupyter-widgets/base",
            "_model_module_version": "1.5.0",
            "_view_count": null,
            "_view_module_version": "1.2.0",
            "_model_module": "@jupyter-widgets/controls"
          }
        },
        "4a7eb0157d4c432c9a7db88843c219e1": {
          "model_module": "@jupyter-widgets/base",
          "model_name": "LayoutModel",
          "state": {
            "_view_name": "LayoutView",
            "grid_template_rows": null,
            "right": null,
            "justify_content": null,
            "_view_module": "@jupyter-widgets/base",
            "overflow": null,
            "_model_module_version": "1.2.0",
            "_view_count": null,
            "flex_flow": null,
            "width": null,
            "min_width": null,
            "border": null,
            "align_items": null,
            "bottom": null,
            "_model_module": "@jupyter-widgets/base",
            "top": null,
            "grid_column": null,
            "overflow_y": null,
            "overflow_x": null,
            "grid_auto_flow": null,
            "grid_area": null,
            "grid_template_columns": null,
            "flex": null,
            "_model_name": "LayoutModel",
            "justify_items": null,
            "grid_row": null,
            "max_height": null,
            "align_content": null,
            "visibility": null,
            "align_self": null,
            "height": null,
            "min_height": null,
            "padding": null,
            "grid_auto_rows": null,
            "grid_gap": null,
            "max_width": null,
            "order": null,
            "_view_module_version": "1.2.0",
            "grid_template_areas": null,
            "object_position": null,
            "object_fit": null,
            "grid_auto_columns": null,
            "margin": null,
            "display": null,
            "left": null
          }
        },
        "870724e6a44b4c01a7034e282eeb2719": {
          "model_module": "@jupyter-widgets/controls",
          "model_name": "HBoxModel",
          "state": {
            "_view_name": "HBoxView",
            "_dom_classes": [],
            "_model_name": "HBoxModel",
            "_view_module": "@jupyter-widgets/controls",
            "_model_module_version": "1.5.0",
            "_view_count": null,
            "_view_module_version": "1.5.0",
            "box_style": "",
            "layout": "IPY_MODEL_48e929f71b6547e684c86d396c3c1245",
            "_model_module": "@jupyter-widgets/controls",
            "children": [
              "IPY_MODEL_280958c457f746738f8a75c70d69b463",
              "IPY_MODEL_9741230bcbb84998baf0d54c28fd3b80"
            ]
          }
        },
        "48e929f71b6547e684c86d396c3c1245": {
          "model_module": "@jupyter-widgets/base",
          "model_name": "LayoutModel",
          "state": {
            "_view_name": "LayoutView",
            "grid_template_rows": null,
            "right": null,
            "justify_content": null,
            "_view_module": "@jupyter-widgets/base",
            "overflow": null,
            "_model_module_version": "1.2.0",
            "_view_count": null,
            "flex_flow": null,
            "width": null,
            "min_width": null,
            "border": null,
            "align_items": null,
            "bottom": null,
            "_model_module": "@jupyter-widgets/base",
            "top": null,
            "grid_column": null,
            "overflow_y": null,
            "overflow_x": null,
            "grid_auto_flow": null,
            "grid_area": null,
            "grid_template_columns": null,
            "flex": null,
            "_model_name": "LayoutModel",
            "justify_items": null,
            "grid_row": null,
            "max_height": null,
            "align_content": null,
            "visibility": null,
            "align_self": null,
            "height": null,
            "min_height": null,
            "padding": null,
            "grid_auto_rows": null,
            "grid_gap": null,
            "max_width": null,
            "order": null,
            "_view_module_version": "1.2.0",
            "grid_template_areas": null,
            "object_position": null,
            "object_fit": null,
            "grid_auto_columns": null,
            "margin": null,
            "display": null,
            "left": null
          }
        },
        "280958c457f746738f8a75c70d69b463": {
          "model_module": "@jupyter-widgets/controls",
          "model_name": "FloatProgressModel",
          "state": {
            "_view_name": "ProgressView",
            "style": "IPY_MODEL_f7b3f6914a5a49e39ffbfe57e06b6b64",
            "_dom_classes": [],
            "description": "100%",
            "_model_name": "FloatProgressModel",
            "bar_style": "success",
            "max": 100,
            "_view_module": "@jupyter-widgets/controls",
            "_model_module_version": "1.5.0",
            "value": 100,
            "_view_count": null,
            "_view_module_version": "1.5.0",
            "orientation": "horizontal",
            "min": 0,
            "description_tooltip": null,
            "_model_module": "@jupyter-widgets/controls",
            "layout": "IPY_MODEL_92ed2882e16148d190a8e1b8f0efb055"
          }
        },
        "9741230bcbb84998baf0d54c28fd3b80": {
          "model_module": "@jupyter-widgets/controls",
          "model_name": "HTMLModel",
          "state": {
            "_view_name": "HTMLView",
            "style": "IPY_MODEL_e2b109840b67467587c94e370d7d8cfa",
            "_dom_classes": [],
            "description": "",
            "_model_name": "HTMLModel",
            "placeholder": "​",
            "_view_module": "@jupyter-widgets/controls",
            "_model_module_version": "1.5.0",
            "value": " 100/100 [00:34&lt;00:00,  2.92it/s]",
            "_view_count": null,
            "_view_module_version": "1.5.0",
            "description_tooltip": null,
            "_model_module": "@jupyter-widgets/controls",
            "layout": "IPY_MODEL_27497f28db7f44148fff4d5d71e9bd3b"
          }
        },
        "f7b3f6914a5a49e39ffbfe57e06b6b64": {
          "model_module": "@jupyter-widgets/controls",
          "model_name": "ProgressStyleModel",
          "state": {
            "_view_name": "StyleView",
            "_model_name": "ProgressStyleModel",
            "description_width": "initial",
            "_view_module": "@jupyter-widgets/base",
            "_model_module_version": "1.5.0",
            "_view_count": null,
            "_view_module_version": "1.2.0",
            "bar_color": null,
            "_model_module": "@jupyter-widgets/controls"
          }
        },
        "92ed2882e16148d190a8e1b8f0efb055": {
          "model_module": "@jupyter-widgets/base",
          "model_name": "LayoutModel",
          "state": {
            "_view_name": "LayoutView",
            "grid_template_rows": null,
            "right": null,
            "justify_content": null,
            "_view_module": "@jupyter-widgets/base",
            "overflow": null,
            "_model_module_version": "1.2.0",
            "_view_count": null,
            "flex_flow": null,
            "width": null,
            "min_width": null,
            "border": null,
            "align_items": null,
            "bottom": null,
            "_model_module": "@jupyter-widgets/base",
            "top": null,
            "grid_column": null,
            "overflow_y": null,
            "overflow_x": null,
            "grid_auto_flow": null,
            "grid_area": null,
            "grid_template_columns": null,
            "flex": null,
            "_model_name": "LayoutModel",
            "justify_items": null,
            "grid_row": null,
            "max_height": null,
            "align_content": null,
            "visibility": null,
            "align_self": null,
            "height": null,
            "min_height": null,
            "padding": null,
            "grid_auto_rows": null,
            "grid_gap": null,
            "max_width": null,
            "order": null,
            "_view_module_version": "1.2.0",
            "grid_template_areas": null,
            "object_position": null,
            "object_fit": null,
            "grid_auto_columns": null,
            "margin": null,
            "display": null,
            "left": null
          }
        },
        "e2b109840b67467587c94e370d7d8cfa": {
          "model_module": "@jupyter-widgets/controls",
          "model_name": "DescriptionStyleModel",
          "state": {
            "_view_name": "StyleView",
            "_model_name": "DescriptionStyleModel",
            "description_width": "",
            "_view_module": "@jupyter-widgets/base",
            "_model_module_version": "1.5.0",
            "_view_count": null,
            "_view_module_version": "1.2.0",
            "_model_module": "@jupyter-widgets/controls"
          }
        },
        "27497f28db7f44148fff4d5d71e9bd3b": {
          "model_module": "@jupyter-widgets/base",
          "model_name": "LayoutModel",
          "state": {
            "_view_name": "LayoutView",
            "grid_template_rows": null,
            "right": null,
            "justify_content": null,
            "_view_module": "@jupyter-widgets/base",
            "overflow": null,
            "_model_module_version": "1.2.0",
            "_view_count": null,
            "flex_flow": null,
            "width": null,
            "min_width": null,
            "border": null,
            "align_items": null,
            "bottom": null,
            "_model_module": "@jupyter-widgets/base",
            "top": null,
            "grid_column": null,
            "overflow_y": null,
            "overflow_x": null,
            "grid_auto_flow": null,
            "grid_area": null,
            "grid_template_columns": null,
            "flex": null,
            "_model_name": "LayoutModel",
            "justify_items": null,
            "grid_row": null,
            "max_height": null,
            "align_content": null,
            "visibility": null,
            "align_self": null,
            "height": null,
            "min_height": null,
            "padding": null,
            "grid_auto_rows": null,
            "grid_gap": null,
            "max_width": null,
            "order": null,
            "_view_module_version": "1.2.0",
            "grid_template_areas": null,
            "object_position": null,
            "object_fit": null,
            "grid_auto_columns": null,
            "margin": null,
            "display": null,
            "left": null
          }
        }
      }
    }
  },
  "cells": [
    {
      "cell_type": "markdown",
      "metadata": {
        "id": "view-in-github",
        "colab_type": "text"
      },
      "source": [
        "<a href=\"https://colab.research.google.com/github/jai2shan/TSAI-EVA40-Assignments/blob/master/Session%2011/Assignment%2011%20-%20Model%20Architecture.ipynb\" target=\"_parent\"><img src=\"https://colab.research.google.com/assets/colab-badge.svg\" alt=\"Open In Colab\"/></a>"
      ]
    },
    {
      "cell_type": "code",
      "metadata": {
        "id": "KzSQr9ClCZY2",
        "colab_type": "code",
        "colab": {
          "base_uri": "https://localhost:8080/",
          "height": 134
        },
        "outputId": "54c2c530-50f4-4bf2-bc2c-e2f6df735801"
      },
      "source": [
        "import os\n",
        "os.chdir(r'/content')\n",
        "!git clone https://github.com/jai2shan/TSAI-EVA40-Assignments.git\n",
        "import os\n",
        "os.chdir(r'/content/TSAI-EVA40-Assignments/Session 11/asgnmt11')"
      ],
      "execution_count": 1,
      "outputs": [
        {
          "output_type": "stream",
          "text": [
            "Cloning into 'TSAI-EVA40-Assignments'...\n",
            "remote: Enumerating objects: 97, done.\u001b[K\n",
            "remote: Counting objects:   1% (1/97)\u001b[K\rremote: Counting objects:   2% (2/97)\u001b[K\rremote: Counting objects:   3% (3/97)\u001b[K\rremote: Counting objects:   4% (4/97)\u001b[K\rremote: Counting objects:   5% (5/97)\u001b[K\rremote: Counting objects:   6% (6/97)\u001b[K\rremote: Counting objects:   7% (7/97)\u001b[K\rremote: Counting objects:   8% (8/97)\u001b[K\rremote: Counting objects:   9% (9/97)\u001b[K\rremote: Counting objects:  10% (10/97)\u001b[K\rremote: Counting objects:  11% (11/97)\u001b[K\rremote: Counting objects:  12% (12/97)\u001b[K\rremote: Counting objects:  13% (13/97)\u001b[K\rremote: Counting objects:  14% (14/97)\u001b[K\rremote: Counting objects:  15% (15/97)\u001b[K\rremote: Counting objects:  16% (16/97)\u001b[K\rremote: Counting objects:  17% (17/97)\u001b[K\rremote: Counting objects:  18% (18/97)\u001b[K\rremote: Counting objects:  19% (19/97)\u001b[K\rremote: Counting objects:  20% (20/97)\u001b[K\rremote: Counting objects:  21% (21/97)\u001b[K\rremote: Counting objects:  22% (22/97)\u001b[K\rremote: Counting objects:  23% (23/97)\u001b[K\rremote: Counting objects:  24% (24/97)\u001b[K\rremote: Counting objects:  25% (25/97)\u001b[K\rremote: Counting objects:  26% (26/97)\u001b[K\rremote: Counting objects:  27% (27/97)\u001b[K\rremote: Counting objects:  28% (28/97)\u001b[K\rremote: Counting objects:  29% (29/97)\u001b[K\rremote: Counting objects:  30% (30/97)\u001b[K\rremote: Counting objects:  31% (31/97)\u001b[K\rremote: Counting objects:  32% (32/97)\u001b[K\rremote: Counting objects:  34% (33/97)\u001b[K\rremote: Counting objects:  35% (34/97)\u001b[K\rremote: Counting objects:  36% (35/97)\u001b[K\rremote: Counting objects:  37% (36/97)\u001b[K\rremote: Counting objects:  38% (37/97)\u001b[K\rremote: Counting objects:  39% (38/97)\u001b[K\rremote: Counting objects:  40% (39/97)\u001b[K\rremote: Counting objects:  41% (40/97)\u001b[K\rremote: Counting objects:  42% (41/97)\u001b[K\rremote: Counting objects:  43% (42/97)\u001b[K\rremote: Counting objects:  44% (43/97)\u001b[K\rremote: Counting objects:  45% (44/97)\u001b[K\rremote: Counting objects:  46% (45/97)\u001b[K\rremote: Counting objects:  47% (46/97)\u001b[K\rremote: Counting objects:  48% (47/97)\u001b[K\rremote: Counting objects:  49% (48/97)\u001b[K\rremote: Counting objects:  50% (49/97)\u001b[K\rremote: Counting objects:  51% (50/97)\u001b[K\rremote: Counting objects:  52% (51/97)\u001b[K\rremote: Counting objects:  53% (52/97)\u001b[K\rremote: Counting objects:  54% (53/97)\u001b[K\rremote: Counting objects:  55% (54/97)\u001b[K\rremote: Counting objects:  56% (55/97)\u001b[K\rremote: Counting objects:  57% (56/97)\u001b[K\rremote: Counting objects:  58% (57/97)\u001b[K\rremote: Counting objects:  59% (58/97)\u001b[K\rremote: Counting objects:  60% (59/97)\u001b[K\rremote: Counting objects:  61% (60/97)\u001b[K\rremote: Counting objects:  62% (61/97)\u001b[K\rremote: Counting objects:  63% (62/97)\u001b[K\rremote: Counting objects:  64% (63/97)\u001b[K\rremote: Counting objects:  65% (64/97)\u001b[K\rremote: Counting objects:  67% (65/97)\u001b[K\rremote: Counting objects:  68% (66/97)\u001b[K\rremote: Counting objects:  69% (67/97)\u001b[K\rremote: Counting objects:  70% (68/97)\u001b[K\rremote: Counting objects:  71% (69/97)\u001b[K\rremote: Counting objects:  72% (70/97)\u001b[K\rremote: Counting objects:  73% (71/97)\u001b[K\rremote: Counting objects:  74% (72/97)\u001b[K\rremote: Counting objects:  75% (73/97)\u001b[K\rremote: Counting objects:  76% (74/97)\u001b[K\rremote: Counting objects:  77% (75/97)\u001b[K\rremote: Counting objects:  78% (76/97)\u001b[K\rremote: Counting objects:  79% (77/97)\u001b[K\rremote: Counting objects:  80% (78/97)\u001b[K\rremote: Counting objects:  81% (79/97)\u001b[K\rremote: Counting objects:  82% (80/97)\u001b[K\rremote: Counting objects:  83% (81/97)\u001b[K\rremote: Counting objects:  84% (82/97)\u001b[K\rremote: Counting objects:  85% (83/97)\u001b[K\rremote: Counting objects:  86% (84/97)\u001b[K\rremote: Counting objects:  87% (85/97)\u001b[K\rremote: Counting objects:  88% (86/97)\u001b[K\rremote: Counting objects:  89% (87/97)\u001b[K\rremote: Counting objects:  90% (88/97)\u001b[K\rremote: Counting objects:  91% (89/97)\u001b[K\rremote: Counting objects:  92% (90/97)\u001b[K\rremote: Counting objects:  93% (91/97)\u001b[K\rremote: Counting objects:  94% (92/97)\u001b[K\rremote: Counting objects:  95% (93/97)\u001b[K\rremote: Counting objects:  96% (94/97)\u001b[K\rremote: Counting objects:  97% (95/97)\u001b[K\rremote: Counting objects:  98% (96/97)\u001b[K\rremote: Counting objects: 100% (97/97)\u001b[K\rremote: Counting objects: 100% (97/97), done.\u001b[K\n",
            "remote: Compressing objects:   1% (1/87)\u001b[K\rremote: Compressing objects:   2% (2/87)\u001b[K\rremote: Compressing objects:   3% (3/87)\u001b[K\rremote: Compressing objects:   4% (4/87)\u001b[K\rremote: Compressing objects:   5% (5/87)\u001b[K\rremote: Compressing objects:   6% (6/87)\u001b[K\rremote: Compressing objects:   8% (7/87)\u001b[K\rremote: Compressing objects:   9% (8/87)\u001b[K\rremote: Compressing objects:  10% (9/87)\u001b[K\rremote: Compressing objects:  11% (10/87)\u001b[K\rremote: Compressing objects:  12% (11/87)\u001b[K\rremote: Compressing objects:  13% (12/87)\u001b[K\rremote: Compressing objects:  14% (13/87)\u001b[K\rremote: Compressing objects:  16% (14/87)\u001b[K\rremote: Compressing objects:  17% (15/87)\u001b[K\rremote: Compressing objects:  18% (16/87)\u001b[K\rremote: Compressing objects:  19% (17/87)\u001b[K\rremote: Compressing objects:  20% (18/87)\u001b[K\rremote: Compressing objects:  21% (19/87)\u001b[K\rremote: Compressing objects:  22% (20/87)\u001b[K\rremote: Compressing objects:  24% (21/87)\u001b[K\rremote: Compressing objects:  25% (22/87)\u001b[K\rremote: Compressing objects:  26% (23/87)\u001b[K\rremote: Compressing objects:  27% (24/87)\u001b[K\rremote: Compressing objects:  28% (25/87)\u001b[K\rremote: Compressing objects:  29% (26/87)\u001b[K\rremote: Compressing objects:  31% (27/87)\u001b[K\rremote: Compressing objects:  32% (28/87)\u001b[K\rremote: Compressing objects:  33% (29/87)\u001b[K\rremote: Compressing objects:  34% (30/87)\u001b[K\rremote: Compressing objects:  35% (31/87)\u001b[K\rremote: Compressing objects:  36% (32/87)\u001b[K\rremote: Compressing objects:  37% (33/87)\u001b[K\rremote: Compressing objects:  39% (34/87)\u001b[K\rremote: Compressing objects:  40% (35/87)\u001b[K\rremote: Compressing objects:  41% (36/87)\u001b[K\rremote: Compressing objects:  42% (37/87)\u001b[K\rremote: Compressing objects:  43% (38/87)\u001b[K\rremote: Compressing objects:  44% (39/87)\u001b[K\rremote: Compressing objects:  45% (40/87)\u001b[K\rremote: Compressing objects:  47% (41/87)\u001b[K\rremote: Compressing objects:  48% (42/87)\u001b[K\rremote: Compressing objects:  49% (43/87)\u001b[K\rremote: Compressing objects:  50% (44/87)\u001b[K\rremote: Compressing objects:  51% (45/87)\u001b[K\rremote: Compressing objects:  52% (46/87)\u001b[K\rremote: Compressing objects:  54% (47/87)\u001b[K\rremote: Compressing objects:  55% (48/87)\u001b[K\rremote: Compressing objects:  56% (49/87)\u001b[K\rremote: Compressing objects:  57% (50/87)\u001b[K\rremote: Compressing objects:  58% (51/87)\u001b[K\rremote: Compressing objects:  59% (52/87)\u001b[K\rremote: Compressing objects:  60% (53/87)\u001b[K\rremote: Compressing objects:  62% (54/87)\u001b[K\rremote: Compressing objects:  63% (55/87)\u001b[K\rremote: Compressing objects:  64% (56/87)\u001b[K\rremote: Compressing objects:  65% (57/87)\u001b[K\rremote: Compressing objects:  66% (58/87)\u001b[K\rremote: Compressing objects:  67% (59/87)\u001b[K\rremote: Compressing objects:  68% (60/87)\u001b[K\rremote: Compressing objects:  70% (61/87)\u001b[K\rremote: Compressing objects:  71% (62/87)\u001b[K\rremote: Compressing objects:  72% (63/87)\u001b[K\rremote: Compressing objects:  73% (64/87)\u001b[K\rremote: Compressing objects:  74% (65/87)\u001b[K\rremote: Compressing objects:  75% (66/87)\u001b[K\rremote: Compressing objects:  77% (67/87)\u001b[K\rremote: Compressing objects:  78% (68/87)\u001b[K\rremote: Compressing objects:  79% (69/87)\u001b[K\rremote: Compressing objects:  80% (70/87)\u001b[K\rremote: Compressing objects:  81% (71/87)\u001b[K\rremote: Compressing objects:  82% (72/87)\u001b[K\rremote: Compressing objects:  83% (73/87)\u001b[K\rremote: Compressing objects:  85% (74/87)\u001b[K\rremote: Compressing objects:  86% (75/87)\u001b[K\rremote: Compressing objects:  87% (76/87)\u001b[K\rremote: Compressing objects:  88% (77/87)\u001b[K\rremote: Compressing objects:  89% (78/87)\u001b[K\rremote: Compressing objects:  90% (79/87)\u001b[K\rremote: Compressing objects:  91% (80/87)\u001b[K\rremote: Compressing objects:  93% (81/87)\u001b[K\rremote: Compressing objects:  94% (82/87)\u001b[K\rremote: Compressing objects:  95% (83/87)\u001b[K\rremote: Compressing objects:  96% (84/87)\u001b[K\rremote: Compressing objects:  97% (85/87)\u001b[K\rremote: Compressing objects:  98% (86/87)\u001b[K\rremote: Compressing objects: 100% (87/87)\u001b[K\rremote: Compressing objects: 100% (87/87), done.\u001b[K\n",
            "Receiving objects:   0% (1/933)   \rReceiving objects:   1% (10/933)   \rReceiving objects:   2% (19/933)   \rReceiving objects:   3% (28/933)   \rReceiving objects:   4% (38/933)   \rReceiving objects:   5% (47/933)   \rReceiving objects:   6% (56/933)   \rReceiving objects:   7% (66/933)   \rReceiving objects:   8% (75/933)   \rReceiving objects:   9% (84/933)   \rReceiving objects:  10% (94/933)   \rReceiving objects:  11% (103/933)   \rReceiving objects:  12% (112/933)   \rReceiving objects:  13% (122/933)   \rReceiving objects:  14% (131/933)   \rReceiving objects:  15% (140/933)   \rReceiving objects:  16% (150/933)   \rReceiving objects:  17% (159/933)   \rReceiving objects:  18% (168/933)   \rReceiving objects:  19% (178/933)   \rReceiving objects:  20% (187/933)   \rReceiving objects:  21% (196/933)   \rReceiving objects:  22% (206/933)   \rReceiving objects:  23% (215/933)   \rReceiving objects:  24% (224/933)   \rReceiving objects:  25% (234/933)   \rReceiving objects:  26% (243/933)   \rReceiving objects:  27% (252/933)   \rReceiving objects:  28% (262/933)   \rReceiving objects:  29% (271/933)   \rReceiving objects:  30% (280/933)   \rReceiving objects:  31% (290/933)   \rReceiving objects:  32% (299/933)   \rReceiving objects:  33% (308/933)   \rReceiving objects:  34% (318/933)   \rReceiving objects:  35% (327/933)   \rReceiving objects:  36% (336/933)   \rReceiving objects:  37% (346/933)   \rReceiving objects:  38% (355/933)   \rReceiving objects:  39% (364/933)   \rReceiving objects:  40% (374/933)   \rReceiving objects:  41% (383/933)   \rReceiving objects:  42% (392/933)   \rReceiving objects:  43% (402/933)   \rReceiving objects:  44% (411/933)   \rReceiving objects:  45% (420/933)   \rReceiving objects:  46% (430/933)   \rReceiving objects:  47% (439/933)   \rReceiving objects:  48% (448/933)   \rReceiving objects:  49% (458/933)   \rReceiving objects:  50% (467/933)   \rReceiving objects:  51% (476/933)   \rReceiving objects:  52% (486/933)   \rReceiving objects:  53% (495/933)   \rReceiving objects:  54% (504/933)   \rReceiving objects:  55% (514/933)   \rReceiving objects:  56% (523/933)   \rReceiving objects:  57% (532/933)   \rReceiving objects:  58% (542/933)   \rReceiving objects:  59% (551/933)   \rReceiving objects:  60% (560/933)   \rReceiving objects:  61% (570/933)   \rReceiving objects:  62% (579/933)   \rReceiving objects:  63% (588/933)   \rReceiving objects:  64% (598/933)   \rReceiving objects:  65% (607/933)   \rReceiving objects:  66% (616/933)   \rReceiving objects:  67% (626/933)   \rReceiving objects:  68% (635/933)   \rReceiving objects:  69% (644/933)   \rReceiving objects:  69% (653/933), 16.02 MiB | 16.01 MiB/s   \rReceiving objects:  70% (654/933), 16.02 MiB | 16.01 MiB/s   \rReceiving objects:  71% (663/933), 16.02 MiB | 16.01 MiB/s   \rReceiving objects:  72% (672/933), 16.02 MiB | 16.01 MiB/s   \rReceiving objects:  73% (682/933), 16.02 MiB | 16.01 MiB/s   \rReceiving objects:  74% (691/933), 16.02 MiB | 16.01 MiB/s   \rReceiving objects:  75% (700/933), 16.02 MiB | 16.01 MiB/s   \rReceiving objects:  76% (710/933), 16.02 MiB | 16.01 MiB/s   \rReceiving objects:  77% (719/933), 16.02 MiB | 16.01 MiB/s   \rReceiving objects:  78% (728/933), 16.02 MiB | 16.01 MiB/s   \rReceiving objects:  79% (738/933), 16.02 MiB | 16.01 MiB/s   \rReceiving objects:  80% (747/933), 16.02 MiB | 16.01 MiB/s   \rReceiving objects:  81% (756/933), 16.02 MiB | 16.01 MiB/s   \rReceiving objects:  82% (766/933), 16.02 MiB | 16.01 MiB/s   \rReceiving objects:  83% (775/933), 16.02 MiB | 16.01 MiB/s   \rReceiving objects:  84% (784/933), 16.02 MiB | 16.01 MiB/s   \rReceiving objects:  85% (794/933), 16.02 MiB | 16.01 MiB/s   \rReceiving objects:  86% (803/933), 16.02 MiB | 16.01 MiB/s   \rReceiving objects:  87% (812/933), 16.02 MiB | 16.01 MiB/s   \rReceiving objects:  88% (822/933), 16.02 MiB | 16.01 MiB/s   \rReceiving objects:  89% (831/933), 16.02 MiB | 16.01 MiB/s   \rReceiving objects:  90% (840/933), 16.02 MiB | 16.01 MiB/s   \rReceiving objects:  91% (850/933), 16.02 MiB | 16.01 MiB/s   \rremote: Total 933 (delta 69), reused 16 (delta 10), pack-reused 836\u001b[K\n",
            "Receiving objects: 100% (933/933), 25.12 MiB | 20.71 MiB/s, done.\n",
            "Resolving deltas: 100% (534/534), done.\n"
          ],
          "name": "stdout"
        }
      ]
    },
    {
      "cell_type": "code",
      "metadata": {
        "id": "mposALb_CjdZ",
        "colab_type": "code",
        "colab": {}
      },
      "source": [
        "from torchvision import transforms\n",
        "from DataLoader import cifar_data_loader,View_images\n",
        "import torch\n",
        "from torchsummary import summary\n",
        "from assignment11_model import Net\n",
        "\n",
        "from LR_Finder_acc import *\n",
        "from LR_Min_Max import *\n",
        "from Training_Testing import TrainTest\n",
        "import torch.optim as optim\n",
        "import torch.nn as nn\n",
        "from torch.optim.lr_scheduler import StepLR\n",
        "from ModelPerformance import *\n",
        "from gradcam import GradCamDisplay\n",
        "import PIL\n",
        "from gradcam import *\n",
        "import copy"
      ],
      "execution_count": 0,
      "outputs": []
    },
    {
      "cell_type": "code",
      "metadata": {
        "id": "pjCi6GErfFig",
        "colab_type": "code",
        "outputId": "35c98dfd-00df-41b4-8fbf-bbcce06f782a",
        "colab": {
          "base_uri": "https://localhost:8080/",
          "height": 99,
          "referenced_widgets": [
            "018884ac139e405ca8aa043a63f2f29a",
            "8d2dffd1366944a98057d2e62ec93ea0",
            "2960aca080c244009aedeea8f16bddfa",
            "d3b37861ccc64814aeb656af209fe0fa",
            "aae0a45559284332940d3aac2842aa05",
            "464e2ea13a814cf9a49d83a64a2d1afd",
            "1eba64d3d56b4a7c9fb9cbd76d6b9524",
            "4a7eb0157d4c432c9a7db88843c219e1"
          ]
        }
      },
      "source": [
        "### Data Loading\n",
        "trainloader,testloader = cifar_data_loader(BatchSize=512)"
      ],
      "execution_count": 3,
      "outputs": [
        {
          "output_type": "stream",
          "text": [
            "Downloading https://www.cs.toronto.edu/~kriz/cifar-10-python.tar.gz to ./data/cifar-10-python.tar.gz\n"
          ],
          "name": "stdout"
        },
        {
          "output_type": "display_data",
          "data": {
            "application/vnd.jupyter.widget-view+json": {
              "model_id": "018884ac139e405ca8aa043a63f2f29a",
              "version_minor": 0,
              "version_major": 2
            },
            "text/plain": [
              "HBox(children=(FloatProgress(value=1.0, bar_style='info', max=1.0), HTML(value='')))"
            ]
          },
          "metadata": {
            "tags": []
          }
        },
        {
          "output_type": "stream",
          "text": [
            "Extracting ./data/cifar-10-python.tar.gz to ./data\n",
            "Files already downloaded and verified\n"
          ],
          "name": "stdout"
        }
      ]
    },
    {
      "cell_type": "code",
      "metadata": {
        "id": "ZqgWSdxkfvU1",
        "colab_type": "code",
        "outputId": "bc9e98d6-38c0-4e06-cd79-89fe21540629",
        "colab": {
          "base_uri": "https://localhost:8080/",
          "height": 739
        }
      },
      "source": [
        "use_cuda = torch.cuda.is_available()\n",
        "device = torch.device(\"cuda\" if use_cuda else \"cpu\")\n",
        "print(device)\n",
        "\n",
        "net = Net().to(device)\n",
        "summary(net, input_size=(3,32,32))"
      ],
      "execution_count": 4,
      "outputs": [
        {
          "output_type": "stream",
          "text": [
            "cuda\n",
            "----------------------------------------------------------------\n",
            "        Layer (type)               Output Shape         Param #\n",
            "================================================================\n",
            "            Conv2d-1           [-1, 64, 32, 32]           1,728\n",
            "              ReLU-2           [-1, 64, 32, 32]               0\n",
            "       BatchNorm2d-3           [-1, 64, 32, 32]             128\n",
            "            Conv2d-4          [-1, 128, 32, 32]          73,728\n",
            "         MaxPool2d-5          [-1, 128, 16, 16]               0\n",
            "       BatchNorm2d-6          [-1, 128, 16, 16]             256\n",
            "              ReLU-7          [-1, 128, 16, 16]               0\n",
            "            Conv2d-8          [-1, 128, 16, 16]         147,456\n",
            "       BatchNorm2d-9          [-1, 128, 16, 16]             256\n",
            "             ReLU-10          [-1, 128, 16, 16]               0\n",
            "           Conv2d-11          [-1, 128, 16, 16]         147,456\n",
            "      BatchNorm2d-12          [-1, 128, 16, 16]             256\n",
            "             ReLU-13          [-1, 128, 16, 16]               0\n",
            "           Conv2d-14          [-1, 256, 16, 16]         294,912\n",
            "        MaxPool2d-15            [-1, 256, 8, 8]               0\n",
            "      BatchNorm2d-16            [-1, 256, 8, 8]             512\n",
            "             ReLU-17            [-1, 256, 8, 8]               0\n",
            "           Conv2d-18            [-1, 512, 8, 8]       1,179,648\n",
            "        MaxPool2d-19            [-1, 512, 4, 4]               0\n",
            "      BatchNorm2d-20            [-1, 512, 4, 4]           1,024\n",
            "             ReLU-21            [-1, 512, 4, 4]               0\n",
            "           Conv2d-22            [-1, 512, 4, 4]       2,359,296\n",
            "      BatchNorm2d-23            [-1, 512, 4, 4]           1,024\n",
            "             ReLU-24            [-1, 512, 4, 4]               0\n",
            "           Conv2d-25            [-1, 512, 4, 4]       2,359,296\n",
            "      BatchNorm2d-26            [-1, 512, 4, 4]           1,024\n",
            "             ReLU-27            [-1, 512, 4, 4]               0\n",
            "        MaxPool2d-28            [-1, 512, 1, 1]               0\n",
            "           Conv2d-29             [-1, 10, 1, 1]           5,120\n",
            "================================================================\n",
            "Total params: 6,573,120\n",
            "Trainable params: 6,573,120\n",
            "Non-trainable params: 0\n",
            "----------------------------------------------------------------\n",
            "Input size (MB): 0.01\n",
            "Forward/backward pass size (MB): 6.44\n",
            "Params size (MB): 25.07\n",
            "Estimated Total Size (MB): 31.53\n",
            "----------------------------------------------------------------\n"
          ],
          "name": "stdout"
        }
      ]
    },
    {
      "cell_type": "markdown",
      "metadata": {
        "id": "LzH6N1U6UFrm",
        "colab_type": "text"
      },
      "source": [
        "## Estimating LR Max"
      ]
    },
    {
      "cell_type": "code",
      "metadata": {
        "id": "QlamRWwkkHet",
        "colab_type": "code",
        "outputId": "722cc539-2ef1-405c-ab24-80b4902ff566",
        "colab": {
          "base_uri": "https://localhost:8080/",
          "height": 386,
          "referenced_widgets": [
            "870724e6a44b4c01a7034e282eeb2719",
            "48e929f71b6547e684c86d396c3c1245",
            "280958c457f746738f8a75c70d69b463",
            "9741230bcbb84998baf0d54c28fd3b80",
            "f7b3f6914a5a49e39ffbfe57e06b6b64",
            "92ed2882e16148d190a8e1b8f0efb055",
            "e2b109840b67467587c94e370d7d8cfa",
            "27497f28db7f44148fff4d5d71e9bd3b"
          ]
        }
      },
      "source": [
        "lr_max = LR_Max(net,trainloader,1e-4,0.1,iters = 100,mode = 'linear')\n",
        "lr_max"
      ],
      "execution_count": 5,
      "outputs": [
        {
          "output_type": "display_data",
          "data": {
            "application/vnd.jupyter.widget-view+json": {
              "model_id": "870724e6a44b4c01a7034e282eeb2719",
              "version_minor": 0,
              "version_major": 2
            },
            "text/plain": [
              "HBox(children=(FloatProgress(value=0.0), HTML(value='')))"
            ]
          },
          "metadata": {
            "tags": []
          }
        },
        {
          "output_type": "stream",
          "text": [
            "\n",
            "Learning rate search finished. See the graph with {finder_name}.plot()\n"
          ],
          "name": "stdout"
        },
        {
          "output_type": "display_data",
          "data": {
            "image/png": "[encoded data removed]",
            "text/plain": [
              "<Figure size 432x288 with 1 Axes>"
            ]
          },
          "metadata": {
            "tags": [],
            "needs_background": "light"
          }
        },
        {
          "output_type": "execute_result",
          "data": {
            "text/plain": [
              "53    0.053582\n",
              "Name: lr, dtype: float64"
            ]
          },
          "metadata": {
            "tags": []
          },
          "execution_count": 5
        }
      ]
    },
    {
      "cell_type": "markdown",
      "metadata": {
        "id": "gDQ9TaYGUM6u",
        "colab_type": "text"
      },
      "source": [
        "## Estimating LR Min\n"
      ]
    },
    {
      "cell_type": "code",
      "metadata": {
        "id": "lM73L8MtH8LP",
        "colab_type": "code",
        "colab": {
          "base_uri": "https://localhost:8080/",
          "height": 1000
        },
        "outputId": "8d0b74c1-dfba-4bb9-973c-83dc90165728"
      },
      "source": [
        "lr_min =  LR_Min(trainloader,lr_max)"
      ],
      "execution_count": 6,
      "outputs": [
        {
          "output_type": "stream",
          "text": [
            "\r  0%|          | 0/98 [00:00<?, ?it/s]"
          ],
          "name": "stderr"
        },
        {
          "output_type": "stream",
          "text": [
            "EPOCH: 0\n"
          ],
          "name": "stdout"
        },
        {
          "output_type": "stream",
          "text": [
            "Loss=2.03285813331604 Batch_id=97 Accuracy=16.58: 100%|██████████| 98/98 [00:34<00:00,  2.88it/s]\n",
            "  0%|          | 0/98 [00:00<?, ?it/s]"
          ],
          "name": "stderr"
        },
        {
          "output_type": "stream",
          "text": [
            "EPOCH: 1\n"
          ],
          "name": "stdout"
        },
        {
          "output_type": "stream",
          "text": [
            "Loss=1.6864758729934692 Batch_id=97 Accuracy=32.09: 100%|██████████| 98/98 [00:33<00:00,  2.89it/s]\n",
            "  0%|          | 0/98 [00:00<?, ?it/s]"
          ],
          "name": "stderr"
        },
        {
          "output_type": "stream",
          "text": [
            "EPOCH: 2\n"
          ],
          "name": "stdout"
        },
        {
          "output_type": "stream",
          "text": [
            "Loss=1.4537736177444458 Batch_id=97 Accuracy=42.25: 100%|██████████| 98/98 [00:34<00:00,  2.87it/s]\n",
            "  0%|          | 0/98 [00:00<?, ?it/s]"
          ],
          "name": "stderr"
        },
        {
          "output_type": "stream",
          "text": [
            "EPOCH: 3\n"
          ],
          "name": "stdout"
        },
        {
          "output_type": "stream",
          "text": [
            "Loss=1.2626445293426514 Batch_id=97 Accuracy=48.51: 100%|██████████| 98/98 [00:34<00:00,  2.87it/s]\n",
            "  0%|          | 0/98 [00:00<?, ?it/s]"
          ],
          "name": "stderr"
        },
        {
          "output_type": "stream",
          "text": [
            "EPOCH: 4\n"
          ],
          "name": "stdout"
        },
        {
          "output_type": "stream",
          "text": [
            "Loss=1.352846384048462 Batch_id=97 Accuracy=54.20: 100%|██████████| 98/98 [00:34<00:00,  2.86it/s]\n",
            "  0%|          | 0/98 [00:00<?, ?it/s]"
          ],
          "name": "stderr"
        },
        {
          "output_type": "stream",
          "text": [
            "EPOCH: 0\n"
          ],
          "name": "stdout"
        },
        {
          "output_type": "stream",
          "text": [
            "Loss=2.245150566101074 Batch_id=97 Accuracy=18.53: 100%|██████████| 98/98 [00:34<00:00,  2.88it/s]\n",
            "  0%|          | 0/98 [00:00<?, ?it/s]"
          ],
          "name": "stderr"
        },
        {
          "output_type": "stream",
          "text": [
            "EPOCH: 1\n"
          ],
          "name": "stdout"
        },
        {
          "output_type": "stream",
          "text": [
            "Loss=1.9364467859268188 Batch_id=97 Accuracy=30.43: 100%|██████████| 98/98 [00:34<00:00,  2.85it/s]\n",
            "  0%|          | 0/98 [00:00<?, ?it/s]"
          ],
          "name": "stderr"
        },
        {
          "output_type": "stream",
          "text": [
            "EPOCH: 2\n"
          ],
          "name": "stdout"
        },
        {
          "output_type": "stream",
          "text": [
            "Loss=1.8123681545257568 Batch_id=97 Accuracy=39.77: 100%|██████████| 98/98 [00:34<00:00,  2.87it/s]\n",
            "  0%|          | 0/98 [00:00<?, ?it/s]"
          ],
          "name": "stderr"
        },
        {
          "output_type": "stream",
          "text": [
            "EPOCH: 3\n"
          ],
          "name": "stdout"
        },
        {
          "output_type": "stream",
          "text": [
            "Loss=1.3776859045028687 Batch_id=97 Accuracy=46.40: 100%|██████████| 98/98 [00:34<00:00,  2.87it/s]\n",
            "  0%|          | 0/98 [00:00<?, ?it/s]"
          ],
          "name": "stderr"
        },
        {
          "output_type": "stream",
          "text": [
            "EPOCH: 4\n"
          ],
          "name": "stdout"
        },
        {
          "output_type": "stream",
          "text": [
            "Loss=1.369278907775879 Batch_id=97 Accuracy=51.58: 100%|██████████| 98/98 [00:33<00:00,  2.89it/s]\n",
            "  0%|          | 0/98 [00:00<?, ?it/s]"
          ],
          "name": "stderr"
        },
        {
          "output_type": "stream",
          "text": [
            "EPOCH: 0\n"
          ],
          "name": "stdout"
        },
        {
          "output_type": "stream",
          "text": [
            "Loss=2.0526485443115234 Batch_id=97 Accuracy=22.64: 100%|██████████| 98/98 [00:34<00:00,  2.88it/s]\n",
            "  0%|          | 0/98 [00:00<?, ?it/s]"
          ],
          "name": "stderr"
        },
        {
          "output_type": "stream",
          "text": [
            "EPOCH: 1\n"
          ],
          "name": "stdout"
        },
        {
          "output_type": "stream",
          "text": [
            "Loss=1.5622204542160034 Batch_id=97 Accuracy=38.97: 100%|██████████| 98/98 [00:34<00:00,  2.87it/s]\n",
            "  0%|          | 0/98 [00:00<?, ?it/s]"
          ],
          "name": "stderr"
        },
        {
          "output_type": "stream",
          "text": [
            "EPOCH: 2\n"
          ],
          "name": "stdout"
        },
        {
          "output_type": "stream",
          "text": [
            "Loss=1.424344778060913 Batch_id=97 Accuracy=47.15: 100%|██████████| 98/98 [00:34<00:00,  2.86it/s]\n",
            "  0%|          | 0/98 [00:00<?, ?it/s]"
          ],
          "name": "stderr"
        },
        {
          "output_type": "stream",
          "text": [
            "EPOCH: 3\n"
          ],
          "name": "stdout"
        },
        {
          "output_type": "stream",
          "text": [
            "Loss=1.2371323108673096 Batch_id=97 Accuracy=52.80: 100%|██████████| 98/98 [00:34<00:00,  2.85it/s]\n",
            "  0%|          | 0/98 [00:00<?, ?it/s]"
          ],
          "name": "stderr"
        },
        {
          "output_type": "stream",
          "text": [
            "EPOCH: 4\n"
          ],
          "name": "stdout"
        },
        {
          "output_type": "stream",
          "text": [
            "Loss=1.1275399923324585 Batch_id=97 Accuracy=57.83: 100%|██████████| 98/98 [00:34<00:00,  2.87it/s]\n",
            "  0%|          | 0/98 [00:00<?, ?it/s]"
          ],
          "name": "stderr"
        },
        {
          "output_type": "stream",
          "text": [
            "EPOCH: 0\n"
          ],
          "name": "stdout"
        },
        {
          "output_type": "stream",
          "text": [
            "Loss=1.913208246231079 Batch_id=97 Accuracy=23.98: 100%|██████████| 98/98 [00:34<00:00,  2.84it/s]\n",
            "  0%|          | 0/98 [00:00<?, ?it/s]"
          ],
          "name": "stderr"
        },
        {
          "output_type": "stream",
          "text": [
            "EPOCH: 1\n"
          ],
          "name": "stdout"
        },
        {
          "output_type": "stream",
          "text": [
            "Loss=1.5413416624069214 Batch_id=97 Accuracy=40.67: 100%|██████████| 98/98 [00:34<00:00,  2.86it/s]\n",
            "  0%|          | 0/98 [00:00<?, ?it/s]"
          ],
          "name": "stderr"
        },
        {
          "output_type": "stream",
          "text": [
            "EPOCH: 2\n"
          ],
          "name": "stdout"
        },
        {
          "output_type": "stream",
          "text": [
            "Loss=1.4168506860733032 Batch_id=97 Accuracy=48.21: 100%|██████████| 98/98 [00:34<00:00,  2.86it/s]\n",
            "  0%|          | 0/98 [00:00<?, ?it/s]"
          ],
          "name": "stderr"
        },
        {
          "output_type": "stream",
          "text": [
            "EPOCH: 3\n"
          ],
          "name": "stdout"
        },
        {
          "output_type": "stream",
          "text": [
            "Loss=1.3225911855697632 Batch_id=97 Accuracy=54.43: 100%|██████████| 98/98 [00:33<00:00,  2.89it/s]\n",
            "  0%|          | 0/98 [00:00<?, ?it/s]"
          ],
          "name": "stderr"
        },
        {
          "output_type": "stream",
          "text": [
            "EPOCH: 4\n"
          ],
          "name": "stdout"
        },
        {
          "output_type": "stream",
          "text": [
            "Loss=1.2008074522018433 Batch_id=97 Accuracy=59.07: 100%|██████████| 98/98 [00:34<00:00,  2.88it/s]\n",
            "  0%|          | 0/98 [00:00<?, ?it/s]"
          ],
          "name": "stderr"
        },
        {
          "output_type": "stream",
          "text": [
            "EPOCH: 0\n"
          ],
          "name": "stdout"
        },
        {
          "output_type": "stream",
          "text": [
            "Loss=1.623533844947815 Batch_id=97 Accuracy=28.68: 100%|██████████| 98/98 [00:34<00:00,  2.87it/s]\n",
            "  0%|          | 0/98 [00:00<?, ?it/s]"
          ],
          "name": "stderr"
        },
        {
          "output_type": "stream",
          "text": [
            "EPOCH: 1\n"
          ],
          "name": "stdout"
        },
        {
          "output_type": "stream",
          "text": [
            "Loss=1.5414588451385498 Batch_id=97 Accuracy=43.53: 100%|██████████| 98/98 [00:34<00:00,  2.84it/s]\n",
            "  0%|          | 0/98 [00:00<?, ?it/s]"
          ],
          "name": "stderr"
        },
        {
          "output_type": "stream",
          "text": [
            "EPOCH: 2\n"
          ],
          "name": "stdout"
        },
        {
          "output_type": "stream",
          "text": [
            "Loss=1.2320060729980469 Batch_id=97 Accuracy=50.85: 100%|██████████| 98/98 [00:34<00:00,  2.86it/s]\n",
            "  0%|          | 0/98 [00:00<?, ?it/s]"
          ],
          "name": "stderr"
        },
        {
          "output_type": "stream",
          "text": [
            "EPOCH: 3\n"
          ],
          "name": "stdout"
        },
        {
          "output_type": "stream",
          "text": [
            "Loss=1.0964328050613403 Batch_id=97 Accuracy=55.67: 100%|██████████| 98/98 [00:34<00:00,  2.88it/s]\n",
            "  0%|          | 0/98 [00:00<?, ?it/s]"
          ],
          "name": "stderr"
        },
        {
          "output_type": "stream",
          "text": [
            "EPOCH: 4\n"
          ],
          "name": "stdout"
        },
        {
          "output_type": "stream",
          "text": [
            "Loss=1.0959657430648804 Batch_id=97 Accuracy=59.85: 100%|██████████| 98/98 [00:34<00:00,  2.88it/s]\n",
            "  0%|          | 0/98 [00:00<?, ?it/s]"
          ],
          "name": "stderr"
        },
        {
          "output_type": "stream",
          "text": [
            "EPOCH: 0\n"
          ],
          "name": "stdout"
        },
        {
          "output_type": "stream",
          "text": [
            "Loss=1.6333837509155273 Batch_id=97 Accuracy=27.13: 100%|██████████| 98/98 [00:34<00:00,  2.85it/s]\n",
            "  0%|          | 0/98 [00:00<?, ?it/s]"
          ],
          "name": "stderr"
        },
        {
          "output_type": "stream",
          "text": [
            "EPOCH: 1\n"
          ],
          "name": "stdout"
        },
        {
          "output_type": "stream",
          "text": [
            "Loss=1.4821150302886963 Batch_id=97 Accuracy=43.15: 100%|██████████| 98/98 [00:34<00:00,  2.87it/s]\n",
            "  0%|          | 0/98 [00:00<?, ?it/s]"
          ],
          "name": "stderr"
        },
        {
          "output_type": "stream",
          "text": [
            "EPOCH: 2\n"
          ],
          "name": "stdout"
        },
        {
          "output_type": "stream",
          "text": [
            "Loss=1.2768219709396362 Batch_id=97 Accuracy=51.12: 100%|██████████| 98/98 [00:34<00:00,  2.84it/s]\n",
            "  0%|          | 0/98 [00:00<?, ?it/s]"
          ],
          "name": "stderr"
        },
        {
          "output_type": "stream",
          "text": [
            "EPOCH: 3\n"
          ],
          "name": "stdout"
        },
        {
          "output_type": "stream",
          "text": [
            "Loss=1.171373724937439 Batch_id=97 Accuracy=56.15: 100%|██████████| 98/98 [00:34<00:00,  2.85it/s]\n",
            "  0%|          | 0/98 [00:00<?, ?it/s]"
          ],
          "name": "stderr"
        },
        {
          "output_type": "stream",
          "text": [
            "EPOCH: 4\n"
          ],
          "name": "stdout"
        },
        {
          "output_type": "stream",
          "text": [
            "Loss=1.2728192806243896 Batch_id=97 Accuracy=59.43: 100%|██████████| 98/98 [00:34<00:00,  2.83it/s]\n"
          ],
          "name": "stderr"
        }
      ]
    },
    {
      "cell_type": "code",
      "metadata": {
        "id": "hSN5TRtQLzEb",
        "colab_type": "code",
        "colab": {}
      },
      "source": [
        "divfactor = 10\n",
        "finaldiv = (lr_max/(divfactor*lr_min))"
      ],
      "execution_count": 0,
      "outputs": []
    },
    {
      "cell_type": "code",
      "metadata": {
        "id": "Y0zW1EYQkpgW",
        "colab_type": "code",
        "colab": {
          "base_uri": "https://localhost:8080/",
          "height": 1000
        },
        "outputId": "e5ca07c6-890a-4f67-c91d-6fab46cd55e9"
      },
      "source": [
        "tt = TrainTest()\n",
        "test_acc = 0\n",
        "criterion = nn.CrossEntropyLoss()\n",
        "optimizer = optim.SGD(net.parameters(), lr = 0.1, momentum = 0.9)\n",
        "scheduler = optim.lr_scheduler.OneCycleLR(optimizer,\n",
        "                                          max_lr = lr_max.values[0], \n",
        "                                          epochs =24,steps_per_epoch=len(trainloader),div_factor = divfactor, final_div_factor = finaldiv)\n",
        "\n",
        "net = Net().to(device)\n",
        "for epoch in range(24):\n",
        "    print(\"EPOCH:\", epoch)\n",
        "    tt.train_(net, device, trainloader, optimizer, criterion, epoch,L1 = False)\n",
        "    acc = tt.test_(net, device, testloader)  \n",
        "    scheduler.step()\n",
        "       \n",
        "print('Finished Training')"
      ],
      "execution_count": 0,
      "outputs": [
        {
          "output_type": "stream",
          "text": [
            "\n",
            "\n",
            "\n",
            "  0%|          | 0/98 [00:00<?, ?it/s]\u001b[A\u001b[A\u001b[A"
          ],
          "name": "stderr"
        },
        {
          "output_type": "stream",
          "text": [
            "EPOCH: 0\n"
          ],
          "name": "stdout"
        },
        {
          "output_type": "stream",
          "text": [
            "\n",
            "\n",
            "\n",
            "Loss=3.046379327774048 Batch_id=0 Accuracy=9.38:   0%|          | 0/98 [00:01<?, ?it/s]\u001b[A\u001b[A\u001b[A\n",
            "\n",
            "\n",
            "Loss=3.046379327774048 Batch_id=0 Accuracy=9.38:   1%|          | 1/98 [00:01<02:37,  1.62s/it]\u001b[A\u001b[A\u001b[A\n",
            "\n",
            "\n",
            "Loss=2.9629833698272705 Batch_id=1 Accuracy=9.67:   1%|          | 1/98 [00:01<02:37,  1.62s/it]\u001b[A\u001b[A\u001b[A\n",
            "\n",
            "\n",
            "Loss=2.9629833698272705 Batch_id=1 Accuracy=9.67:   2%|▏         | 2/98 [00:01<01:55,  1.21s/it]\u001b[A\u001b[A\u001b[A\n",
            "\n",
            "\n",
            "Loss=2.932067394256592 Batch_id=2 Accuracy=10.87:   2%|▏         | 2/98 [00:02<01:55,  1.21s/it]\u001b[A\u001b[A\u001b[A\n",
            "\n",
            "\n",
            "Loss=2.932067394256592 Batch_id=2 Accuracy=10.87:   3%|▎         | 3/98 [00:02<01:26,  1.09it/s]\u001b[A\u001b[A\u001b[A\n",
            "\n",
            "\n",
            "Loss=2.8284683227539062 Batch_id=3 Accuracy=11.82:   3%|▎         | 3/98 [00:02<01:26,  1.09it/s]\u001b[A\u001b[A\u001b[A\n",
            "\n",
            "\n",
            "Loss=2.8284683227539062 Batch_id=3 Accuracy=11.82:   4%|▍         | 4/98 [00:02<01:06,  1.41it/s]\u001b[A\u001b[A\u001b[A\n",
            "\n",
            "\n",
            "Loss=2.972780227661133 Batch_id=4 Accuracy=11.45:   4%|▍         | 4/98 [00:03<01:06,  1.41it/s] \u001b[A\u001b[A\u001b[A\n",
            "\n",
            "\n",
            "Loss=2.972780227661133 Batch_id=4 Accuracy=11.45:   5%|▌         | 5/98 [00:03<01:05,  1.42it/s]\u001b[A\u001b[A\u001b[A\n",
            "\n",
            "\n",
            "Loss=2.952763795852661 Batch_id=5 Accuracy=11.72:   5%|▌         | 5/98 [00:03<01:05,  1.42it/s]\u001b[A\u001b[A\u001b[A\n",
            "\n",
            "\n",
            "Loss=2.952763795852661 Batch_id=5 Accuracy=11.72:   6%|▌         | 6/98 [00:03<00:51,  1.79it/s]\u001b[A\u001b[A\u001b[A\n",
            "\n",
            "\n",
            "Loss=2.939769744873047 Batch_id=6 Accuracy=11.94:   6%|▌         | 6/98 [00:03<00:51,  1.79it/s]\u001b[A\u001b[A\u001b[A\n",
            "\n",
            "\n",
            "Loss=2.939769744873047 Batch_id=6 Accuracy=11.94:   7%|▋         | 7/98 [00:03<00:41,  2.18it/s]\u001b[A\u001b[A\u001b[A\n",
            "\n",
            "\n",
            "Loss=2.911773681640625 Batch_id=7 Accuracy=11.94:   7%|▋         | 7/98 [00:03<00:41,  2.18it/s]\u001b[A\u001b[A\u001b[A\n",
            "\n",
            "\n",
            "Loss=2.911773681640625 Batch_id=7 Accuracy=11.94:   8%|▊         | 8/98 [00:03<00:35,  2.56it/s]\u001b[A\u001b[A\u001b[A\n",
            "\n",
            "\n",
            "Loss=3.057765007019043 Batch_id=8 Accuracy=12.02:   8%|▊         | 8/98 [00:04<00:35,  2.56it/s]\u001b[A\u001b[A\u001b[A\n",
            "\n",
            "\n",
            "Loss=3.057765007019043 Batch_id=8 Accuracy=12.02:   9%|▉         | 9/98 [00:04<00:43,  2.04it/s]\u001b[A\u001b[A\u001b[A\n",
            "\n",
            "\n",
            "Loss=2.9000165462493896 Batch_id=9 Accuracy=12.56:   9%|▉         | 9/98 [00:04<00:43,  2.04it/s]\u001b[A\u001b[A\u001b[A\n",
            "\n",
            "\n",
            "Loss=2.9000165462493896 Batch_id=9 Accuracy=12.56:  10%|█         | 10/98 [00:04<00:36,  2.43it/s]\u001b[A\u001b[A\u001b[A\n",
            "\n",
            "\n",
            "Loss=2.9506595134735107 Batch_id=10 Accuracy=12.41:  10%|█         | 10/98 [00:04<00:36,  2.43it/s]\u001b[A\u001b[A\u001b[A\n",
            "\n",
            "\n",
            "Loss=2.9506595134735107 Batch_id=10 Accuracy=12.41:  11%|█         | 11/98 [00:04<00:31,  2.79it/s]\u001b[A\u001b[A\u001b[A\n",
            "\n",
            "\n",
            "Loss=2.9544930458068848 Batch_id=11 Accuracy=12.14:  11%|█         | 11/98 [00:05<00:31,  2.79it/s]\u001b[A\u001b[A\u001b[A\n",
            "\n",
            "\n",
            "Loss=2.9544930458068848 Batch_id=11 Accuracy=12.14:  12%|█▏        | 12/98 [00:05<00:27,  3.12it/s]\u001b[A\u001b[A\u001b[A\n",
            "\n",
            "\n",
            "Loss=2.9379405975341797 Batch_id=12 Accuracy=12.23:  12%|█▏        | 12/98 [00:05<00:27,  3.12it/s]\u001b[A\u001b[A\u001b[A\n",
            "\n",
            "\n",
            "Loss=2.9379405975341797 Batch_id=12 Accuracy=12.23:  13%|█▎        | 13/98 [00:05<00:39,  2.17it/s]\u001b[A\u001b[A\u001b[A\n",
            "\n",
            "\n",
            "Loss=3.03523325920105 Batch_id=13 Accuracy=12.05:  13%|█▎        | 13/98 [00:06<00:39,  2.17it/s]  \u001b[A\u001b[A\u001b[A\n",
            "\n",
            "\n",
            "Loss=3.03523325920105 Batch_id=13 Accuracy=12.05:  14%|█▍        | 14/98 [00:06<00:32,  2.59it/s]\u001b[A\u001b[A\u001b[A\n",
            "\n",
            "\n",
            "Loss=2.9454095363616943 Batch_id=14 Accuracy=12.06:  14%|█▍        | 14/98 [00:06<00:32,  2.59it/s]\u001b[A\u001b[A\u001b[A\n",
            "\n",
            "\n",
            "Loss=2.9454095363616943 Batch_id=14 Accuracy=12.06:  15%|█▌        | 15/98 [00:06<00:27,  2.97it/s]\u001b[A\u001b[A\u001b[A\n",
            "\n",
            "\n",
            "Loss=3.041654348373413 Batch_id=15 Accuracy=12.04:  15%|█▌        | 15/98 [00:06<00:27,  2.97it/s] \u001b[A\u001b[A\u001b[A\n",
            "\n",
            "\n",
            "Loss=3.041654348373413 Batch_id=15 Accuracy=12.04:  16%|█▋        | 16/98 [00:06<00:24,  3.32it/s]\u001b[A\u001b[A\u001b[A\n",
            "\n",
            "\n",
            "Loss=2.9787487983703613 Batch_id=16 Accuracy=11.97:  16%|█▋        | 16/98 [00:07<00:24,  3.32it/s]\u001b[A\u001b[A\u001b[A\n",
            "\n",
            "\n",
            "Loss=2.9787487983703613 Batch_id=16 Accuracy=11.97:  17%|█▋        | 17/98 [00:07<00:30,  2.68it/s]\u001b[A\u001b[A\u001b[A\n",
            "\n",
            "\n",
            "Loss=3.0370843410491943 Batch_id=17 Accuracy=11.91:  17%|█▋        | 17/98 [00:07<00:30,  2.68it/s]\u001b[A\u001b[A\u001b[A\n",
            "\n",
            "\n",
            "Loss=3.0370843410491943 Batch_id=17 Accuracy=11.91:  18%|█▊        | 18/98 [00:07<00:28,  2.83it/s]\u001b[A\u001b[A\u001b[A\n",
            "\n",
            "\n",
            "Loss=2.943708658218384 Batch_id=18 Accuracy=11.87:  18%|█▊        | 18/98 [00:07<00:28,  2.83it/s] \u001b[A\u001b[A\u001b[A\n",
            "\n",
            "\n",
            "Loss=2.943708658218384 Batch_id=18 Accuracy=11.87:  19%|█▉        | 19/98 [00:07<00:24,  3.18it/s]\u001b[A\u001b[A\u001b[A\n",
            "\n",
            "\n",
            "Loss=2.9580109119415283 Batch_id=19 Accuracy=11.91:  19%|█▉        | 19/98 [00:07<00:24,  3.18it/s]\u001b[A\u001b[A\u001b[A\n",
            "\n",
            "\n",
            "Loss=2.9580109119415283 Batch_id=19 Accuracy=11.91:  20%|██        | 20/98 [00:07<00:22,  3.43it/s]\u001b[A\u001b[A\u001b[A\n",
            "\n",
            "\n",
            "Loss=2.9335787296295166 Batch_id=20 Accuracy=11.90:  20%|██        | 20/98 [00:08<00:22,  3.43it/s]\u001b[A\u001b[A\u001b[A\n",
            "\n",
            "\n",
            "Loss=2.9335787296295166 Batch_id=20 Accuracy=11.90:  21%|██▏       | 21/98 [00:08<00:34,  2.21it/s]\u001b[A\u001b[A\u001b[A\n",
            "\n",
            "\n",
            "Loss=2.960944652557373 Batch_id=21 Accuracy=11.91:  21%|██▏       | 21/98 [00:08<00:34,  2.21it/s] \u001b[A\u001b[A\u001b[A\n",
            "\n",
            "\n",
            "Loss=2.960944652557373 Batch_id=21 Accuracy=11.91:  22%|██▏       | 22/98 [00:08<00:29,  2.58it/s]\u001b[A\u001b[A\u001b[A\n",
            "\n",
            "\n",
            "Loss=3.025578498840332 Batch_id=22 Accuracy=11.93:  22%|██▏       | 22/98 [00:09<00:29,  2.58it/s]\u001b[A\u001b[A\u001b[A\n",
            "\n",
            "\n",
            "Loss=3.025578498840332 Batch_id=22 Accuracy=11.93:  23%|██▎       | 23/98 [00:09<00:25,  2.95it/s]\u001b[A\u001b[A\u001b[A\n",
            "\n",
            "\n",
            "Loss=2.994952440261841 Batch_id=23 Accuracy=11.95:  23%|██▎       | 23/98 [00:09<00:25,  2.95it/s]\u001b[A\u001b[A\u001b[A\n",
            "\n",
            "\n",
            "Loss=2.994952440261841 Batch_id=23 Accuracy=11.95:  24%|██▍       | 24/98 [00:09<00:22,  3.29it/s]\u001b[A\u001b[A\u001b[A\n",
            "\n",
            "\n",
            "Loss=2.8569834232330322 Batch_id=24 Accuracy=12.13:  24%|██▍       | 24/98 [00:10<00:22,  3.29it/s]\u001b[A\u001b[A\u001b[A\n",
            "\n",
            "\n",
            "Loss=2.8569834232330322 Batch_id=24 Accuracy=12.13:  26%|██▌       | 25/98 [00:10<00:33,  2.18it/s]\u001b[A\u001b[A\u001b[A\n",
            "\n",
            "\n",
            "Loss=3.0070853233337402 Batch_id=25 Accuracy=12.11:  26%|██▌       | 25/98 [00:10<00:33,  2.18it/s]\u001b[A\u001b[A\u001b[A\n",
            "\n",
            "\n",
            "Loss=3.0070853233337402 Batch_id=25 Accuracy=12.11:  27%|██▋       | 26/98 [00:10<00:27,  2.58it/s]\u001b[A\u001b[A\u001b[A\n",
            "\n",
            "\n",
            "Loss=2.882737398147583 Batch_id=26 Accuracy=12.15:  27%|██▋       | 26/98 [00:10<00:27,  2.58it/s] \u001b[A\u001b[A\u001b[A\n",
            "\n",
            "\n",
            "Loss=2.882737398147583 Batch_id=26 Accuracy=12.15:  28%|██▊       | 27/98 [00:10<00:24,  2.95it/s]\u001b[A\u001b[A\u001b[A\n",
            "\n",
            "\n",
            "Loss=2.9396936893463135 Batch_id=27 Accuracy=12.11:  28%|██▊       | 27/98 [00:10<00:24,  2.95it/s]\u001b[A\u001b[A\u001b[A\n",
            "\n",
            "\n",
            "Loss=2.9396936893463135 Batch_id=27 Accuracy=12.11:  29%|██▊       | 28/98 [00:10<00:21,  3.28it/s]\u001b[A\u001b[A\u001b[A\n",
            "\n",
            "\n",
            "Loss=2.9601080417633057 Batch_id=28 Accuracy=12.08:  29%|██▊       | 28/98 [00:11<00:21,  3.28it/s]\u001b[A\u001b[A\u001b[A\n",
            "\n",
            "\n",
            "Loss=2.9601080417633057 Batch_id=28 Accuracy=12.08:  30%|██▉       | 29/98 [00:11<00:25,  2.66it/s]\u001b[A\u001b[A\u001b[A\n",
            "\n",
            "\n",
            "Loss=2.8465588092803955 Batch_id=29 Accuracy=12.19:  30%|██▉       | 29/98 [00:11<00:25,  2.66it/s]\u001b[A\u001b[A\u001b[A\n",
            "\n",
            "\n",
            "Loss=2.8465588092803955 Batch_id=29 Accuracy=12.19:  31%|███       | 30/98 [00:11<00:27,  2.44it/s]\u001b[A\u001b[A\u001b[A\n",
            "\n",
            "\n",
            "Loss=2.870434045791626 Batch_id=30 Accuracy=12.19:  31%|███       | 30/98 [00:12<00:27,  2.44it/s] \u001b[A\u001b[A\u001b[A\n",
            "\n",
            "\n",
            "Loss=2.870434045791626 Batch_id=30 Accuracy=12.19:  32%|███▏      | 31/98 [00:12<00:23,  2.85it/s]\u001b[A\u001b[A\u001b[A\n",
            "\n",
            "\n",
            "Loss=3.0131402015686035 Batch_id=31 Accuracy=12.21:  32%|███▏      | 31/98 [00:12<00:23,  2.85it/s]\u001b[A\u001b[A\u001b[A\n",
            "\n",
            "\n",
            "Loss=3.0131402015686035 Batch_id=31 Accuracy=12.21:  33%|███▎      | 32/98 [00:12<00:20,  3.21it/s]\u001b[A\u001b[A\u001b[A\n",
            "\n",
            "\n",
            "Loss=3.0046541690826416 Batch_id=32 Accuracy=12.20:  33%|███▎      | 32/98 [00:12<00:20,  3.21it/s]\u001b[A\u001b[A\u001b[A\n",
            "\n",
            "\n",
            "Loss=3.0046541690826416 Batch_id=32 Accuracy=12.20:  34%|███▎      | 33/98 [00:12<00:24,  2.66it/s]\u001b[A\u001b[A\u001b[A\n",
            "\n",
            "\n",
            "Loss=2.9006741046905518 Batch_id=33 Accuracy=12.20:  34%|███▎      | 33/98 [00:13<00:24,  2.66it/s]\u001b[A\u001b[A\u001b[A\n",
            "\n",
            "\n",
            "Loss=2.9006741046905518 Batch_id=33 Accuracy=12.20:  35%|███▍      | 34/98 [00:13<00:25,  2.51it/s]\u001b[A\u001b[A\u001b[A\n",
            "\n",
            "\n",
            "Loss=2.94826340675354 Batch_id=34 Accuracy=12.25:  35%|███▍      | 34/98 [00:13<00:25,  2.51it/s]  \u001b[A\u001b[A\u001b[A\n",
            "\n",
            "\n",
            "Loss=2.94826340675354 Batch_id=34 Accuracy=12.25:  36%|███▌      | 35/98 [00:13<00:21,  2.90it/s]\u001b[A\u001b[A\u001b[A\n",
            "\n",
            "\n",
            "Loss=2.922262191772461 Batch_id=35 Accuracy=12.26:  36%|███▌      | 35/98 [00:13<00:21,  2.90it/s]\u001b[A\u001b[A\u001b[A\n",
            "\n",
            "\n",
            "Loss=2.922262191772461 Batch_id=35 Accuracy=12.26:  37%|███▋      | 36/98 [00:13<00:18,  3.28it/s]\u001b[A\u001b[A\u001b[A\n",
            "\n",
            "\n",
            "Loss=2.911743640899658 Batch_id=36 Accuracy=12.23:  37%|███▋      | 36/98 [00:14<00:18,  3.28it/s]\u001b[A\u001b[A\u001b[A\n",
            "\n",
            "\n",
            "Loss=2.911743640899658 Batch_id=36 Accuracy=12.23:  38%|███▊      | 37/98 [00:14<00:20,  2.98it/s]\u001b[A\u001b[A\u001b[A\n",
            "\n",
            "\n",
            "Loss=3.0030999183654785 Batch_id=37 Accuracy=12.22:  38%|███▊      | 37/98 [00:14<00:20,  2.98it/s]\u001b[A\u001b[A\u001b[A\n",
            "\n",
            "\n",
            "Loss=3.0030999183654785 Batch_id=37 Accuracy=12.22:  39%|███▉      | 38/98 [00:14<00:25,  2.38it/s]\u001b[A\u001b[A\u001b[A\n",
            "\n",
            "\n",
            "Loss=2.9865498542785645 Batch_id=38 Accuracy=12.21:  39%|███▉      | 38/98 [00:14<00:25,  2.38it/s]\u001b[A\u001b[A\u001b[A\n",
            "\n",
            "\n",
            "Loss=2.9865498542785645 Batch_id=38 Accuracy=12.21:  40%|███▉      | 39/98 [00:14<00:20,  2.81it/s]\u001b[A\u001b[A\u001b[A\n",
            "\n",
            "\n",
            "Loss=2.8350143432617188 Batch_id=39 Accuracy=12.29:  40%|███▉      | 39/98 [00:15<00:20,  2.81it/s]\u001b[A\u001b[A\u001b[A\n",
            "\n",
            "\n",
            "Loss=2.8350143432617188 Batch_id=39 Accuracy=12.29:  41%|████      | 40/98 [00:15<00:18,  3.19it/s]\u001b[A\u001b[A\u001b[A\n",
            "\n",
            "\n",
            "Loss=2.8632593154907227 Batch_id=40 Accuracy=12.28:  41%|████      | 40/98 [00:15<00:18,  3.19it/s]\u001b[A\u001b[A\u001b[A\n",
            "\n",
            "\n",
            "Loss=2.8632593154907227 Batch_id=40 Accuracy=12.28:  42%|████▏     | 41/98 [00:15<00:18,  3.05it/s]\u001b[A\u001b[A\u001b[A\n",
            "\n",
            "\n",
            "Loss=2.9761993885040283 Batch_id=41 Accuracy=12.24:  42%|████▏     | 41/98 [00:16<00:18,  3.05it/s]\u001b[A\u001b[A\u001b[A\n",
            "\n",
            "\n",
            "Loss=2.9761993885040283 Batch_id=41 Accuracy=12.24:  43%|████▎     | 42/98 [00:16<00:23,  2.40it/s]\u001b[A\u001b[A\u001b[A\n",
            "\n",
            "\n",
            "Loss=2.9461679458618164 Batch_id=42 Accuracy=12.21:  43%|████▎     | 42/98 [00:16<00:23,  2.40it/s]\u001b[A\u001b[A\u001b[A\n",
            "\n",
            "\n",
            "Loss=2.9461679458618164 Batch_id=42 Accuracy=12.21:  44%|████▍     | 43/98 [00:16<00:19,  2.76it/s]\u001b[A\u001b[A\u001b[A\n",
            "\n",
            "\n",
            "Loss=2.7975590229034424 Batch_id=43 Accuracy=12.25:  44%|████▍     | 43/98 [00:16<00:19,  2.76it/s]\u001b[A\u001b[A\u001b[A\n",
            "\n",
            "\n",
            "Loss=2.7975590229034424 Batch_id=43 Accuracy=12.25:  45%|████▍     | 44/98 [00:16<00:17,  3.12it/s]\u001b[A\u001b[A\u001b[A\n",
            "\n",
            "\n",
            "Loss=2.875309705734253 Batch_id=44 Accuracy=12.30:  45%|████▍     | 44/98 [00:16<00:17,  3.12it/s] \u001b[A\u001b[A\u001b[A\n",
            "\n",
            "\n",
            "Loss=2.875309705734253 Batch_id=44 Accuracy=12.30:  46%|████▌     | 45/98 [00:16<00:15,  3.31it/s]\u001b[A\u001b[A\u001b[A\n",
            "\n",
            "\n",
            "Loss=3.0222573280334473 Batch_id=45 Accuracy=12.24:  46%|████▌     | 45/98 [00:17<00:15,  3.31it/s]\u001b[A\u001b[A\u001b[A\n",
            "\n",
            "\n",
            "Loss=3.0222573280334473 Batch_id=45 Accuracy=12.24:  47%|████▋     | 46/98 [00:17<00:20,  2.49it/s]\u001b[A\u001b[A\u001b[A\n",
            "\n",
            "\n",
            "Loss=2.791640043258667 Batch_id=46 Accuracy=12.30:  47%|████▋     | 46/98 [00:17<00:20,  2.49it/s] \u001b[A\u001b[A\u001b[A\n",
            "\n",
            "\n",
            "Loss=2.791640043258667 Batch_id=46 Accuracy=12.30:  48%|████▊     | 47/98 [00:17<00:17,  2.86it/s]\u001b[A\u001b[A\u001b[A\n",
            "\n",
            "\n",
            "Loss=2.9317314624786377 Batch_id=47 Accuracy=12.30:  48%|████▊     | 47/98 [00:17<00:17,  2.86it/s]\u001b[A\u001b[A\u001b[A\n",
            "\n",
            "\n",
            "Loss=2.9317314624786377 Batch_id=47 Accuracy=12.30:  49%|████▉     | 48/98 [00:17<00:15,  3.18it/s]\u001b[A\u001b[A\u001b[A\n",
            "\n",
            "\n",
            "Loss=2.9063549041748047 Batch_id=48 Accuracy=12.28:  49%|████▉     | 48/98 [00:18<00:15,  3.18it/s]\u001b[A\u001b[A\u001b[A\n",
            "\n",
            "\n",
            "Loss=2.9063549041748047 Batch_id=48 Accuracy=12.28:  50%|█████     | 49/98 [00:18<00:14,  3.44it/s]\u001b[A\u001b[A\u001b[A\n",
            "\n",
            "\n",
            "Loss=3.060760736465454 Batch_id=49 Accuracy=12.25:  50%|█████     | 49/98 [00:18<00:14,  3.44it/s] \u001b[A\u001b[A\u001b[A\n",
            "\n",
            "\n",
            "Loss=3.060760736465454 Batch_id=49 Accuracy=12.25:  51%|█████     | 50/98 [00:19<00:21,  2.26it/s]\u001b[A\u001b[A\u001b[A\n",
            "\n",
            "\n",
            "Loss=3.0092883110046387 Batch_id=50 Accuracy=12.23:  51%|█████     | 50/98 [00:19<00:21,  2.26it/s]\u001b[A\u001b[A\u001b[A\n",
            "\n",
            "\n",
            "Loss=3.0092883110046387 Batch_id=50 Accuracy=12.23:  52%|█████▏    | 51/98 [00:19<00:17,  2.67it/s]\u001b[A\u001b[A\u001b[A\n",
            "\n",
            "\n",
            "Loss=2.9034109115600586 Batch_id=51 Accuracy=12.24:  52%|█████▏    | 51/98 [00:19<00:17,  2.67it/s]\u001b[A\u001b[A\u001b[A\n",
            "\n",
            "\n",
            "Loss=2.9034109115600586 Batch_id=51 Accuracy=12.24:  53%|█████▎    | 52/98 [00:19<00:15,  3.05it/s]\u001b[A\u001b[A\u001b[A\n",
            "\n",
            "\n",
            "Loss=2.915087938308716 Batch_id=52 Accuracy=12.26:  53%|█████▎    | 52/98 [00:19<00:15,  3.05it/s] \u001b[A\u001b[A\u001b[A\n",
            "\n",
            "\n",
            "Loss=2.915087938308716 Batch_id=52 Accuracy=12.26:  54%|█████▍    | 53/98 [00:19<00:13,  3.33it/s]\u001b[A\u001b[A\u001b[A\n",
            "\n",
            "\n",
            "Loss=2.999884843826294 Batch_id=53 Accuracy=12.22:  54%|█████▍    | 53/98 [00:20<00:13,  3.33it/s]\u001b[A\u001b[A\u001b[A\n",
            "\n",
            "\n",
            "Loss=2.999884843826294 Batch_id=53 Accuracy=12.22:  55%|█████▌    | 54/98 [00:20<00:20,  2.17it/s]\u001b[A\u001b[A\u001b[A\n",
            "\n",
            "\n",
            "Loss=2.9821245670318604 Batch_id=54 Accuracy=12.20:  55%|█████▌    | 54/98 [00:20<00:20,  2.17it/s]\u001b[A\u001b[A\u001b[A\n",
            "\n",
            "\n",
            "Loss=2.9821245670318604 Batch_id=54 Accuracy=12.20:  56%|█████▌    | 55/98 [00:20<00:16,  2.59it/s]\u001b[A\u001b[A\u001b[A\n",
            "\n",
            "\n",
            "Loss=3.020568609237671 Batch_id=55 Accuracy=12.20:  56%|█████▌    | 55/98 [00:20<00:16,  2.59it/s] \u001b[A\u001b[A\u001b[A\n",
            "\n",
            "\n",
            "Loss=3.020568609237671 Batch_id=55 Accuracy=12.20:  57%|█████▋    | 56/98 [00:20<00:14,  2.99it/s]\u001b[A\u001b[A\u001b[A\n",
            "\n",
            "\n",
            "Loss=3.021564245223999 Batch_id=56 Accuracy=12.22:  57%|█████▋    | 56/98 [00:21<00:14,  2.99it/s]\u001b[A\u001b[A\u001b[A\n",
            "\n",
            "\n",
            "Loss=3.021564245223999 Batch_id=56 Accuracy=12.22:  58%|█████▊    | 57/98 [00:21<00:12,  3.32it/s]\u001b[A\u001b[A\u001b[A\n",
            "\n",
            "\n",
            "Loss=3.040196657180786 Batch_id=57 Accuracy=12.19:  58%|█████▊    | 57/98 [00:21<00:12,  3.32it/s]\u001b[A\u001b[A\u001b[A\n",
            "\n",
            "\n",
            "Loss=3.040196657180786 Batch_id=57 Accuracy=12.19:  59%|█████▉    | 58/98 [00:21<00:17,  2.34it/s]\u001b[A\u001b[A\u001b[A\n",
            "\n",
            "\n",
            "Loss=2.9767873287200928 Batch_id=58 Accuracy=12.21:  59%|█████▉    | 58/98 [00:22<00:17,  2.34it/s]\u001b[A\u001b[A\u001b[A\n",
            "\n",
            "\n",
            "Loss=2.9767873287200928 Batch_id=58 Accuracy=12.21:  60%|██████    | 59/98 [00:22<00:14,  2.75it/s]\u001b[A\u001b[A\u001b[A\n",
            "\n",
            "\n",
            "Loss=3.026526927947998 Batch_id=59 Accuracy=12.19:  60%|██████    | 59/98 [00:22<00:14,  2.75it/s] \u001b[A\u001b[A\u001b[A\n",
            "\n",
            "\n",
            "Loss=3.026526927947998 Batch_id=59 Accuracy=12.19:  61%|██████    | 60/98 [00:22<00:12,  3.15it/s]\u001b[A\u001b[A\u001b[A\n",
            "\n",
            "\n",
            "Loss=2.979228973388672 Batch_id=60 Accuracy=12.17:  61%|██████    | 60/98 [00:22<00:12,  3.15it/s]\u001b[A\u001b[A\u001b[A\n",
            "\n",
            "\n",
            "Loss=2.979228973388672 Batch_id=60 Accuracy=12.17:  62%|██████▏   | 61/98 [00:22<00:10,  3.47it/s]\u001b[A\u001b[A\u001b[A\n",
            "\n",
            "\n",
            "Loss=3.05726957321167 Batch_id=61 Accuracy=12.15:  62%|██████▏   | 61/98 [00:23<00:10,  3.47it/s] \u001b[A\u001b[A\u001b[A\n",
            "\n",
            "\n",
            "Loss=3.05726957321167 Batch_id=61 Accuracy=12.15:  63%|██████▎   | 62/98 [00:23<00:14,  2.40it/s]\u001b[A\u001b[A\u001b[A\n",
            "\n",
            "\n",
            "Loss=2.913480520248413 Batch_id=62 Accuracy=12.15:  63%|██████▎   | 62/98 [00:23<00:14,  2.40it/s]\u001b[A\u001b[A\u001b[A\n",
            "\n",
            "\n",
            "Loss=2.913480520248413 Batch_id=62 Accuracy=12.15:  64%|██████▍   | 63/98 [00:23<00:12,  2.82it/s]\u001b[A\u001b[A\u001b[A\n",
            "\n",
            "\n",
            "Loss=2.9325175285339355 Batch_id=63 Accuracy=12.15:  64%|██████▍   | 63/98 [00:23<00:12,  2.82it/s]\u001b[A\u001b[A\u001b[A\n",
            "\n",
            "\n",
            "Loss=2.9325175285339355 Batch_id=63 Accuracy=12.15:  65%|██████▌   | 64/98 [00:23<00:10,  3.19it/s]\u001b[A\u001b[A\u001b[A\n",
            "\n",
            "\n",
            "Loss=3.0538225173950195 Batch_id=64 Accuracy=12.11:  65%|██████▌   | 64/98 [00:23<00:10,  3.19it/s]\u001b[A\u001b[A\u001b[A\n",
            "\n",
            "\n",
            "Loss=3.0538225173950195 Batch_id=64 Accuracy=12.11:  66%|██████▋   | 65/98 [00:23<00:09,  3.46it/s]\u001b[A\u001b[A\u001b[A\n",
            "\n",
            "\n",
            "Loss=2.998220682144165 Batch_id=65 Accuracy=12.11:  66%|██████▋   | 65/98 [00:24<00:09,  3.46it/s] \u001b[A\u001b[A\u001b[A\n",
            "\n",
            "\n",
            "Loss=2.998220682144165 Batch_id=65 Accuracy=12.11:  67%|██████▋   | 66/98 [00:24<00:14,  2.17it/s]\u001b[A\u001b[A\u001b[A\n",
            "\n",
            "\n",
            "Loss=2.9556796550750732 Batch_id=66 Accuracy=12.12:  67%|██████▋   | 66/98 [00:24<00:14,  2.17it/s]\u001b[A\u001b[A\u001b[A\n",
            "\n",
            "\n",
            "Loss=2.9556796550750732 Batch_id=66 Accuracy=12.12:  68%|██████▊   | 67/98 [00:24<00:12,  2.57it/s]\u001b[A\u001b[A\u001b[A\n",
            "\n",
            "\n",
            "Loss=3.0098507404327393 Batch_id=67 Accuracy=12.12:  68%|██████▊   | 67/98 [00:25<00:12,  2.57it/s]\u001b[A\u001b[A\u001b[A\n",
            "\n",
            "\n",
            "Loss=3.0098507404327393 Batch_id=67 Accuracy=12.12:  69%|██████▉   | 68/98 [00:25<00:10,  2.96it/s]\u001b[A\u001b[A\u001b[A\n",
            "\n",
            "\n",
            "Loss=2.8194026947021484 Batch_id=68 Accuracy=12.12:  69%|██████▉   | 68/98 [00:25<00:10,  2.96it/s]\u001b[A\u001b[A\u001b[A\n",
            "\n",
            "\n",
            "Loss=2.8194026947021484 Batch_id=68 Accuracy=12.12:  70%|███████   | 69/98 [00:25<00:08,  3.33it/s]\u001b[A\u001b[A\u001b[A\n",
            "\n",
            "\n",
            "Loss=2.9084160327911377 Batch_id=69 Accuracy=12.10:  70%|███████   | 69/98 [00:26<00:08,  3.33it/s]\u001b[A\u001b[A\u001b[A\n",
            "\n",
            "\n",
            "Loss=2.9084160327911377 Batch_id=69 Accuracy=12.10:  71%|███████▏  | 70/98 [00:26<00:11,  2.42it/s]\u001b[A\u001b[A\u001b[A\n",
            "\n",
            "\n",
            "Loss=2.9439871311187744 Batch_id=70 Accuracy=12.12:  71%|███████▏  | 70/98 [00:26<00:11,  2.42it/s]\u001b[A\u001b[A\u001b[A\n",
            "\n",
            "\n",
            "Loss=2.9439871311187744 Batch_id=70 Accuracy=12.12:  72%|███████▏  | 71/98 [00:26<00:09,  2.83it/s]\u001b[A\u001b[A\u001b[A\n",
            "\n",
            "\n",
            "Loss=2.9150538444519043 Batch_id=71 Accuracy=12.12:  72%|███████▏  | 71/98 [00:26<00:09,  2.83it/s]\u001b[A\u001b[A\u001b[A\n",
            "\n",
            "\n",
            "Loss=2.9150538444519043 Batch_id=71 Accuracy=12.12:  73%|███████▎  | 72/98 [00:26<00:08,  3.19it/s]\u001b[A\u001b[A\u001b[A\n",
            "\n",
            "\n",
            "Loss=2.998319387435913 Batch_id=72 Accuracy=12.08:  73%|███████▎  | 72/98 [00:26<00:08,  3.19it/s] \u001b[A\u001b[A\u001b[A\n",
            "\n",
            "\n",
            "Loss=2.998319387435913 Batch_id=72 Accuracy=12.08:  74%|███████▍  | 73/98 [00:26<00:07,  3.51it/s]\u001b[A\u001b[A\u001b[A\n",
            "\n",
            "\n",
            "Loss=2.933650016784668 Batch_id=73 Accuracy=12.10:  74%|███████▍  | 73/98 [00:27<00:07,  3.51it/s]\u001b[A\u001b[A\u001b[A\n",
            "\n",
            "\n",
            "Loss=2.933650016784668 Batch_id=73 Accuracy=12.10:  76%|███████▌  | 74/98 [00:27<00:09,  2.43it/s]\u001b[A\u001b[A\u001b[A\n",
            "\n",
            "\n",
            "Loss=3.044586658477783 Batch_id=74 Accuracy=12.09:  76%|███████▌  | 74/98 [00:27<00:09,  2.43it/s]\u001b[A\u001b[A\u001b[A\n",
            "\n",
            "\n",
            "Loss=3.044586658477783 Batch_id=74 Accuracy=12.09:  77%|███████▋  | 75/98 [00:27<00:08,  2.84it/s]\u001b[A\u001b[A\u001b[A\n",
            "\n",
            "\n",
            "Loss=2.8464512825012207 Batch_id=75 Accuracy=12.09:  77%|███████▋  | 75/98 [00:27<00:08,  2.84it/s]\u001b[A\u001b[A\u001b[A\n",
            "\n",
            "\n",
            "Loss=2.8464512825012207 Batch_id=75 Accuracy=12.09:  78%|███████▊  | 76/98 [00:27<00:06,  3.22it/s]\u001b[A\u001b[A\u001b[A\n",
            "\n",
            "\n",
            "Loss=3.0171217918395996 Batch_id=76 Accuracy=12.07:  78%|███████▊  | 76/98 [00:28<00:06,  3.22it/s]\u001b[A\u001b[A\u001b[A\n",
            "\n",
            "\n",
            "Loss=3.0171217918395996 Batch_id=76 Accuracy=12.07:  79%|███████▊  | 77/98 [00:28<00:05,  3.53it/s]\u001b[A\u001b[A\u001b[A\n",
            "\n",
            "\n",
            "Loss=3.0127713680267334 Batch_id=77 Accuracy=12.07:  79%|███████▊  | 77/98 [00:28<00:05,  3.53it/s]\u001b[A\u001b[A\u001b[A\n",
            "\n",
            "\n",
            "Loss=3.0127713680267334 Batch_id=77 Accuracy=12.07:  80%|███████▉  | 78/98 [00:28<00:08,  2.46it/s]\u001b[A\u001b[A\u001b[A\n",
            "\n",
            "\n",
            "Loss=2.9645683765411377 Batch_id=78 Accuracy=12.05:  80%|███████▉  | 78/98 [00:29<00:08,  2.46it/s]\u001b[A\u001b[A\u001b[A\n",
            "\n",
            "\n",
            "Loss=2.9645683765411377 Batch_id=78 Accuracy=12.05:  81%|████████  | 79/98 [00:29<00:06,  2.83it/s]\u001b[A\u001b[A\u001b[A\n",
            "\n",
            "\n",
            "Loss=2.971123218536377 Batch_id=79 Accuracy=12.04:  81%|████████  | 79/98 [00:29<00:06,  2.83it/s] \u001b[A\u001b[A\u001b[A\n",
            "\n",
            "\n",
            "Loss=2.971123218536377 Batch_id=79 Accuracy=12.04:  82%|████████▏ | 80/98 [00:29<00:05,  3.22it/s]\u001b[A\u001b[A\u001b[A\n",
            "\n",
            "\n",
            "Loss=2.944002389907837 Batch_id=80 Accuracy=12.06:  82%|████████▏ | 80/98 [00:29<00:05,  3.22it/s]\u001b[A\u001b[A\u001b[A\n",
            "\n",
            "\n",
            "Loss=2.944002389907837 Batch_id=80 Accuracy=12.06:  83%|████████▎ | 81/98 [00:29<00:04,  3.49it/s]\u001b[A\u001b[A\u001b[A\n",
            "\n",
            "\n",
            "Loss=2.882251739501953 Batch_id=81 Accuracy=12.05:  83%|████████▎ | 81/98 [00:30<00:04,  3.49it/s]\u001b[A\u001b[A\u001b[A\n",
            "\n",
            "\n",
            "Loss=2.882251739501953 Batch_id=81 Accuracy=12.05:  84%|████████▎ | 82/98 [00:30<00:06,  2.47it/s]\u001b[A\u001b[A\u001b[A\n",
            "\n",
            "\n",
            "Loss=2.89617657661438 Batch_id=82 Accuracy=12.07:  84%|████████▎ | 82/98 [00:30<00:06,  2.47it/s] \u001b[A\u001b[A\u001b[A\n",
            "\n",
            "\n",
            "Loss=2.89617657661438 Batch_id=82 Accuracy=12.07:  85%|████████▍ | 83/98 [00:30<00:05,  2.88it/s]\u001b[A\u001b[A\u001b[A\n",
            "\n",
            "\n",
            "Loss=2.9008944034576416 Batch_id=83 Accuracy=12.09:  85%|████████▍ | 83/98 [00:30<00:05,  2.88it/s]\u001b[A\u001b[A\u001b[A\n",
            "\n",
            "\n",
            "Loss=2.9008944034576416 Batch_id=83 Accuracy=12.09:  86%|████████▌ | 84/98 [00:30<00:04,  3.24it/s]\u001b[A\u001b[A\u001b[A\n",
            "\n",
            "\n",
            "Loss=2.9807627201080322 Batch_id=84 Accuracy=12.08:  86%|████████▌ | 84/98 [00:30<00:04,  3.24it/s]\u001b[A\u001b[A\u001b[A\n",
            "\n",
            "\n",
            "Loss=2.9807627201080322 Batch_id=84 Accuracy=12.08:  87%|████████▋ | 85/98 [00:30<00:03,  3.57it/s]\u001b[A\u001b[A\u001b[A\n",
            "\n",
            "\n",
            "Loss=2.9709479808807373 Batch_id=85 Accuracy=12.08:  87%|████████▋ | 85/98 [00:31<00:03,  3.57it/s]\u001b[A\u001b[A\u001b[A\n",
            "\n",
            "\n",
            "Loss=2.9709479808807373 Batch_id=85 Accuracy=12.08:  88%|████████▊ | 86/98 [00:31<00:04,  2.56it/s]\u001b[A\u001b[A\u001b[A\n",
            "\n",
            "\n",
            "Loss=2.905993938446045 Batch_id=86 Accuracy=12.10:  88%|████████▊ | 86/98 [00:31<00:04,  2.56it/s] \u001b[A\u001b[A\u001b[A\n",
            "\n",
            "\n",
            "Loss=2.905993938446045 Batch_id=86 Accuracy=12.10:  89%|████████▉ | 87/98 [00:31<00:03,  2.96it/s]\u001b[A\u001b[A\u001b[A\n",
            "\n",
            "\n",
            "Loss=3.0229811668395996 Batch_id=87 Accuracy=12.10:  89%|████████▉ | 87/98 [00:31<00:03,  2.96it/s]\u001b[A\u001b[A\u001b[A\n",
            "\n",
            "\n",
            "Loss=3.0229811668395996 Batch_id=87 Accuracy=12.10:  90%|████████▉ | 88/98 [00:31<00:03,  3.30it/s]\u001b[A\u001b[A\u001b[A\n",
            "\n",
            "\n",
            "Loss=2.980048894882202 Batch_id=88 Accuracy=12.10:  90%|████████▉ | 88/98 [00:32<00:03,  3.30it/s] \u001b[A\u001b[A\u001b[A\n",
            "\n",
            "\n",
            "Loss=2.980048894882202 Batch_id=88 Accuracy=12.10:  91%|█████████ | 89/98 [00:32<00:02,  3.54it/s]\u001b[A\u001b[A\u001b[A\n",
            "\n",
            "\n",
            "Loss=2.9739177227020264 Batch_id=89 Accuracy=12.09:  91%|█████████ | 89/98 [00:32<00:02,  3.54it/s]\u001b[A\u001b[A\u001b[A\n",
            "\n",
            "\n",
            "Loss=2.9739177227020264 Batch_id=89 Accuracy=12.09:  92%|█████████▏| 90/98 [00:32<00:03,  2.31it/s]\u001b[A\u001b[A\u001b[A\n",
            "\n",
            "\n",
            "Loss=2.942981004714966 Batch_id=90 Accuracy=12.09:  92%|█████████▏| 90/98 [00:33<00:03,  2.31it/s] \u001b[A\u001b[A\u001b[A\n",
            "\n",
            "\n",
            "Loss=2.942981004714966 Batch_id=90 Accuracy=12.09:  93%|█████████▎| 91/98 [00:33<00:02,  2.71it/s]\u001b[A\u001b[A\u001b[A\n",
            "\n",
            "\n",
            "Loss=2.8872945308685303 Batch_id=91 Accuracy=12.10:  93%|█████████▎| 91/98 [00:33<00:02,  2.71it/s]\u001b[A\u001b[A\u001b[A\n",
            "\n",
            "\n",
            "Loss=2.8872945308685303 Batch_id=91 Accuracy=12.10:  94%|█████████▍| 92/98 [00:33<00:01,  3.08it/s]\u001b[A\u001b[A\u001b[A\n",
            "\n",
            "\n",
            "Loss=2.983060121536255 Batch_id=92 Accuracy=12.12:  94%|█████████▍| 92/98 [00:33<00:01,  3.08it/s] \u001b[A\u001b[A\u001b[A\n",
            "\n",
            "\n",
            "Loss=2.983060121536255 Batch_id=92 Accuracy=12.12:  95%|█████████▍| 93/98 [00:33<00:01,  3.37it/s]\u001b[A\u001b[A\u001b[A\n",
            "\n",
            "\n",
            "Loss=2.9571335315704346 Batch_id=93 Accuracy=12.09:  95%|█████████▍| 93/98 [00:34<00:01,  3.37it/s]\u001b[A\u001b[A\u001b[A\n",
            "\n",
            "\n",
            "Loss=2.9571335315704346 Batch_id=93 Accuracy=12.09:  96%|█████████▌| 94/98 [00:34<00:01,  2.64it/s]\u001b[A\u001b[A\u001b[A\n",
            "\n",
            "\n",
            "Loss=2.8845207691192627 Batch_id=94 Accuracy=12.11:  96%|█████████▌| 94/98 [00:34<00:01,  2.64it/s]\u001b[A\u001b[A\u001b[A\n",
            "\n",
            "\n",
            "Loss=2.8845207691192627 Batch_id=94 Accuracy=12.11:  97%|█████████▋| 95/98 [00:34<00:00,  3.04it/s]\u001b[A\u001b[A\u001b[A\n",
            "\n",
            "\n",
            "Loss=2.899698495864868 Batch_id=95 Accuracy=12.12:  97%|█████████▋| 95/98 [00:34<00:00,  3.04it/s] \u001b[A\u001b[A\u001b[A\n",
            "\n",
            "\n",
            "Loss=2.899698495864868 Batch_id=95 Accuracy=12.12:  98%|█████████▊| 96/98 [00:34<00:00,  3.41it/s]\u001b[A\u001b[A\u001b[A\n",
            "\n",
            "\n",
            "Loss=3.0199122428894043 Batch_id=96 Accuracy=12.11:  98%|█████████▊| 96/98 [00:34<00:00,  3.41it/s]\u001b[A\u001b[A\u001b[A\n",
            "\n",
            "\n",
            "Loss=3.0199122428894043 Batch_id=96 Accuracy=12.11:  99%|█████████▉| 97/98 [00:34<00:00,  3.76it/s]\u001b[A\u001b[A\u001b[A\n",
            "\n",
            "\n",
            "Loss=2.949695110321045 Batch_id=97 Accuracy=12.11:  99%|█████████▉| 97/98 [00:34<00:00,  3.76it/s] \u001b[A\u001b[A\u001b[A\n",
            "\n",
            "\n",
            "Loss=2.949695110321045 Batch_id=97 Accuracy=12.11: 100%|██████████| 98/98 [00:34<00:00,  2.80it/s]\n",
            "\n",
            "\n",
            "\n",
            "  0%|          | 0/98 [00:00<?, ?it/s]\u001b[A\u001b[A\u001b[A"
          ],
          "name": "stderr"
        },
        {
          "output_type": "stream",
          "text": [
            "\n",
            "Test set: Average loss: 2.6209, Accuracy: 1210/10000 (12.10%)\n",
            "\n",
            "EPOCH: 1\n"
          ],
          "name": "stdout"
        },
        {
          "output_type": "stream",
          "text": [
            "\n",
            "\n",
            "\n",
            "Loss=3.0473215579986572 Batch_id=0 Accuracy=10.94:   0%|          | 0/98 [00:01<?, ?it/s]\u001b[A\u001b[A\u001b[A\n",
            "\n",
            "\n",
            "Loss=3.0473215579986572 Batch_id=0 Accuracy=10.94:   1%|          | 1/98 [00:01<02:51,  1.77s/it]\u001b[A\u001b[A\u001b[A\n",
            "\n",
            "\n",
            "Loss=2.923405647277832 Batch_id=1 Accuracy=11.43:   1%|          | 1/98 [00:01<02:51,  1.77s/it] \u001b[A\u001b[A\u001b[A\n",
            "\n",
            "\n",
            "Loss=2.923405647277832 Batch_id=1 Accuracy=11.43:   2%|▏         | 2/98 [00:01<02:05,  1.31s/it]\u001b[A\u001b[A\u001b[A\n",
            "\n",
            "\n",
            "Loss=2.9956789016723633 Batch_id=2 Accuracy=12.43:   2%|▏         | 2/98 [00:02<02:05,  1.31s/it]\u001b[A\u001b[A\u001b[A\n",
            "\n",
            "\n",
            "Loss=2.9956789016723633 Batch_id=2 Accuracy=12.43:   3%|▎         | 3/98 [00:02<01:33,  1.02it/s]\u001b[A\u001b[A\u001b[A\n",
            "\n",
            "\n",
            "Loss=2.9061524868011475 Batch_id=3 Accuracy=12.35:   3%|▎         | 3/98 [00:02<01:33,  1.02it/s]\u001b[A\u001b[A\u001b[A\n",
            "\n",
            "\n",
            "Loss=2.9061524868011475 Batch_id=3 Accuracy=12.35:   4%|▍         | 4/98 [00:02<01:10,  1.32it/s]\u001b[A\u001b[A\u001b[A\n",
            "\n",
            "\n",
            "Loss=2.9678449630737305 Batch_id=4 Accuracy=12.27:   4%|▍         | 4/98 [00:03<01:10,  1.32it/s]\u001b[A\u001b[A\u001b[A\n",
            "\n",
            "\n",
            "Loss=2.9678449630737305 Batch_id=4 Accuracy=12.27:   5%|▌         | 5/98 [00:03<01:07,  1.38it/s]\u001b[A\u001b[A\u001b[A\n",
            "\n",
            "\n",
            "Loss=3.0033202171325684 Batch_id=5 Accuracy=12.34:   5%|▌         | 5/98 [00:03<01:07,  1.38it/s]\u001b[A\u001b[A\u001b[A\n",
            "\n",
            "\n",
            "Loss=3.0033202171325684 Batch_id=5 Accuracy=12.34:   6%|▌         | 6/98 [00:03<00:52,  1.74it/s]\u001b[A\u001b[A\u001b[A\n",
            "\n",
            "\n",
            "Loss=2.9324839115142822 Batch_id=6 Accuracy=12.53:   6%|▌         | 6/98 [00:03<00:52,  1.74it/s]\u001b[A\u001b[A\u001b[A\n",
            "\n",
            "\n",
            "Loss=2.9324839115142822 Batch_id=6 Accuracy=12.53:   7%|▋         | 7/98 [00:03<00:42,  2.13it/s]\u001b[A\u001b[A\u001b[A\n",
            "\n",
            "\n",
            "Loss=3.0021426677703857 Batch_id=7 Accuracy=12.35:   7%|▋         | 7/98 [00:03<00:42,  2.13it/s]\u001b[A\u001b[A\u001b[A\n",
            "\n",
            "\n",
            "Loss=3.0021426677703857 Batch_id=7 Accuracy=12.35:   8%|▊         | 8/98 [00:03<00:35,  2.51it/s]\u001b[A\u001b[A\u001b[A\n",
            "\n",
            "\n",
            "Loss=2.885613441467285 Batch_id=8 Accuracy=12.39:   8%|▊         | 8/98 [00:04<00:35,  2.51it/s] \u001b[A\u001b[A\u001b[A\n",
            "\n",
            "\n",
            "Loss=2.885613441467285 Batch_id=8 Accuracy=12.39:   9%|▉         | 9/98 [00:04<00:42,  2.08it/s]\u001b[A\u001b[A\u001b[A\n",
            "\n",
            "\n",
            "Loss=3.096546173095703 Batch_id=9 Accuracy=12.19:   9%|▉         | 9/98 [00:04<00:42,  2.08it/s]\u001b[A\u001b[A\u001b[A\n",
            "\n",
            "\n",
            "Loss=3.096546173095703 Batch_id=9 Accuracy=12.19:  10%|█         | 10/98 [00:04<00:36,  2.44it/s]\u001b[A\u001b[A\u001b[A\n",
            "\n",
            "\n",
            "Loss=2.8874106407165527 Batch_id=10 Accuracy=12.43:  10%|█         | 10/98 [00:04<00:36,  2.44it/s]\u001b[A\u001b[A\u001b[A\n",
            "\n",
            "\n",
            "Loss=2.8874106407165527 Batch_id=10 Accuracy=12.43:  11%|█         | 11/98 [00:04<00:30,  2.83it/s]\u001b[A\u001b[A\u001b[A\n",
            "\n",
            "\n",
            "Loss=2.915149211883545 Batch_id=11 Accuracy=12.43:  11%|█         | 11/98 [00:05<00:30,  2.83it/s] \u001b[A\u001b[A\u001b[A\n",
            "\n",
            "\n",
            "Loss=2.915149211883545 Batch_id=11 Accuracy=12.43:  12%|█▏        | 12/98 [00:05<00:27,  3.15it/s]\u001b[A\u001b[A\u001b[A\n",
            "\n",
            "\n",
            "Loss=3.0219390392303467 Batch_id=12 Accuracy=12.35:  12%|█▏        | 12/98 [00:06<00:27,  3.15it/s]\u001b[A\u001b[A\u001b[A\n",
            "\n",
            "\n",
            "Loss=3.0219390392303467 Batch_id=12 Accuracy=12.35:  13%|█▎        | 13/98 [00:06<00:41,  2.03it/s]\u001b[A\u001b[A\u001b[A\n",
            "\n",
            "\n",
            "Loss=3.0228302478790283 Batch_id=13 Accuracy=12.26:  13%|█▎        | 13/98 [00:06<00:41,  2.03it/s]\u001b[A\u001b[A\u001b[A\n",
            "\n",
            "\n",
            "Loss=3.0228302478790283 Batch_id=13 Accuracy=12.26:  14%|█▍        | 14/98 [00:06<00:34,  2.41it/s]\u001b[A\u001b[A\u001b[A\n",
            "\n",
            "\n",
            "Loss=2.941887378692627 Batch_id=14 Accuracy=12.25:  14%|█▍        | 14/98 [00:06<00:34,  2.41it/s] \u001b[A\u001b[A\u001b[A\n",
            "\n",
            "\n",
            "Loss=2.941887378692627 Batch_id=14 Accuracy=12.25:  15%|█▌        | 15/98 [00:06<00:29,  2.79it/s]\u001b[A\u001b[A\u001b[A\n",
            "\n",
            "\n",
            "Loss=2.9454598426818848 Batch_id=15 Accuracy=12.27:  15%|█▌        | 15/98 [00:06<00:29,  2.79it/s]\u001b[A\u001b[A\u001b[A\n",
            "\n",
            "\n",
            "Loss=2.9454598426818848 Batch_id=15 Accuracy=12.27:  16%|█▋        | 16/98 [00:06<00:25,  3.17it/s]\u001b[A\u001b[A\u001b[A\n",
            "\n",
            "\n",
            "Loss=3.094860792160034 Batch_id=16 Accuracy=12.18:  16%|█▋        | 16/98 [00:07<00:25,  3.17it/s] \u001b[A\u001b[A\u001b[A\n",
            "\n",
            "\n",
            "Loss=3.094860792160034 Batch_id=16 Accuracy=12.18:  17%|█▋        | 17/98 [00:07<00:36,  2.20it/s]\u001b[A\u001b[A\u001b[A\n",
            "\n",
            "\n",
            "Loss=2.9510951042175293 Batch_id=17 Accuracy=12.12:  17%|█▋        | 17/98 [00:07<00:36,  2.20it/s]\u001b[A\u001b[A\u001b[A\n",
            "\n",
            "\n",
            "Loss=2.9510951042175293 Batch_id=17 Accuracy=12.12:  18%|█▊        | 18/98 [00:07<00:31,  2.57it/s]\u001b[A\u001b[A\u001b[A\n",
            "\n",
            "\n",
            "Loss=2.9092674255371094 Batch_id=18 Accuracy=12.12:  18%|█▊        | 18/98 [00:07<00:31,  2.57it/s]\u001b[A\u001b[A\u001b[A\n",
            "\n",
            "\n",
            "Loss=2.9092674255371094 Batch_id=18 Accuracy=12.12:  19%|█▉        | 19/98 [00:07<00:27,  2.92it/s]\u001b[A\u001b[A\u001b[A\n",
            "\n",
            "\n",
            "Loss=2.8108386993408203 Batch_id=19 Accuracy=12.10:  19%|█▉        | 19/98 [00:08<00:27,  2.92it/s]\u001b[A\u001b[A\u001b[A\n",
            "\n",
            "\n",
            "Loss=2.8108386993408203 Batch_id=19 Accuracy=12.10:  20%|██        | 20/98 [00:08<00:24,  3.24it/s]\u001b[A\u001b[A\u001b[A\n",
            "\n",
            "\n",
            "Loss=2.907531499862671 Batch_id=20 Accuracy=12.23:  20%|██        | 20/98 [00:08<00:24,  3.24it/s] \u001b[A\u001b[A\u001b[A\n",
            "\n",
            "\n",
            "Loss=2.907531499862671 Batch_id=20 Accuracy=12.23:  21%|██▏       | 21/98 [00:09<00:34,  2.21it/s]\u001b[A\u001b[A\u001b[A\n",
            "\n",
            "\n",
            "Loss=2.8407974243164062 Batch_id=21 Accuracy=12.27:  21%|██▏       | 21/98 [00:09<00:34,  2.21it/s]\u001b[A\u001b[A\u001b[A\n",
            "\n",
            "\n",
            "Loss=2.8407974243164062 Batch_id=21 Accuracy=12.27:  22%|██▏       | 22/98 [00:09<00:28,  2.64it/s]\u001b[A\u001b[A\u001b[A\n",
            "\n",
            "\n",
            "Loss=2.9191393852233887 Batch_id=22 Accuracy=12.27:  22%|██▏       | 22/98 [00:09<00:28,  2.64it/s]\u001b[A\u001b[A\u001b[A\n",
            "\n",
            "\n",
            "Loss=2.9191393852233887 Batch_id=22 Accuracy=12.27:  23%|██▎       | 23/98 [00:09<00:24,  3.03it/s]\u001b[A\u001b[A\u001b[A\n",
            "\n",
            "\n",
            "Loss=2.91961932182312 Batch_id=23 Accuracy=12.29:  23%|██▎       | 23/98 [00:09<00:24,  3.03it/s]  \u001b[A\u001b[A\u001b[A\n",
            "\n",
            "\n",
            "Loss=2.91961932182312 Batch_id=23 Accuracy=12.29:  24%|██▍       | 24/98 [00:09<00:21,  3.40it/s]\u001b[A\u001b[A\u001b[A\n",
            "\n",
            "\n",
            "Loss=2.981576442718506 Batch_id=24 Accuracy=12.28:  24%|██▍       | 24/98 [00:10<00:21,  3.40it/s]\u001b[A\u001b[A\u001b[A\n",
            "\n",
            "\n",
            "Loss=2.981576442718506 Batch_id=24 Accuracy=12.28:  26%|██▌       | 25/98 [00:10<00:31,  2.34it/s]\u001b[A\u001b[A\u001b[A\n",
            "\n",
            "\n",
            "Loss=2.962280511856079 Batch_id=25 Accuracy=12.32:  26%|██▌       | 25/98 [00:10<00:31,  2.34it/s]\u001b[A\u001b[A\u001b[A\n",
            "\n",
            "\n",
            "Loss=2.962280511856079 Batch_id=25 Accuracy=12.32:  27%|██▋       | 26/98 [00:10<00:26,  2.72it/s]\u001b[A\u001b[A\u001b[A\n",
            "\n",
            "\n",
            "Loss=3.0277962684631348 Batch_id=26 Accuracy=12.25:  27%|██▋       | 26/98 [00:10<00:26,  2.72it/s]\u001b[A\u001b[A\u001b[A\n",
            "\n",
            "\n",
            "Loss=3.0277962684631348 Batch_id=26 Accuracy=12.25:  28%|██▊       | 27/98 [00:10<00:23,  3.06it/s]\u001b[A\u001b[A\u001b[A\n",
            "\n",
            "\n",
            "Loss=2.8367722034454346 Batch_id=27 Accuracy=12.28:  28%|██▊       | 27/98 [00:11<00:23,  3.06it/s]\u001b[A\u001b[A\u001b[A\n",
            "\n",
            "\n",
            "Loss=2.8367722034454346 Batch_id=27 Accuracy=12.28:  29%|██▊       | 28/98 [00:11<00:20,  3.38it/s]\u001b[A\u001b[A\u001b[A\n",
            "\n",
            "\n",
            "Loss=2.9678244590759277 Batch_id=28 Accuracy=12.30:  29%|██▊       | 28/98 [00:11<00:20,  3.38it/s]\u001b[A\u001b[A\u001b[A\n",
            "\n",
            "\n",
            "Loss=2.9678244590759277 Batch_id=28 Accuracy=12.30:  30%|██▉       | 29/98 [00:11<00:30,  2.27it/s]\u001b[A\u001b[A\u001b[A\n",
            "\n",
            "\n",
            "Loss=3.0050435066223145 Batch_id=29 Accuracy=12.35:  30%|██▉       | 29/98 [00:12<00:30,  2.27it/s]\u001b[A\u001b[A\u001b[A\n",
            "\n",
            "\n",
            "Loss=3.0050435066223145 Batch_id=29 Accuracy=12.35:  31%|███       | 30/98 [00:12<00:25,  2.66it/s]\u001b[A\u001b[A\u001b[A\n",
            "\n",
            "\n",
            "Loss=2.9799842834472656 Batch_id=30 Accuracy=12.36:  31%|███       | 30/98 [00:12<00:25,  2.66it/s]\u001b[A\u001b[A\u001b[A\n",
            "\n",
            "\n",
            "Loss=2.9799842834472656 Batch_id=30 Accuracy=12.36:  32%|███▏      | 31/98 [00:12<00:22,  3.02it/s]\u001b[A\u001b[A\u001b[A\n",
            "\n",
            "\n",
            "Loss=2.828296661376953 Batch_id=31 Accuracy=12.37:  32%|███▏      | 31/98 [00:12<00:22,  3.02it/s] \u001b[A\u001b[A\u001b[A\n",
            "\n",
            "\n",
            "Loss=2.828296661376953 Batch_id=31 Accuracy=12.37:  33%|███▎      | 32/98 [00:12<00:19,  3.37it/s]\u001b[A\u001b[A\u001b[A\n",
            "\n",
            "\n",
            "Loss=2.9752187728881836 Batch_id=32 Accuracy=12.41:  33%|███▎      | 32/98 [00:13<00:19,  3.37it/s]\u001b[A\u001b[A\u001b[A\n",
            "\n",
            "\n",
            "Loss=2.9752187728881836 Batch_id=32 Accuracy=12.41:  34%|███▎      | 33/98 [00:13<00:28,  2.28it/s]\u001b[A\u001b[A\u001b[A\n",
            "\n",
            "\n",
            "Loss=2.998396635055542 Batch_id=33 Accuracy=12.39:  34%|███▎      | 33/98 [00:13<00:28,  2.28it/s] \u001b[A\u001b[A\u001b[A\n",
            "\n",
            "\n",
            "Loss=2.998396635055542 Batch_id=33 Accuracy=12.39:  35%|███▍      | 34/98 [00:13<00:23,  2.67it/s]\u001b[A\u001b[A\u001b[A\n",
            "\n",
            "\n",
            "Loss=2.9643969535827637 Batch_id=34 Accuracy=12.39:  35%|███▍      | 34/98 [00:13<00:23,  2.67it/s]\u001b[A\u001b[A\u001b[A\n",
            "\n",
            "\n",
            "Loss=2.9643969535827637 Batch_id=34 Accuracy=12.39:  36%|███▌      | 35/98 [00:13<00:20,  3.03it/s]\u001b[A\u001b[A\u001b[A\n",
            "\n",
            "\n",
            "Loss=2.999950885772705 Batch_id=35 Accuracy=12.32:  36%|███▌      | 35/98 [00:13<00:20,  3.03it/s] \u001b[A\u001b[A\u001b[A\n",
            "\n",
            "\n",
            "Loss=2.999950885772705 Batch_id=35 Accuracy=12.32:  37%|███▋      | 36/98 [00:13<00:18,  3.35it/s]\u001b[A\u001b[A\u001b[A\n",
            "\n",
            "\n",
            "Loss=2.9592173099517822 Batch_id=36 Accuracy=12.35:  37%|███▋      | 36/98 [00:14<00:18,  3.35it/s]\u001b[A\u001b[A\u001b[A\n",
            "\n",
            "\n",
            "Loss=2.9592173099517822 Batch_id=36 Accuracy=12.35:  38%|███▊      | 37/98 [00:14<00:26,  2.35it/s]\u001b[A\u001b[A\u001b[A\n",
            "\n",
            "\n",
            "Loss=2.8397388458251953 Batch_id=37 Accuracy=12.33:  38%|███▊      | 37/98 [00:14<00:26,  2.35it/s]\u001b[A\u001b[A\u001b[A\n",
            "\n",
            "\n",
            "Loss=2.8397388458251953 Batch_id=37 Accuracy=12.33:  39%|███▉      | 38/98 [00:14<00:21,  2.75it/s]\u001b[A\u001b[A\u001b[A\n",
            "\n",
            "\n",
            "Loss=2.956650495529175 Batch_id=38 Accuracy=12.40:  39%|███▉      | 38/98 [00:15<00:21,  2.75it/s] \u001b[A\u001b[A\u001b[A\n",
            "\n",
            "\n",
            "Loss=2.956650495529175 Batch_id=38 Accuracy=12.40:  40%|███▉      | 39/98 [00:15<00:18,  3.14it/s]\u001b[A\u001b[A\u001b[A\n",
            "\n",
            "\n",
            "Loss=2.967151403427124 Batch_id=39 Accuracy=12.38:  40%|███▉      | 39/98 [00:15<00:18,  3.14it/s]\u001b[A\u001b[A\u001b[A\n",
            "\n",
            "\n",
            "Loss=2.967151403427124 Batch_id=39 Accuracy=12.38:  41%|████      | 40/98 [00:15<00:16,  3.51it/s]\u001b[A\u001b[A\u001b[A\n",
            "\n",
            "\n",
            "Loss=2.9868004322052 Batch_id=40 Accuracy=12.33:  41%|████      | 40/98 [00:15<00:16,  3.51it/s]  \u001b[A\u001b[A\u001b[A\n",
            "\n",
            "\n",
            "Loss=2.9868004322052 Batch_id=40 Accuracy=12.33:  42%|████▏     | 41/98 [00:15<00:22,  2.57it/s]\u001b[A\u001b[A\u001b[A\n",
            "\n",
            "\n",
            "Loss=2.9595587253570557 Batch_id=41 Accuracy=12.27:  42%|████▏     | 41/98 [00:16<00:22,  2.57it/s]\u001b[A\u001b[A\u001b[A\n",
            "\n",
            "\n",
            "Loss=2.9595587253570557 Batch_id=41 Accuracy=12.27:  43%|████▎     | 42/98 [00:16<00:18,  2.95it/s]\u001b[A\u001b[A\u001b[A\n",
            "\n",
            "\n",
            "Loss=2.8901748657226562 Batch_id=42 Accuracy=12.30:  43%|████▎     | 42/98 [00:16<00:18,  2.95it/s]\u001b[A\u001b[A\u001b[A\n",
            "\n",
            "\n",
            "Loss=2.8901748657226562 Batch_id=42 Accuracy=12.30:  44%|████▍     | 43/98 [00:16<00:16,  3.28it/s]\u001b[A\u001b[A\u001b[A\n",
            "\n",
            "\n",
            "Loss=2.920351266860962 Batch_id=43 Accuracy=12.26:  44%|████▍     | 43/98 [00:16<00:16,  3.28it/s] \u001b[A\u001b[A\u001b[A\n",
            "\n",
            "\n",
            "Loss=2.920351266860962 Batch_id=43 Accuracy=12.26:  45%|████▍     | 44/98 [00:16<00:14,  3.61it/s]\u001b[A\u001b[A\u001b[A\n",
            "\n",
            "\n",
            "Loss=2.9939346313476562 Batch_id=44 Accuracy=12.21:  45%|████▍     | 44/98 [00:17<00:14,  3.61it/s]\u001b[A\u001b[A\u001b[A\n",
            "\n",
            "\n",
            "Loss=2.9939346313476562 Batch_id=44 Accuracy=12.21:  46%|████▌     | 45/98 [00:17<00:21,  2.52it/s]\u001b[A\u001b[A\u001b[A\n",
            "\n",
            "\n",
            "Loss=3.034019947052002 Batch_id=45 Accuracy=12.20:  46%|████▌     | 45/98 [00:17<00:21,  2.52it/s] \u001b[A\u001b[A\u001b[A\n",
            "\n",
            "\n",
            "Loss=3.034019947052002 Batch_id=45 Accuracy=12.20:  47%|████▋     | 46/98 [00:17<00:17,  2.94it/s]\u001b[A\u001b[A\u001b[A\n",
            "\n",
            "\n",
            "Loss=3.0457112789154053 Batch_id=46 Accuracy=12.20:  47%|████▋     | 46/98 [00:17<00:17,  2.94it/s]\u001b[A\u001b[A\u001b[A\n",
            "\n",
            "\n",
            "Loss=3.0457112789154053 Batch_id=46 Accuracy=12.20:  48%|████▊     | 47/98 [00:17<00:17,  2.90it/s]\u001b[A\u001b[A\u001b[A\n",
            "\n",
            "\n",
            "Loss=2.9259910583496094 Batch_id=47 Accuracy=12.22:  48%|████▊     | 47/98 [00:18<00:17,  2.90it/s]\u001b[A\u001b[A\u001b[A\n",
            "\n",
            "\n",
            "Loss=2.9259910583496094 Batch_id=47 Accuracy=12.22:  49%|████▉     | 48/98 [00:18<00:15,  3.23it/s]\u001b[A\u001b[A\u001b[A\n",
            "\n",
            "\n",
            "Loss=2.9100377559661865 Batch_id=48 Accuracy=12.20:  49%|████▉     | 48/98 [00:18<00:15,  3.23it/s]\u001b[A\u001b[A\u001b[A\n",
            "\n",
            "\n",
            "Loss=2.9100377559661865 Batch_id=48 Accuracy=12.20:  50%|█████     | 49/98 [00:18<00:19,  2.50it/s]\u001b[A\u001b[A\u001b[A\n",
            "\n",
            "\n",
            "Loss=2.9224517345428467 Batch_id=49 Accuracy=12.23:  50%|█████     | 49/98 [00:18<00:19,  2.50it/s]\u001b[A\u001b[A\u001b[A\n",
            "\n",
            "\n",
            "Loss=2.9224517345428467 Batch_id=49 Accuracy=12.23:  51%|█████     | 50/98 [00:18<00:16,  2.87it/s]\u001b[A\u001b[A\u001b[A\n",
            "\n",
            "\n",
            "Loss=3.0143837928771973 Batch_id=50 Accuracy=12.18:  51%|█████     | 50/98 [00:19<00:16,  2.87it/s]\u001b[A\u001b[A\u001b[A\n",
            "\n",
            "\n",
            "Loss=3.0143837928771973 Batch_id=50 Accuracy=12.18:  52%|█████▏    | 51/98 [00:19<00:14,  3.20it/s]\u001b[A\u001b[A\u001b[A\n",
            "\n",
            "\n",
            "Loss=2.9480628967285156 Batch_id=51 Accuracy=12.15:  52%|█████▏    | 51/98 [00:19<00:14,  3.20it/s]\u001b[A\u001b[A\u001b[A\n",
            "\n",
            "\n",
            "Loss=2.9480628967285156 Batch_id=51 Accuracy=12.15:  53%|█████▎    | 52/98 [00:19<00:13,  3.50it/s]\u001b[A\u001b[A\u001b[A\n",
            "\n",
            "\n",
            "Loss=2.974173069000244 Batch_id=52 Accuracy=12.12:  53%|█████▎    | 52/98 [00:20<00:13,  3.50it/s] \u001b[A\u001b[A\u001b[A\n",
            "\n",
            "\n",
            "Loss=2.974173069000244 Batch_id=52 Accuracy=12.12:  54%|█████▍    | 53/98 [00:20<00:19,  2.28it/s]\u001b[A\u001b[A\u001b[A\n",
            "\n",
            "\n",
            "Loss=2.938840389251709 Batch_id=53 Accuracy=12.09:  54%|█████▍    | 53/98 [00:20<00:19,  2.28it/s]\u001b[A\u001b[A\u001b[A\n",
            "\n",
            "\n",
            "Loss=2.938840389251709 Batch_id=53 Accuracy=12.09:  55%|█████▌    | 54/98 [00:20<00:16,  2.66it/s]\u001b[A\u001b[A\u001b[A\n",
            "\n",
            "\n",
            "Loss=2.9300169944763184 Batch_id=54 Accuracy=12.13:  55%|█████▌    | 54/98 [00:20<00:16,  2.66it/s]\u001b[A\u001b[A\u001b[A\n",
            "\n",
            "\n",
            "Loss=2.9300169944763184 Batch_id=54 Accuracy=12.13:  56%|█████▌    | 55/98 [00:20<00:14,  3.05it/s]\u001b[A\u001b[A\u001b[A\n",
            "\n",
            "\n",
            "Loss=2.9630961418151855 Batch_id=55 Accuracy=12.16:  56%|█████▌    | 55/98 [00:20<00:14,  3.05it/s]\u001b[A\u001b[A\u001b[A\n",
            "\n",
            "\n",
            "Loss=2.9630961418151855 Batch_id=55 Accuracy=12.16:  57%|█████▋    | 56/98 [00:20<00:12,  3.38it/s]\u001b[A\u001b[A\u001b[A\n",
            "\n",
            "\n",
            "Loss=2.8908231258392334 Batch_id=56 Accuracy=12.20:  57%|█████▋    | 56/98 [00:21<00:12,  3.38it/s]\u001b[A\u001b[A\u001b[A\n",
            "\n",
            "\n",
            "Loss=2.8908231258392334 Batch_id=56 Accuracy=12.20:  58%|█████▊    | 57/98 [00:21<00:18,  2.27it/s]\u001b[A\u001b[A\u001b[A\n",
            "\n",
            "\n",
            "Loss=2.908954381942749 Batch_id=57 Accuracy=12.21:  58%|█████▊    | 57/98 [00:21<00:18,  2.27it/s] \u001b[A\u001b[A\u001b[A\n",
            "\n",
            "\n",
            "Loss=2.908954381942749 Batch_id=57 Accuracy=12.21:  59%|█████▉    | 58/98 [00:21<00:15,  2.65it/s]\u001b[A\u001b[A\u001b[A\n",
            "\n",
            "\n",
            "Loss=2.965994119644165 Batch_id=58 Accuracy=12.24:  59%|█████▉    | 58/98 [00:22<00:15,  2.65it/s]\u001b[A\u001b[A\u001b[A\n",
            "\n",
            "\n",
            "Loss=2.965994119644165 Batch_id=58 Accuracy=12.24:  60%|██████    | 59/98 [00:22<00:13,  2.99it/s]\u001b[A\u001b[A\u001b[A\n",
            "\n",
            "\n",
            "Loss=2.949127197265625 Batch_id=59 Accuracy=12.26:  60%|██████    | 59/98 [00:22<00:13,  2.99it/s]\u001b[A\u001b[A\u001b[A\n",
            "\n",
            "\n",
            "Loss=2.949127197265625 Batch_id=59 Accuracy=12.26:  61%|██████    | 60/98 [00:22<00:11,  3.32it/s]\u001b[A\u001b[A\u001b[A\n",
            "\n",
            "\n",
            "Loss=2.8979923725128174 Batch_id=60 Accuracy=12.25:  61%|██████    | 60/98 [00:22<00:11,  3.32it/s]\u001b[A\u001b[A\u001b[A\n",
            "\n",
            "\n",
            "Loss=2.8979923725128174 Batch_id=60 Accuracy=12.25:  62%|██████▏   | 61/98 [00:22<00:13,  2.79it/s]\u001b[A\u001b[A\u001b[A\n",
            "\n",
            "\n",
            "Loss=2.8776862621307373 Batch_id=61 Accuracy=12.32:  62%|██████▏   | 61/98 [00:22<00:13,  2.79it/s]\u001b[A\u001b[A\u001b[A\n",
            "\n",
            "\n",
            "Loss=2.8776862621307373 Batch_id=61 Accuracy=12.32:  63%|██████▎   | 62/98 [00:23<00:11,  3.11it/s]\u001b[A\u001b[A\u001b[A\n",
            "\n",
            "\n",
            "Loss=2.8626866340637207 Batch_id=62 Accuracy=12.33:  63%|██████▎   | 62/98 [00:23<00:11,  3.11it/s]\u001b[A\u001b[A\u001b[A\n",
            "\n",
            "\n",
            "Loss=2.8626866340637207 Batch_id=62 Accuracy=12.33:  64%|██████▍   | 63/98 [00:23<00:10,  3.20it/s]\u001b[A\u001b[A\u001b[A\n",
            "\n",
            "\n",
            "Loss=3.0249435901641846 Batch_id=63 Accuracy=12.33:  64%|██████▍   | 63/98 [00:23<00:10,  3.20it/s]\u001b[A\u001b[A\u001b[A\n",
            "\n",
            "\n",
            "Loss=3.0249435901641846 Batch_id=63 Accuracy=12.33:  65%|██████▌   | 64/98 [00:23<00:09,  3.54it/s]\u001b[A\u001b[A\u001b[A\n",
            "\n",
            "\n",
            "Loss=3.00683331489563 Batch_id=64 Accuracy=12.30:  65%|██████▌   | 64/98 [00:24<00:09,  3.54it/s]  \u001b[A\u001b[A\u001b[A\n",
            "\n",
            "\n",
            "Loss=3.00683331489563 Batch_id=64 Accuracy=12.30:  66%|██████▋   | 65/98 [00:24<00:11,  2.85it/s]\u001b[A\u001b[A\u001b[A\n",
            "\n",
            "\n",
            "Loss=2.9819767475128174 Batch_id=65 Accuracy=12.30:  66%|██████▋   | 65/98 [00:24<00:11,  2.85it/s]\u001b[A\u001b[A\u001b[A\n",
            "\n",
            "\n",
            "Loss=2.9819767475128174 Batch_id=65 Accuracy=12.30:  67%|██████▋   | 66/98 [00:24<00:11,  2.88it/s]\u001b[A\u001b[A\u001b[A\n",
            "\n",
            "\n",
            "Loss=3.0284650325775146 Batch_id=66 Accuracy=12.30:  67%|██████▋   | 66/98 [00:24<00:11,  2.88it/s]\u001b[A\u001b[A\u001b[A\n",
            "\n",
            "\n",
            "Loss=3.0284650325775146 Batch_id=66 Accuracy=12.30:  68%|██████▊   | 67/98 [00:24<00:12,  2.51it/s]\u001b[A\u001b[A\u001b[A\n",
            "\n",
            "\n",
            "Loss=2.947343111038208 Batch_id=67 Accuracy=12.26:  68%|██████▊   | 67/98 [00:25<00:12,  2.51it/s] \u001b[A\u001b[A\u001b[A\n",
            "\n",
            "\n",
            "Loss=2.947343111038208 Batch_id=67 Accuracy=12.26:  69%|██████▉   | 68/98 [00:25<00:10,  2.91it/s]\u001b[A\u001b[A\u001b[A\n",
            "\n",
            "\n",
            "Loss=3.0196752548217773 Batch_id=68 Accuracy=12.26:  69%|██████▉   | 68/98 [00:25<00:10,  2.91it/s]\u001b[A\u001b[A\u001b[A\n",
            "\n",
            "\n",
            "Loss=3.0196752548217773 Batch_id=68 Accuracy=12.26:  70%|███████   | 69/98 [00:25<00:10,  2.72it/s]\u001b[A\u001b[A\u001b[A\n",
            "\n",
            "\n",
            "Loss=2.8581931591033936 Batch_id=69 Accuracy=12.27:  70%|███████   | 69/98 [00:25<00:10,  2.72it/s]\u001b[A\u001b[A\u001b[A\n",
            "\n",
            "\n",
            "Loss=2.8581931591033936 Batch_id=69 Accuracy=12.27:  71%|███████▏  | 70/98 [00:25<00:09,  2.90it/s]\u001b[A\u001b[A\u001b[A\n",
            "\n",
            "\n",
            "Loss=3.038792133331299 Batch_id=70 Accuracy=12.25:  71%|███████▏  | 70/98 [00:26<00:09,  2.90it/s] \u001b[A\u001b[A\u001b[A\n",
            "\n",
            "\n",
            "Loss=3.038792133331299 Batch_id=70 Accuracy=12.25:  72%|███████▏  | 71/98 [00:26<00:11,  2.35it/s]\u001b[A\u001b[A\u001b[A\n",
            "\n",
            "\n",
            "Loss=2.977638006210327 Batch_id=71 Accuracy=12.20:  72%|███████▏  | 71/98 [00:26<00:11,  2.35it/s]\u001b[A\u001b[A\u001b[A\n",
            "\n",
            "\n",
            "Loss=2.977638006210327 Batch_id=71 Accuracy=12.20:  73%|███████▎  | 72/98 [00:26<00:09,  2.71it/s]\u001b[A\u001b[A\u001b[A\n",
            "\n",
            "\n",
            "Loss=3.0366125106811523 Batch_id=72 Accuracy=12.19:  73%|███████▎  | 72/98 [00:27<00:09,  2.71it/s]\u001b[A\u001b[A\u001b[A\n",
            "\n",
            "\n",
            "Loss=3.0366125106811523 Batch_id=72 Accuracy=12.19:  74%|███████▍  | 73/98 [00:27<00:09,  2.67it/s]\u001b[A\u001b[A\u001b[A\n",
            "\n",
            "\n",
            "Loss=2.9542574882507324 Batch_id=73 Accuracy=12.19:  74%|███████▍  | 73/98 [00:27<00:09,  2.67it/s]\u001b[A\u001b[A\u001b[A\n",
            "\n",
            "\n",
            "Loss=2.9542574882507324 Batch_id=73 Accuracy=12.19:  76%|███████▌  | 74/98 [00:27<00:07,  3.07it/s]\u001b[A\u001b[A\u001b[A"
          ],
          "name": "stderr"
        }
      ]
    },
    {
      "cell_type": "code",
      "metadata": {
        "id": "LSLUibI0k4LL",
        "colab_type": "code",
        "colab": {
          "base_uri": "https://localhost:8080/",
          "height": 34
        },
        "outputId": "b583da93-004f-4902-d2e7-015e76e84c36"
      },
      "source": [
        ""
      ],
      "execution_count": 16,
      "outputs": [
        {
          "output_type": "execute_result",
          "data": {
            "text/plain": [
              "0.05358181818181819"
            ]
          },
          "metadata": {
            "tags": []
          },
          "execution_count": 16
        }
      ]
    },
    {
      "cell_type": "code",
      "metadata": {
        "id": "WSo2kYJc940w",
        "colab_type": "code",
        "colab": {}
      },
      "source": [
        ""
      ],
      "execution_count": 0,
      "outputs": []
    }
  ]
}