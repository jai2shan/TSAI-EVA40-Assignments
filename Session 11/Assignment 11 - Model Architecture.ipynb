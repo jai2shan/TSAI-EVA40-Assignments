{
  "nbformat": 4,
  "nbformat_minor": 0,
  "metadata": {
    "colab": {
      "name": "Untitled20.ipynb",
      "provenance": [],
      "authorship_tag": "ABX9TyOcv+NcJyf2F9Q2+QUGykM1",
      "include_colab_link": true
    },
    "kernelspec": {
      "name": "python3",
      "display_name": "Python 3"
    },
    "accelerator": "GPU",
    "widgets": {
      "application/vnd.jupyter.widget-state+json": {
        "977092f4917745d49ca866c040f6dcaa": {
          "model_module": "@jupyter-widgets/controls",
          "model_name": "HBoxModel",
          "state": {
            "_view_name": "HBoxView",
            "_dom_classes": [],
            "_model_name": "HBoxModel",
            "_view_module": "@jupyter-widgets/controls",
            "_model_module_version": "1.5.0",
            "_view_count": null,
            "_view_module_version": "1.5.0",
            "box_style": "",
            "layout": "IPY_MODEL_64ccac8f901d4c88aaa68efd21d27e61",
            "_model_module": "@jupyter-widgets/controls",
            "children": [
              "IPY_MODEL_85de670835414df2bdc79a9e8462afea",
              "IPY_MODEL_c9f06a38685442828fc1099d9a5b9bc1"
            ]
          }
        },
        "64ccac8f901d4c88aaa68efd21d27e61": {
          "model_module": "@jupyter-widgets/base",
          "model_name": "LayoutModel",
          "state": {
            "_view_name": "LayoutView",
            "grid_template_rows": null,
            "right": null,
            "justify_content": null,
            "_view_module": "@jupyter-widgets/base",
            "overflow": null,
            "_model_module_version": "1.2.0",
            "_view_count": null,
            "flex_flow": null,
            "width": null,
            "min_width": null,
            "border": null,
            "align_items": null,
            "bottom": null,
            "_model_module": "@jupyter-widgets/base",
            "top": null,
            "grid_column": null,
            "overflow_y": null,
            "overflow_x": null,
            "grid_auto_flow": null,
            "grid_area": null,
            "grid_template_columns": null,
            "flex": null,
            "_model_name": "LayoutModel",
            "justify_items": null,
            "grid_row": null,
            "max_height": null,
            "align_content": null,
            "visibility": null,
            "align_self": null,
            "height": null,
            "min_height": null,
            "padding": null,
            "grid_auto_rows": null,
            "grid_gap": null,
            "max_width": null,
            "order": null,
            "_view_module_version": "1.2.0",
            "grid_template_areas": null,
            "object_position": null,
            "object_fit": null,
            "grid_auto_columns": null,
            "margin": null,
            "display": null,
            "left": null
          }
        },
        "85de670835414df2bdc79a9e8462afea": {
          "model_module": "@jupyter-widgets/controls",
          "model_name": "FloatProgressModel",
          "state": {
            "_view_name": "ProgressView",
            "style": "IPY_MODEL_cd6d96645ec0416b8bc74cba25e31d15",
            "_dom_classes": [],
            "description": "100%",
            "_model_name": "FloatProgressModel",
            "bar_style": "success",
            "max": 100,
            "_view_module": "@jupyter-widgets/controls",
            "_model_module_version": "1.5.0",
            "value": 100,
            "_view_count": null,
            "_view_module_version": "1.5.0",
            "orientation": "horizontal",
            "min": 0,
            "description_tooltip": null,
            "_model_module": "@jupyter-widgets/controls",
            "layout": "IPY_MODEL_3471b351477b497ab9286fcfb44da76d"
          }
        },
        "c9f06a38685442828fc1099d9a5b9bc1": {
          "model_module": "@jupyter-widgets/controls",
          "model_name": "HTMLModel",
          "state": {
            "_view_name": "HTMLView",
            "style": "IPY_MODEL_4b87b85ade3f4867afdc09990137b3d0",
            "_dom_classes": [],
            "description": "",
            "_model_name": "HTMLModel",
            "placeholder": "​",
            "_view_module": "@jupyter-widgets/controls",
            "_model_module_version": "1.5.0",
            "value": " 100/100 [00:38&lt;00:00,  2.58it/s]",
            "_view_count": null,
            "_view_module_version": "1.5.0",
            "description_tooltip": null,
            "_model_module": "@jupyter-widgets/controls",
            "layout": "IPY_MODEL_2f7e98dc7e634734b28456f6a1b2f328"
          }
        },
        "cd6d96645ec0416b8bc74cba25e31d15": {
          "model_module": "@jupyter-widgets/controls",
          "model_name": "ProgressStyleModel",
          "state": {
            "_view_name": "StyleView",
            "_model_name": "ProgressStyleModel",
            "description_width": "initial",
            "_view_module": "@jupyter-widgets/base",
            "_model_module_version": "1.5.0",
            "_view_count": null,
            "_view_module_version": "1.2.0",
            "bar_color": null,
            "_model_module": "@jupyter-widgets/controls"
          }
        },
        "3471b351477b497ab9286fcfb44da76d": {
          "model_module": "@jupyter-widgets/base",
          "model_name": "LayoutModel",
          "state": {
            "_view_name": "LayoutView",
            "grid_template_rows": null,
            "right": null,
            "justify_content": null,
            "_view_module": "@jupyter-widgets/base",
            "overflow": null,
            "_model_module_version": "1.2.0",
            "_view_count": null,
            "flex_flow": null,
            "width": null,
            "min_width": null,
            "border": null,
            "align_items": null,
            "bottom": null,
            "_model_module": "@jupyter-widgets/base",
            "top": null,
            "grid_column": null,
            "overflow_y": null,
            "overflow_x": null,
            "grid_auto_flow": null,
            "grid_area": null,
            "grid_template_columns": null,
            "flex": null,
            "_model_name": "LayoutModel",
            "justify_items": null,
            "grid_row": null,
            "max_height": null,
            "align_content": null,
            "visibility": null,
            "align_self": null,
            "height": null,
            "min_height": null,
            "padding": null,
            "grid_auto_rows": null,
            "grid_gap": null,
            "max_width": null,
            "order": null,
            "_view_module_version": "1.2.0",
            "grid_template_areas": null,
            "object_position": null,
            "object_fit": null,
            "grid_auto_columns": null,
            "margin": null,
            "display": null,
            "left": null
          }
        },
        "4b87b85ade3f4867afdc09990137b3d0": {
          "model_module": "@jupyter-widgets/controls",
          "model_name": "DescriptionStyleModel",
          "state": {
            "_view_name": "StyleView",
            "_model_name": "DescriptionStyleModel",
            "description_width": "",
            "_view_module": "@jupyter-widgets/base",
            "_model_module_version": "1.5.0",
            "_view_count": null,
            "_view_module_version": "1.2.0",
            "_model_module": "@jupyter-widgets/controls"
          }
        },
        "2f7e98dc7e634734b28456f6a1b2f328": {
          "model_module": "@jupyter-widgets/base",
          "model_name": "LayoutModel",
          "state": {
            "_view_name": "LayoutView",
            "grid_template_rows": null,
            "right": null,
            "justify_content": null,
            "_view_module": "@jupyter-widgets/base",
            "overflow": null,
            "_model_module_version": "1.2.0",
            "_view_count": null,
            "flex_flow": null,
            "width": null,
            "min_width": null,
            "border": null,
            "align_items": null,
            "bottom": null,
            "_model_module": "@jupyter-widgets/base",
            "top": null,
            "grid_column": null,
            "overflow_y": null,
            "overflow_x": null,
            "grid_auto_flow": null,
            "grid_area": null,
            "grid_template_columns": null,
            "flex": null,
            "_model_name": "LayoutModel",
            "justify_items": null,
            "grid_row": null,
            "max_height": null,
            "align_content": null,
            "visibility": null,
            "align_self": null,
            "height": null,
            "min_height": null,
            "padding": null,
            "grid_auto_rows": null,
            "grid_gap": null,
            "max_width": null,
            "order": null,
            "_view_module_version": "1.2.0",
            "grid_template_areas": null,
            "object_position": null,
            "object_fit": null,
            "grid_auto_columns": null,
            "margin": null,
            "display": null,
            "left": null
          }
        }
      }
    }
  },
  "cells": [
    {
      "cell_type": "markdown",
      "metadata": {
        "id": "view-in-github",
        "colab_type": "text"
      },
      "source": [
        "<a href=\"https://colab.research.google.com/github/jai2shan/TSAI-EVA40-Assignments/blob/master/Session%2011/Assignment%2011%20-%20Model%20Architecture.ipynb\" target=\"_parent\"><img src=\"https://colab.research.google.com/assets/colab-badge.svg\" alt=\"Open In Colab\"/></a>"
      ]
    },
    {
      "cell_type": "code",
      "metadata": {
        "id": "KzSQr9ClCZY2",
        "colab_type": "code",
        "colab": {}
      },
      "source": [
        "import os\n",
        "os.chdir(r'/content')\n",
        "# !git clone https://github.com/jai2shan/TSAI-EVA40-Assignments.git\n",
        "import os\n",
        "os.chdir(r'/content/TSAI-EVA40-Assignments/Session 11/asgnmt11')"
      ],
      "execution_count": 0,
      "outputs": []
    },
    {
      "cell_type": "code",
      "metadata": {
        "id": "mposALb_CjdZ",
        "colab_type": "code",
        "colab": {}
      },
      "source": [
        "from torchvision import transforms\n",
        "from DataLoader import cifar_data_loader,View_images\n",
        "import torch\n",
        "from torchsummary import summary\n",
        "from assignment11_model import Net\n",
        "\n",
        "from LR_Finder_acc import *\n",
        "from Training_Testing import TrainTest\n",
        "import torch.optim as optim\n",
        "import torch.nn as nn\n",
        "from torch.optim.lr_scheduler import StepLR\n",
        "from ModelPerformance import *\n",
        "from gradcam import GradCamDisplay\n",
        "import PIL\n",
        "from gradcam import *\n",
        "import copy"
      ],
      "execution_count": 0,
      "outputs": []
    },
    {
      "cell_type": "code",
      "metadata": {
        "id": "pjCi6GErfFig",
        "colab_type": "code",
        "colab": {
          "base_uri": "https://localhost:8080/",
          "height": 50
        },
        "outputId": "4a74b1f4-f08e-4701-d45c-62e86e534aeb"
      },
      "source": [
        "### Data Loading\n",
        "trainloader,testloader = cifar_data_loader(BatchSize=512)"
      ],
      "execution_count": 3,
      "outputs": [
        {
          "output_type": "stream",
          "text": [
            "Files already downloaded and verified\n",
            "Files already downloaded and verified\n"
          ],
          "name": "stdout"
        }
      ]
    },
    {
      "cell_type": "code",
      "metadata": {
        "id": "ZqgWSdxkfvU1",
        "colab_type": "code",
        "colab": {
          "base_uri": "https://localhost:8080/",
          "height": 739
        },
        "outputId": "838b39ec-8359-40a6-a458-5d1a5ca7d42c"
      },
      "source": [
        "use_cuda = torch.cuda.is_available()\n",
        "device = torch.device(\"cuda\" if use_cuda else \"cpu\")\n",
        "print(device)\n",
        "\n",
        "net = Net().to(device)\n",
        "summary(net, input_size=(3,32,32))"
      ],
      "execution_count": 4,
      "outputs": [
        {
          "output_type": "stream",
          "text": [
            "cuda\n",
            "----------------------------------------------------------------\n",
            "        Layer (type)               Output Shape         Param #\n",
            "================================================================\n",
            "            Conv2d-1           [-1, 64, 32, 32]           1,728\n",
            "              ReLU-2           [-1, 64, 32, 32]               0\n",
            "       BatchNorm2d-3           [-1, 64, 32, 32]             128\n",
            "            Conv2d-4          [-1, 128, 32, 32]          73,728\n",
            "         MaxPool2d-5          [-1, 128, 16, 16]               0\n",
            "       BatchNorm2d-6          [-1, 128, 16, 16]             256\n",
            "              ReLU-7          [-1, 128, 16, 16]               0\n",
            "            Conv2d-8          [-1, 128, 16, 16]         147,456\n",
            "       BatchNorm2d-9          [-1, 128, 16, 16]             256\n",
            "             ReLU-10          [-1, 128, 16, 16]               0\n",
            "           Conv2d-11          [-1, 128, 16, 16]         147,456\n",
            "      BatchNorm2d-12          [-1, 128, 16, 16]             256\n",
            "             ReLU-13          [-1, 128, 16, 16]               0\n",
            "           Conv2d-14          [-1, 256, 16, 16]         294,912\n",
            "        MaxPool2d-15            [-1, 256, 8, 8]               0\n",
            "      BatchNorm2d-16            [-1, 256, 8, 8]             512\n",
            "             ReLU-17            [-1, 256, 8, 8]               0\n",
            "           Conv2d-18            [-1, 512, 8, 8]       1,179,648\n",
            "        MaxPool2d-19            [-1, 512, 4, 4]               0\n",
            "      BatchNorm2d-20            [-1, 512, 4, 4]           1,024\n",
            "             ReLU-21            [-1, 512, 4, 4]               0\n",
            "           Conv2d-22            [-1, 512, 4, 4]       2,359,296\n",
            "      BatchNorm2d-23            [-1, 512, 4, 4]           1,024\n",
            "             ReLU-24            [-1, 512, 4, 4]               0\n",
            "           Conv2d-25            [-1, 512, 4, 4]       2,359,296\n",
            "      BatchNorm2d-26            [-1, 512, 4, 4]           1,024\n",
            "             ReLU-27            [-1, 512, 4, 4]               0\n",
            "        MaxPool2d-28            [-1, 512, 1, 1]               0\n",
            "           Conv2d-29             [-1, 10, 1, 1]           5,120\n",
            "================================================================\n",
            "Total params: 6,573,120\n",
            "Trainable params: 6,573,120\n",
            "Non-trainable params: 0\n",
            "----------------------------------------------------------------\n",
            "Input size (MB): 0.01\n",
            "Forward/backward pass size (MB): 6.44\n",
            "Params size (MB): 25.07\n",
            "Estimated Total Size (MB): 31.53\n",
            "----------------------------------------------------------------\n"
          ],
          "name": "stdout"
        }
      ]
    },
    {
      "cell_type": "markdown",
      "metadata": {
        "id": "LzH6N1U6UFrm",
        "colab_type": "text"
      },
      "source": [
        "## Estimating LR Max"
      ]
    },
    {
      "cell_type": "code",
      "metadata": {
        "id": "QlamRWwkkHet",
        "colab_type": "code",
        "colab": {
          "base_uri": "https://localhost:8080/",
          "height": 349,
          "referenced_widgets": [
            "977092f4917745d49ca866c040f6dcaa",
            "64ccac8f901d4c88aaa68efd21d27e61",
            "85de670835414df2bdc79a9e8462afea",
            "c9f06a38685442828fc1099d9a5b9bc1",
            "cd6d96645ec0416b8bc74cba25e31d15",
            "3471b351477b497ab9286fcfb44da76d",
            "4b87b85ade3f4867afdc09990137b3d0",
            "2f7e98dc7e634734b28456f6a1b2f328"
          ]
        },
        "outputId": "5d4e1845-e1ad-4295-d8ca-88ce659cf3e4"
      },
      "source": [
        "criterion = nn.CrossEntropyLoss()\n",
        "optimizer = optim.SGD(net.parameters(), lr=0.0001)\n",
        "\n",
        "lr_finder = LRFinder(net, optimizer, criterion, device=\"cuda\")\n",
        "lr_finder.range_test(trainloader, start_lr=1e-5, end_lr=0.1,\n",
        "                     num_iter=100, step_mode=\"linear\")\n",
        "lr_finder.plot()\n",
        "\n",
        "import pandas as pd\n",
        "lr_ = pd.DataFrame(lr_finder.history)\n",
        "lr_max = lr_[lr_['accuracy']==lr_finder.best_accuracy]['lr']"
      ],
      "execution_count": 6,
      "outputs": [
        {
          "output_type": "display_data",
          "data": {
            "application/vnd.jupyter.widget-view+json": {
              "model_id": "977092f4917745d49ca866c040f6dcaa",
              "version_minor": 0,
              "version_major": 2
            },
            "text/plain": [
              "HBox(children=(FloatProgress(value=0.0), HTML(value='')))"
            ]
          },
          "metadata": {
            "tags": []
          }
        },
        {
          "output_type": "stream",
          "text": [
            "\n",
            "Learning rate search finished. See the graph with {finder_name}.plot()\n"
          ],
          "name": "stdout"
        },
        {
          "output_type": "display_data",
          "data": {
            "image/png": "[encoded data removed]",
            "text/plain": [
              "<Figure size 432x288 with 1 Axes>"
            ]
          },
          "metadata": {
            "tags": [],
            "needs_background": "light"
          }
        }
      ]
    },
    {
      "cell_type": "markdown",
      "metadata": {
        "id": "gDQ9TaYGUM6u",
        "colab_type": "text"
      },
      "source": [
        "## Estimating LR Min\n",
        "\n",
        "No. of Iterations per epoch : 100(50000/512)    \n",
        "10 epochs: 1000 iterations"
      ]
    },
    {
      "cell_type": "code",
      "metadata": {
        "id": "DUpDjilqkQnB",
        "colab_type": "code",
        "colab": {
          "base_uri": "https://localhost:8080/",
          "height": 1000
        },
        "outputId": "b2679c88-4cf6-48c9-d745-5ef93438529b"
      },
      "source": [
        "mins = [lr_max.values[0]/i for i in list(range(5,7))]\n",
        "\n",
        "for i in mins:\n",
        "  tt = TrainTest()\n",
        "  test_acc = 0\n",
        "  criterion = nn.CrossEntropyLoss()\n",
        "  optimizer = optim.SGD(net.parameters(), lr=i, momentum=0.9,weight_decay = 0.0005)\n",
        "\n",
        "  for epoch in range(1):\n",
        "      print(\"EPOCH:\", epoch)\n",
        "      tt.train_(net, device, trainloader, optimizer, criterion, epoch,L1 = False)\n",
        "      acc = tt.test_(net, device, testloader)\n",
        "  torch.cuda.empty_cache()\n"
      ],
      "execution_count": 0,
      "outputs": [
        {
          "output_type": "stream",
          "text": [
            "\n",
            "  0%|          | 0/98 [00:00<?, ?it/s]\u001b[A"
          ],
          "name": "stderr"
        },
        {
          "output_type": "stream",
          "text": [
            "EPOCH: 0\n"
          ],
          "name": "stdout"
        },
        {
          "output_type": "stream",
          "text": [
            "\n",
            "Loss=0.8778223991394043 Batch_id=0 Accuracy=67.58:   0%|          | 0/98 [00:02<?, ?it/s]\u001b[A\n",
            "Loss=0.8778223991394043 Batch_id=0 Accuracy=67.58:   1%|          | 1/98 [00:02<03:20,  2.06s/it]\u001b[A\n",
            "Loss=0.8190242052078247 Batch_id=1 Accuracy=68.95:   1%|          | 1/98 [00:02<03:20,  2.06s/it]\u001b[A\n",
            "Loss=0.8190242052078247 Batch_id=1 Accuracy=68.95:   2%|▏         | 2/98 [00:02<02:27,  1.53s/it]\u001b[A\n",
            "Loss=0.904582679271698 Batch_id=2 Accuracy=67.77:   2%|▏         | 2/98 [00:02<02:27,  1.53s/it] \u001b[A\n",
            "Loss=0.904582679271698 Batch_id=2 Accuracy=67.77:   3%|▎         | 3/98 [00:02<01:50,  1.17s/it]\u001b[A\n",
            "Loss=0.864097535610199 Batch_id=3 Accuracy=68.21:   3%|▎         | 3/98 [00:02<01:50,  1.17s/it]\u001b[A\n",
            "Loss=0.864097535610199 Batch_id=3 Accuracy=68.21:   4%|▍         | 4/98 [00:02<01:25,  1.10it/s]\u001b[A\n",
            "Loss=0.8592584729194641 Batch_id=4 Accuracy=68.63:   4%|▍         | 4/98 [00:03<01:25,  1.10it/s]\u001b[A\n",
            "Loss=0.8592584729194641 Batch_id=4 Accuracy=68.63:   5%|▌         | 5/98 [00:03<01:16,  1.21it/s]\u001b[A\n",
            "Loss=0.9218035936355591 Batch_id=5 Accuracy=68.16:   5%|▌         | 5/98 [00:03<01:16,  1.21it/s]\u001b[A\n",
            "Loss=0.9218035936355591 Batch_id=5 Accuracy=68.16:   6%|▌         | 6/98 [00:03<01:01,  1.49it/s]\u001b[A\n",
            "Loss=0.9614537358283997 Batch_id=6 Accuracy=67.94:   6%|▌         | 6/98 [00:04<01:01,  1.49it/s]\u001b[A\n",
            "Loss=0.9614537358283997 Batch_id=6 Accuracy=67.94:   7%|▋         | 7/98 [00:04<00:51,  1.78it/s]\u001b[A\n",
            "Loss=0.8350801467895508 Batch_id=7 Accuracy=68.36:   7%|▋         | 7/98 [00:04<00:51,  1.78it/s]\u001b[A\n",
            "Loss=0.8350801467895508 Batch_id=7 Accuracy=68.36:   8%|▊         | 8/98 [00:04<00:43,  2.08it/s]\u001b[A\n",
            "Loss=0.9510143995285034 Batch_id=8 Accuracy=67.97:   8%|▊         | 8/98 [00:05<00:43,  2.08it/s]\u001b[A\n",
            "Loss=0.9510143995285034 Batch_id=8 Accuracy=67.97:   9%|▉         | 9/98 [00:05<00:46,  1.92it/s]\u001b[A\n",
            "Loss=0.9398477673530579 Batch_id=9 Accuracy=68.03:   9%|▉         | 9/98 [00:05<00:46,  1.92it/s]\u001b[A\n",
            "Loss=0.9398477673530579 Batch_id=9 Accuracy=68.03:  10%|█         | 10/98 [00:05<00:40,  2.19it/s]\u001b[A\n",
            "Loss=0.9260371327400208 Batch_id=10 Accuracy=67.88:  10%|█         | 10/98 [00:05<00:40,  2.19it/s]\u001b[A\n",
            "Loss=0.9260371327400208 Batch_id=10 Accuracy=67.88:  11%|█         | 11/98 [00:05<00:35,  2.44it/s]\u001b[A\n",
            "Loss=0.8561496734619141 Batch_id=11 Accuracy=68.15:  11%|█         | 11/98 [00:06<00:35,  2.44it/s]\u001b[A\n",
            "Loss=0.8561496734619141 Batch_id=11 Accuracy=68.15:  12%|█▏        | 12/98 [00:06<00:32,  2.64it/s]\u001b[A\n",
            "Loss=0.9111782312393188 Batch_id=12 Accuracy=68.10:  12%|█▏        | 12/98 [00:06<00:32,  2.64it/s]\u001b[A\n",
            "Loss=0.9111782312393188 Batch_id=12 Accuracy=68.10:  13%|█▎        | 13/98 [00:06<00:40,  2.07it/s]\u001b[A\n",
            "Loss=0.9095712304115295 Batch_id=13 Accuracy=67.94:  13%|█▎        | 13/98 [00:07<00:40,  2.07it/s]\u001b[A\n",
            "Loss=0.9095712304115295 Batch_id=13 Accuracy=67.94:  14%|█▍        | 14/98 [00:07<00:35,  2.34it/s]\u001b[A\n",
            "Loss=0.9444909691810608 Batch_id=14 Accuracy=68.01:  14%|█▍        | 14/98 [00:07<00:35,  2.34it/s]\u001b[A\n",
            "Loss=0.9444909691810608 Batch_id=14 Accuracy=68.01:  15%|█▌        | 15/98 [00:07<00:32,  2.55it/s]\u001b[A\n",
            "Loss=0.9518797397613525 Batch_id=15 Accuracy=67.99:  15%|█▌        | 15/98 [00:07<00:32,  2.55it/s]\u001b[A\n",
            "Loss=0.9518797397613525 Batch_id=15 Accuracy=67.99:  16%|█▋        | 16/98 [00:07<00:30,  2.72it/s]\u001b[A\n",
            "Loss=0.9515827298164368 Batch_id=16 Accuracy=67.95:  16%|█▋        | 16/98 [00:08<00:30,  2.72it/s]\u001b[A\n",
            "Loss=0.9515827298164368 Batch_id=16 Accuracy=67.95:  17%|█▋        | 17/98 [00:08<00:40,  2.02it/s]\u001b[A\n",
            "Loss=1.0641299486160278 Batch_id=17 Accuracy=67.72:  17%|█▋        | 17/98 [00:08<00:40,  2.02it/s]\u001b[A\n",
            "Loss=1.0641299486160278 Batch_id=17 Accuracy=67.72:  18%|█▊        | 18/98 [00:08<00:34,  2.31it/s]\u001b[A\n",
            "Loss=0.8803646564483643 Batch_id=18 Accuracy=67.63:  18%|█▊        | 18/98 [00:09<00:34,  2.31it/s]\u001b[A\n",
            "Loss=0.8803646564483643 Batch_id=18 Accuracy=67.63:  19%|█▉        | 19/98 [00:09<00:31,  2.53it/s]\u001b[A\n",
            "Loss=0.9440088272094727 Batch_id=19 Accuracy=67.58:  19%|█▉        | 19/98 [00:09<00:31,  2.53it/s]\u001b[A\n",
            "Loss=0.9440088272094727 Batch_id=19 Accuracy=67.58:  20%|██        | 20/98 [00:09<00:28,  2.70it/s]\u001b[A\n",
            "Loss=1.0006804466247559 Batch_id=20 Accuracy=67.41:  20%|██        | 20/98 [00:10<00:28,  2.70it/s]\u001b[A\n",
            "Loss=1.0006804466247559 Batch_id=20 Accuracy=67.41:  21%|██▏       | 21/98 [00:10<00:40,  1.91it/s]\u001b[A\n",
            "Loss=0.9532038569450378 Batch_id=21 Accuracy=67.45:  21%|██▏       | 21/98 [00:10<00:40,  1.91it/s]\u001b[A\n",
            "Loss=0.9532038569450378 Batch_id=21 Accuracy=67.45:  22%|██▏       | 22/98 [00:10<00:34,  2.18it/s]\u001b[A\n",
            "Loss=0.9502125978469849 Batch_id=22 Accuracy=67.32:  22%|██▏       | 22/98 [00:10<00:34,  2.18it/s]\u001b[A\n",
            "Loss=0.9502125978469849 Batch_id=22 Accuracy=67.32:  23%|██▎       | 23/98 [00:10<00:30,  2.42it/s]\u001b[A\n",
            "Loss=1.0176900625228882 Batch_id=23 Accuracy=67.15:  23%|██▎       | 23/98 [00:11<00:30,  2.42it/s]\u001b[A\n",
            "Loss=1.0176900625228882 Batch_id=23 Accuracy=67.15:  24%|██▍       | 24/98 [00:11<00:28,  2.64it/s]\u001b[A\n",
            "Loss=0.8717344403266907 Batch_id=24 Accuracy=67.21:  24%|██▍       | 24/98 [00:11<00:28,  2.64it/s]\u001b[A\n",
            "Loss=0.8717344403266907 Batch_id=24 Accuracy=67.21:  26%|██▌       | 25/98 [00:11<00:35,  2.07it/s]\u001b[A\n",
            "Loss=0.8294967412948608 Batch_id=25 Accuracy=67.35:  26%|██▌       | 25/98 [00:12<00:35,  2.07it/s]\u001b[A\n",
            "Loss=0.8294967412948608 Batch_id=25 Accuracy=67.35:  27%|██▋       | 26/98 [00:12<00:31,  2.30it/s]\u001b[A\n",
            "Loss=0.920715868473053 Batch_id=26 Accuracy=67.32:  27%|██▋       | 26/98 [00:12<00:31,  2.30it/s] \u001b[A\n",
            "Loss=0.920715868473053 Batch_id=26 Accuracy=67.32:  28%|██▊       | 27/98 [00:12<00:28,  2.52it/s]\u001b[A\n",
            "Loss=0.8381712436676025 Batch_id=27 Accuracy=67.46:  28%|██▊       | 27/98 [00:12<00:28,  2.52it/s]\u001b[A\n",
            "Loss=0.8381712436676025 Batch_id=27 Accuracy=67.46:  29%|██▊       | 28/98 [00:12<00:25,  2.72it/s]\u001b[A\n",
            "Loss=0.8399880528450012 Batch_id=28 Accuracy=67.58:  29%|██▊       | 28/98 [00:13<00:25,  2.72it/s]\u001b[A\n",
            "Loss=0.8399880528450012 Batch_id=28 Accuracy=67.58:  30%|██▉       | 29/98 [00:13<00:32,  2.10it/s]\u001b[A\n",
            "Loss=0.8277345895767212 Batch_id=29 Accuracy=67.67:  30%|██▉       | 29/98 [00:13<00:32,  2.10it/s]\u001b[A\n",
            "Loss=0.8277345895767212 Batch_id=29 Accuracy=67.67:  31%|███       | 30/98 [00:13<00:28,  2.35it/s]\u001b[A\n",
            "Loss=0.9213829636573792 Batch_id=30 Accuracy=67.70:  31%|███       | 30/98 [00:14<00:28,  2.35it/s]\u001b[A\n",
            "Loss=0.9213829636573792 Batch_id=30 Accuracy=67.70:  32%|███▏      | 31/98 [00:14<00:26,  2.56it/s]\u001b[A\n",
            "Loss=0.9631974697113037 Batch_id=31 Accuracy=67.68:  32%|███▏      | 31/98 [00:14<00:26,  2.56it/s]\u001b[A\n",
            "Loss=0.9631974697113037 Batch_id=31 Accuracy=67.68:  33%|███▎      | 32/98 [00:14<00:24,  2.73it/s]\u001b[A\n",
            "Loss=0.9647381901741028 Batch_id=32 Accuracy=67.64:  33%|███▎      | 32/98 [00:15<00:24,  2.73it/s]\u001b[A\n",
            "Loss=0.9647381901741028 Batch_id=32 Accuracy=67.64:  34%|███▎      | 33/98 [00:15<00:29,  2.22it/s]\u001b[A\n",
            "Loss=0.8239797353744507 Batch_id=33 Accuracy=67.75:  34%|███▎      | 33/98 [00:15<00:29,  2.22it/s]\u001b[A\n",
            "Loss=0.8239797353744507 Batch_id=33 Accuracy=67.75:  35%|███▍      | 34/98 [00:15<00:25,  2.46it/s]\u001b[A\n",
            "Loss=0.9096571207046509 Batch_id=34 Accuracy=67.81:  35%|███▍      | 34/98 [00:15<00:25,  2.46it/s]\u001b[A\n",
            "Loss=0.9096571207046509 Batch_id=34 Accuracy=67.81:  36%|███▌      | 35/98 [00:15<00:23,  2.64it/s]\u001b[A\n",
            "Loss=0.9202089309692383 Batch_id=35 Accuracy=67.77:  36%|███▌      | 35/98 [00:16<00:23,  2.64it/s]\u001b[A\n",
            "Loss=0.9202089309692383 Batch_id=35 Accuracy=67.77:  37%|███▋      | 36/98 [00:16<00:22,  2.77it/s]\u001b[A\n",
            "Loss=0.9071947336196899 Batch_id=36 Accuracy=67.78:  37%|███▋      | 36/98 [00:16<00:22,  2.77it/s]\u001b[A\n",
            "Loss=0.9071947336196899 Batch_id=36 Accuracy=67.78:  38%|███▊      | 37/98 [00:16<00:27,  2.20it/s]\u001b[A\n",
            "Loss=0.8510846495628357 Batch_id=37 Accuracy=67.79:  38%|███▊      | 37/98 [00:17<00:27,  2.20it/s]\u001b[A\n",
            "Loss=0.8510846495628357 Batch_id=37 Accuracy=67.79:  39%|███▉      | 38/98 [00:17<00:24,  2.43it/s]\u001b[A\n",
            "Loss=0.8753798604011536 Batch_id=38 Accuracy=67.85:  39%|███▉      | 38/98 [00:17<00:24,  2.43it/s]\u001b[A\n",
            "Loss=0.8753798604011536 Batch_id=38 Accuracy=67.85:  40%|███▉      | 39/98 [00:17<00:22,  2.65it/s]\u001b[A\n",
            "Loss=0.8586666584014893 Batch_id=39 Accuracy=67.88:  40%|███▉      | 39/98 [00:17<00:22,  2.65it/s]\u001b[A\n",
            "Loss=0.8586666584014893 Batch_id=39 Accuracy=67.88:  41%|████      | 40/98 [00:17<00:20,  2.85it/s]\u001b[A\n",
            "Loss=0.9943957924842834 Batch_id=40 Accuracy=67.88:  41%|████      | 40/98 [00:18<00:20,  2.85it/s]\u001b[A\n",
            "Loss=0.9943957924842834 Batch_id=40 Accuracy=67.88:  42%|████▏     | 41/98 [00:18<00:24,  2.37it/s]\u001b[A\n",
            "Loss=0.9126532077789307 Batch_id=41 Accuracy=67.86:  42%|████▏     | 41/98 [00:18<00:24,  2.37it/s]\u001b[A\n",
            "Loss=0.9126532077789307 Batch_id=41 Accuracy=67.86:  43%|████▎     | 42/98 [00:18<00:21,  2.61it/s]\u001b[A\n",
            "Loss=0.8449248671531677 Batch_id=42 Accuracy=67.91:  43%|████▎     | 42/98 [00:18<00:21,  2.61it/s]\u001b[A\n",
            "Loss=0.8449248671531677 Batch_id=42 Accuracy=67.91:  44%|████▍     | 43/98 [00:18<00:19,  2.81it/s]\u001b[A\n",
            "Loss=0.8904905319213867 Batch_id=43 Accuracy=67.95:  44%|████▍     | 43/98 [00:19<00:19,  2.81it/s]\u001b[A\n",
            "Loss=0.8904905319213867 Batch_id=43 Accuracy=67.95:  45%|████▍     | 44/98 [00:19<00:18,  2.97it/s]\u001b[A\n",
            "Loss=0.8843438029289246 Batch_id=44 Accuracy=67.93:  45%|████▍     | 44/98 [00:19<00:18,  2.97it/s]\u001b[A\n",
            "Loss=0.8843438029289246 Batch_id=44 Accuracy=67.93:  46%|████▌     | 45/98 [00:19<00:25,  2.10it/s]\u001b[A\n",
            "Loss=0.9434753060340881 Batch_id=45 Accuracy=67.87:  46%|████▌     | 45/98 [00:20<00:25,  2.10it/s]\u001b[A\n",
            "Loss=0.9434753060340881 Batch_id=45 Accuracy=67.87:  47%|████▋     | 46/98 [00:20<00:21,  2.39it/s]\u001b[A\n",
            "Loss=0.9068429470062256 Batch_id=46 Accuracy=67.91:  47%|████▋     | 46/98 [00:20<00:21,  2.39it/s]\u001b[A\n",
            "Loss=0.9068429470062256 Batch_id=46 Accuracy=67.91:  48%|████▊     | 47/98 [00:20<00:19,  2.59it/s]\u001b[A\n",
            "Loss=0.9084191918373108 Batch_id=47 Accuracy=67.86:  48%|████▊     | 47/98 [00:20<00:19,  2.59it/s]\u001b[A\n",
            "Loss=0.9084191918373108 Batch_id=47 Accuracy=67.86:  49%|████▉     | 48/98 [00:20<00:18,  2.76it/s]\u001b[A\n",
            "Loss=0.9287576079368591 Batch_id=48 Accuracy=67.83:  49%|████▉     | 48/98 [00:21<00:18,  2.76it/s]\u001b[A\n",
            "Loss=0.9287576079368591 Batch_id=48 Accuracy=67.83:  50%|█████     | 49/98 [00:21<00:22,  2.14it/s]\u001b[A\n",
            "Loss=0.8143997192382812 Batch_id=49 Accuracy=67.86:  50%|█████     | 49/98 [00:21<00:22,  2.14it/s]\u001b[A\n",
            "Loss=0.8143997192382812 Batch_id=49 Accuracy=67.86:  51%|█████     | 50/98 [00:21<00:20,  2.40it/s]\u001b[A\n",
            "Loss=0.9499961733818054 Batch_id=50 Accuracy=67.87:  51%|█████     | 50/98 [00:22<00:20,  2.40it/s]\u001b[A\n",
            "Loss=0.9499961733818054 Batch_id=50 Accuracy=67.87:  52%|█████▏    | 51/98 [00:22<00:18,  2.58it/s]\u001b[A\n",
            "Loss=0.9466246962547302 Batch_id=51 Accuracy=67.84:  52%|█████▏    | 51/98 [00:22<00:18,  2.58it/s]\u001b[A\n",
            "Loss=0.9466246962547302 Batch_id=51 Accuracy=67.84:  53%|█████▎    | 52/98 [00:22<00:16,  2.73it/s]\u001b[A\n",
            "Loss=0.8883848190307617 Batch_id=52 Accuracy=67.84:  53%|█████▎    | 52/98 [00:23<00:16,  2.73it/s]\u001b[A\n",
            "Loss=0.8883848190307617 Batch_id=52 Accuracy=67.84:  54%|█████▍    | 53/98 [00:23<00:19,  2.32it/s]\u001b[A\n",
            "Loss=0.9190189838409424 Batch_id=53 Accuracy=67.84:  54%|█████▍    | 53/98 [00:23<00:19,  2.32it/s]\u001b[A\n",
            "Loss=0.9190189838409424 Batch_id=53 Accuracy=67.84:  55%|█████▌    | 54/98 [00:23<00:17,  2.55it/s]\u001b[A\n",
            "Loss=0.969317615032196 Batch_id=54 Accuracy=67.79:  55%|█████▌    | 54/98 [00:23<00:17,  2.55it/s] \u001b[A\n",
            "Loss=0.969317615032196 Batch_id=54 Accuracy=67.79:  56%|█████▌    | 55/98 [00:23<00:15,  2.76it/s]\u001b[A\n",
            "Loss=0.9117957353591919 Batch_id=55 Accuracy=67.81:  56%|█████▌    | 55/98 [00:23<00:15,  2.76it/s]\u001b[A\n",
            "Loss=0.9117957353591919 Batch_id=55 Accuracy=67.81:  57%|█████▋    | 56/98 [00:23<00:14,  2.90it/s]\u001b[A\n",
            "Loss=0.8500020503997803 Batch_id=56 Accuracy=67.86:  57%|█████▋    | 56/98 [00:24<00:14,  2.90it/s]\u001b[A\n",
            "Loss=0.8500020503997803 Batch_id=56 Accuracy=67.86:  58%|█████▊    | 57/98 [00:24<00:18,  2.24it/s]\u001b[A\n",
            "Loss=0.9730969071388245 Batch_id=57 Accuracy=67.84:  58%|█████▊    | 57/98 [00:24<00:18,  2.24it/s]\u001b[A\n",
            "Loss=0.9730969071388245 Batch_id=57 Accuracy=67.84:  59%|█████▉    | 58/98 [00:24<00:16,  2.49it/s]\u001b[A\n",
            "Loss=0.8717514276504517 Batch_id=58 Accuracy=67.88:  59%|█████▉    | 58/98 [00:25<00:16,  2.49it/s]\u001b[A\n",
            "Loss=0.8717514276504517 Batch_id=58 Accuracy=67.88:  60%|██████    | 59/98 [00:25<00:14,  2.66it/s]\u001b[A\n",
            "Loss=0.8861104249954224 Batch_id=59 Accuracy=67.91:  60%|██████    | 59/98 [00:25<00:14,  2.66it/s]\u001b[A\n",
            "Loss=0.8861104249954224 Batch_id=59 Accuracy=67.91:  61%|██████    | 60/98 [00:25<00:13,  2.81it/s]\u001b[A\n",
            "Loss=0.9414874315261841 Batch_id=60 Accuracy=67.86:  61%|██████    | 60/98 [00:26<00:13,  2.81it/s]\u001b[A\n",
            "Loss=0.9414874315261841 Batch_id=60 Accuracy=67.86:  62%|██████▏   | 61/98 [00:26<00:17,  2.12it/s]\u001b[A\n",
            "Loss=1.020806074142456 Batch_id=61 Accuracy=67.80:  62%|██████▏   | 61/98 [00:26<00:17,  2.12it/s] \u001b[A\n",
            "Loss=1.020806074142456 Batch_id=61 Accuracy=67.80:  63%|██████▎   | 62/98 [00:26<00:15,  2.37it/s]\u001b[A\n",
            "Loss=0.9226454496383667 Batch_id=62 Accuracy=67.81:  63%|██████▎   | 62/98 [00:26<00:15,  2.37it/s]\u001b[A\n",
            "Loss=0.9226454496383667 Batch_id=62 Accuracy=67.81:  64%|██████▍   | 63/98 [00:26<00:13,  2.60it/s]\u001b[A\n",
            "Loss=0.8416274785995483 Batch_id=63 Accuracy=67.87:  64%|██████▍   | 63/98 [00:27<00:13,  2.60it/s]\u001b[A\n",
            "Loss=0.8416274785995483 Batch_id=63 Accuracy=67.87:  65%|██████▌   | 64/98 [00:27<00:12,  2.77it/s]\u001b[A\n",
            "Loss=0.9627357125282288 Batch_id=64 Accuracy=67.84:  65%|██████▌   | 64/98 [00:27<00:12,  2.77it/s]\u001b[A\n",
            "Loss=0.9627357125282288 Batch_id=64 Accuracy=67.84:  66%|██████▋   | 65/98 [00:27<00:15,  2.19it/s]\u001b[A\n",
            "Loss=0.8978946208953857 Batch_id=65 Accuracy=67.84:  66%|██████▋   | 65/98 [00:28<00:15,  2.19it/s]\u001b[A\n",
            "Loss=0.8978946208953857 Batch_id=65 Accuracy=67.84:  67%|██████▋   | 66/98 [00:28<00:13,  2.46it/s]\u001b[A\n",
            "Loss=0.8940743803977966 Batch_id=66 Accuracy=67.82:  67%|██████▋   | 66/98 [00:28<00:13,  2.46it/s]\u001b[A\n",
            "Loss=0.8940743803977966 Batch_id=66 Accuracy=67.82:  68%|██████▊   | 67/98 [00:28<00:11,  2.66it/s]\u001b[A\n",
            "Loss=0.8569545745849609 Batch_id=67 Accuracy=67.85:  68%|██████▊   | 67/98 [00:28<00:11,  2.66it/s]\u001b[A\n",
            "Loss=0.8569545745849609 Batch_id=67 Accuracy=67.85:  69%|██████▉   | 68/98 [00:28<00:10,  2.76it/s]\u001b[A\n",
            "Loss=1.0374099016189575 Batch_id=68 Accuracy=67.80:  69%|██████▉   | 68/98 [00:29<00:10,  2.76it/s]\u001b[A\n",
            "Loss=1.0374099016189575 Batch_id=68 Accuracy=67.80:  70%|███████   | 69/98 [00:29<00:13,  2.19it/s]\u001b[A\n",
            "Loss=0.8810738325119019 Batch_id=69 Accuracy=67.79:  70%|███████   | 69/98 [00:29<00:13,  2.19it/s]\u001b[A\n",
            "Loss=0.8810738325119019 Batch_id=69 Accuracy=67.79:  71%|███████▏  | 70/98 [00:29<00:11,  2.42it/s]\u001b[A\n",
            "Loss=0.9617043137550354 Batch_id=70 Accuracy=67.78:  71%|███████▏  | 70/98 [00:30<00:11,  2.42it/s]\u001b[A\n",
            "Loss=0.9617043137550354 Batch_id=70 Accuracy=67.78:  72%|███████▏  | 71/98 [00:30<00:10,  2.64it/s]\u001b[A\n",
            "Loss=0.9462067484855652 Batch_id=71 Accuracy=67.81:  72%|███████▏  | 71/98 [00:30<00:10,  2.64it/s]\u001b[A\n",
            "Loss=0.9462067484855652 Batch_id=71 Accuracy=67.81:  73%|███████▎  | 72/98 [00:30<00:09,  2.81it/s]\u001b[A\n",
            "Loss=0.8976600766181946 Batch_id=72 Accuracy=67.81:  73%|███████▎  | 72/98 [00:31<00:09,  2.81it/s]\u001b[A\n",
            "Loss=0.8976600766181946 Batch_id=72 Accuracy=67.81:  74%|███████▍  | 73/98 [00:31<00:11,  2.21it/s]\u001b[A\n",
            "Loss=0.9603933691978455 Batch_id=73 Accuracy=67.78:  74%|███████▍  | 73/98 [00:31<00:11,  2.21it/s]\u001b[A\n",
            "Loss=0.9603933691978455 Batch_id=73 Accuracy=67.78:  76%|███████▌  | 74/98 [00:31<00:09,  2.44it/s]\u001b[A\n",
            "Loss=0.7993544340133667 Batch_id=74 Accuracy=67.84:  76%|███████▌  | 74/98 [00:31<00:09,  2.44it/s]\u001b[A\n",
            "Loss=0.7993544340133667 Batch_id=74 Accuracy=67.84:  77%|███████▋  | 75/98 [00:31<00:08,  2.62it/s]\u001b[A\n",
            "Loss=0.9143201112747192 Batch_id=75 Accuracy=67.85:  77%|███████▋  | 75/98 [00:31<00:08,  2.62it/s]\u001b[A\n",
            "Loss=0.9143201112747192 Batch_id=75 Accuracy=67.85:  78%|███████▊  | 76/98 [00:31<00:07,  2.81it/s]\u001b[A\n",
            "Loss=0.8412327170372009 Batch_id=76 Accuracy=67.89:  78%|███████▊  | 76/98 [00:32<00:07,  2.81it/s]\u001b[A\n",
            "Loss=0.8412327170372009 Batch_id=76 Accuracy=67.89:  79%|███████▊  | 77/98 [00:32<00:09,  2.15it/s]\u001b[A\n",
            "Loss=0.9703931212425232 Batch_id=77 Accuracy=67.83:  79%|███████▊  | 77/98 [00:33<00:09,  2.15it/s]\u001b[A\n",
            "Loss=0.9703931212425232 Batch_id=77 Accuracy=67.83:  80%|███████▉  | 78/98 [00:33<00:08,  2.39it/s]\u001b[A\n",
            "Loss=0.9443192481994629 Batch_id=78 Accuracy=67.81:  80%|███████▉  | 78/98 [00:33<00:08,  2.39it/s]\u001b[A\n",
            "Loss=0.9443192481994629 Batch_id=78 Accuracy=67.81:  81%|████████  | 79/98 [00:33<00:07,  2.59it/s]\u001b[A\n",
            "Loss=0.9346157908439636 Batch_id=79 Accuracy=67.81:  81%|████████  | 79/98 [00:33<00:07,  2.59it/s]\u001b[A\n",
            "Loss=0.9346157908439636 Batch_id=79 Accuracy=67.81:  82%|████████▏ | 80/98 [00:33<00:06,  2.74it/s]\u001b[A\n",
            "Loss=0.9878155589103699 Batch_id=80 Accuracy=67.79:  82%|████████▏ | 80/98 [00:34<00:06,  2.74it/s]\u001b[A\n",
            "Loss=0.9878155589103699 Batch_id=80 Accuracy=67.79:  83%|████████▎ | 81/98 [00:34<00:08,  2.08it/s]\u001b[A\n",
            "Loss=0.8847687244415283 Batch_id=81 Accuracy=67.80:  83%|████████▎ | 81/98 [00:34<00:08,  2.08it/s]\u001b[A\n",
            "Loss=0.8847687244415283 Batch_id=81 Accuracy=67.80:  84%|████████▎ | 82/98 [00:34<00:06,  2.33it/s]\u001b[A\n",
            "Loss=0.8994659781455994 Batch_id=82 Accuracy=67.79:  84%|████████▎ | 82/98 [00:35<00:06,  2.33it/s]\u001b[A\n",
            "Loss=0.8994659781455994 Batch_id=82 Accuracy=67.79:  85%|████████▍ | 83/98 [00:35<00:05,  2.54it/s]\u001b[A\n",
            "Loss=0.9187613725662231 Batch_id=83 Accuracy=67.81:  85%|████████▍ | 83/98 [00:35<00:05,  2.54it/s]\u001b[A\n",
            "Loss=0.9187613725662231 Batch_id=83 Accuracy=67.81:  86%|████████▌ | 84/98 [00:35<00:05,  2.68it/s]\u001b[A\n",
            "Loss=0.9491895437240601 Batch_id=84 Accuracy=67.79:  86%|████████▌ | 84/98 [00:35<00:05,  2.68it/s]\u001b[A\n",
            "Loss=0.9491895437240601 Batch_id=84 Accuracy=67.79:  87%|████████▋ | 85/98 [00:35<00:05,  2.29it/s]\u001b[A\n",
            "Loss=0.8798995614051819 Batch_id=85 Accuracy=67.79:  87%|████████▋ | 85/98 [00:36<00:05,  2.29it/s]\u001b[A\n",
            "Loss=0.8798995614051819 Batch_id=85 Accuracy=67.79:  88%|████████▊ | 86/98 [00:36<00:04,  2.51it/s]\u001b[A\n",
            "Loss=0.911138653755188 Batch_id=86 Accuracy=67.79:  88%|████████▊ | 86/98 [00:36<00:04,  2.51it/s] \u001b[A\n",
            "Loss=0.911138653755188 Batch_id=86 Accuracy=67.79:  89%|████████▉ | 87/98 [00:36<00:04,  2.70it/s]\u001b[A\n",
            "Loss=0.8572646975517273 Batch_id=87 Accuracy=67.78:  89%|████████▉ | 87/98 [00:36<00:04,  2.70it/s]\u001b[A\n",
            "Loss=0.8572646975517273 Batch_id=87 Accuracy=67.78:  90%|████████▉ | 88/98 [00:36<00:03,  2.85it/s]\u001b[A\n",
            "Loss=0.8891435861587524 Batch_id=88 Accuracy=67.78:  90%|████████▉ | 88/98 [00:37<00:03,  2.85it/s]\u001b[A\n",
            "Loss=0.8891435861587524 Batch_id=88 Accuracy=67.78:  91%|█████████ | 89/98 [00:37<00:04,  2.21it/s]\u001b[A\n",
            "Loss=0.8862495422363281 Batch_id=89 Accuracy=67.78:  91%|█████████ | 89/98 [00:37<00:04,  2.21it/s]\u001b[A\n",
            "Loss=0.8862495422363281 Batch_id=89 Accuracy=67.78:  92%|█████████▏| 90/98 [00:37<00:03,  2.45it/s]\u001b[A\n",
            "Loss=0.8024595975875854 Batch_id=90 Accuracy=67.84:  92%|█████████▏| 90/98 [00:38<00:03,  2.45it/s]\u001b[A\n",
            "Loss=0.8024595975875854 Batch_id=90 Accuracy=67.84:  93%|█████████▎| 91/98 [00:38<00:02,  2.64it/s]\u001b[A\n",
            "Loss=0.9569252133369446 Batch_id=91 Accuracy=67.83:  93%|█████████▎| 91/98 [00:38<00:02,  2.64it/s]\u001b[A\n",
            "Loss=0.9569252133369446 Batch_id=91 Accuracy=67.83:  94%|█████████▍| 92/98 [00:38<00:02,  2.78it/s]\u001b[A\n",
            "Loss=0.9070053100585938 Batch_id=92 Accuracy=67.83:  94%|█████████▍| 92/98 [00:39<00:02,  2.78it/s]\u001b[A\n",
            "Loss=0.9070053100585938 Batch_id=92 Accuracy=67.83:  95%|█████████▍| 93/98 [00:39<00:02,  2.26it/s]\u001b[A\n",
            "Loss=0.852101743221283 Batch_id=93 Accuracy=67.85:  95%|█████████▍| 93/98 [00:39<00:02,  2.26it/s] \u001b[A\n",
            "Loss=0.852101743221283 Batch_id=93 Accuracy=67.85:  96%|█████████▌| 94/98 [00:39<00:01,  2.50it/s]\u001b[A\n",
            "Loss=0.9655659794807434 Batch_id=94 Accuracy=67.84:  96%|█████████▌| 94/98 [00:39<00:01,  2.50it/s]\u001b[A\n",
            "Loss=0.9655659794807434 Batch_id=94 Accuracy=67.84:  97%|█████████▋| 95/98 [00:39<00:01,  2.70it/s]\u001b[A\n",
            "Loss=0.8811222314834595 Batch_id=95 Accuracy=67.86:  97%|█████████▋| 95/98 [00:40<00:01,  2.70it/s]\u001b[A\n",
            "Loss=0.8811222314834595 Batch_id=95 Accuracy=67.86:  98%|█████████▊| 96/98 [00:40<00:00,  2.88it/s]\u001b[A\n",
            "Loss=0.7884033918380737 Batch_id=96 Accuracy=67.92:  98%|█████████▊| 96/98 [00:40<00:00,  2.88it/s]\u001b[A\n",
            "Loss=0.7884033918380737 Batch_id=96 Accuracy=67.92:  99%|█████████▉| 97/98 [00:40<00:00,  3.02it/s]\u001b[A\n",
            "Loss=0.8694682121276855 Batch_id=97 Accuracy=67.93:  99%|█████████▉| 97/98 [00:40<00:00,  3.02it/s]\u001b[A\n",
            "Loss=0.8694682121276855 Batch_id=97 Accuracy=67.93: 100%|██████████| 98/98 [00:40<00:00,  2.41it/s]\n",
            "\n",
            "  0%|          | 0/98 [00:00<?, ?it/s]\u001b[A"
          ],
          "name": "stderr"
        },
        {
          "output_type": "stream",
          "text": [
            "\n",
            "Test set: Average loss: 0.7407, Accuracy: 7392/10000 (73.92%)\n",
            "\n",
            "deleted\n",
            "EPOCH: 0\n"
          ],
          "name": "stdout"
        },
        {
          "output_type": "stream",
          "text": [
            "\n",
            "Loss=0.8227804899215698 Batch_id=0 Accuracy=69.53:   0%|          | 0/98 [00:01<?, ?it/s]\u001b[A\n",
            "Loss=0.8227804899215698 Batch_id=0 Accuracy=69.53:   1%|          | 1/98 [00:01<03:01,  1.87s/it]\u001b[A\n",
            "Loss=0.8868977427482605 Batch_id=1 Accuracy=67.97:   1%|          | 1/98 [00:02<03:01,  1.87s/it]\u001b[A\n",
            "Loss=0.8868977427482605 Batch_id=1 Accuracy=67.97:   2%|▏         | 2/98 [00:02<02:14,  1.40s/it]\u001b[A\n",
            "Loss=0.7279601097106934 Batch_id=2 Accuracy=70.31:   2%|▏         | 2/98 [00:02<02:14,  1.40s/it]\u001b[A\n",
            "Loss=0.7279601097106934 Batch_id=2 Accuracy=70.31:   3%|▎         | 3/98 [00:02<01:41,  1.07s/it]\u001b[A\n",
            "Loss=0.8455334305763245 Batch_id=3 Accuracy=70.85:   3%|▎         | 3/98 [00:02<01:41,  1.07s/it]\u001b[A\n",
            "Loss=0.8455334305763245 Batch_id=3 Accuracy=70.85:   4%|▍         | 4/98 [00:02<01:19,  1.18it/s]\u001b[A\n",
            "Loss=0.8913002014160156 Batch_id=4 Accuracy=70.59:   4%|▍         | 4/98 [00:03<01:19,  1.18it/s]\u001b[A\n",
            "Loss=0.8913002014160156 Batch_id=4 Accuracy=70.59:   5%|▌         | 5/98 [00:03<01:13,  1.27it/s]\u001b[A\n",
            "Loss=0.8466508388519287 Batch_id=5 Accuracy=70.51:   5%|▌         | 5/98 [00:03<01:13,  1.27it/s]\u001b[A\n",
            "Loss=0.8466508388519287 Batch_id=5 Accuracy=70.51:   6%|▌         | 6/98 [00:03<00:59,  1.54it/s]\u001b[A\n",
            "Loss=0.8275183439254761 Batch_id=6 Accuracy=70.62:   6%|▌         | 6/98 [00:04<00:59,  1.54it/s]\u001b[A\n",
            "Loss=0.8275183439254761 Batch_id=6 Accuracy=70.62:   7%|▋         | 7/98 [00:04<00:50,  1.82it/s]\u001b[A\n",
            "Loss=0.8593394756317139 Batch_id=7 Accuracy=70.48:   7%|▋         | 7/98 [00:04<00:50,  1.82it/s]\u001b[A\n",
            "Loss=0.8593394756317139 Batch_id=7 Accuracy=70.48:   8%|▊         | 8/98 [00:04<00:43,  2.07it/s]\u001b[A\n",
            "Loss=0.8524216413497925 Batch_id=8 Accuracy=70.36:   8%|▊         | 8/98 [00:05<00:43,  2.07it/s]\u001b[A\n",
            "Loss=0.8524216413497925 Batch_id=8 Accuracy=70.36:   9%|▉         | 9/98 [00:05<00:46,  1.93it/s]\u001b[A\n",
            "Loss=0.8627249002456665 Batch_id=9 Accuracy=70.29:   9%|▉         | 9/98 [00:05<00:46,  1.93it/s]\u001b[A\n",
            "Loss=0.8627249002456665 Batch_id=9 Accuracy=70.29:  10%|█         | 10/98 [00:05<00:40,  2.19it/s]\u001b[A\n",
            "Loss=0.8069066405296326 Batch_id=10 Accuracy=70.40:  10%|█         | 10/98 [00:05<00:40,  2.19it/s]\u001b[A\n",
            "Loss=0.8069066405296326 Batch_id=10 Accuracy=70.40:  11%|█         | 11/98 [00:05<00:36,  2.39it/s]\u001b[A\n",
            "Loss=0.8068181276321411 Batch_id=11 Accuracy=70.36:  11%|█         | 11/98 [00:05<00:36,  2.39it/s]\u001b[A\n",
            "Loss=0.8068181276321411 Batch_id=11 Accuracy=70.36:  12%|█▏        | 12/98 [00:05<00:33,  2.58it/s]\u001b[A\n",
            "Loss=0.8379825353622437 Batch_id=12 Accuracy=70.43:  12%|█▏        | 12/98 [00:06<00:33,  2.58it/s]\u001b[A\n",
            "Loss=0.8379825353622437 Batch_id=12 Accuracy=70.43:  13%|█▎        | 13/98 [00:06<00:38,  2.23it/s]\u001b[A\n",
            "Loss=0.812685489654541 Batch_id=13 Accuracy=70.49:  13%|█▎        | 13/98 [00:06<00:38,  2.23it/s] \u001b[A\n",
            "Loss=0.812685489654541 Batch_id=13 Accuracy=70.49:  14%|█▍        | 14/98 [00:06<00:33,  2.49it/s]\u001b[A\n",
            "Loss=0.8444539308547974 Batch_id=14 Accuracy=70.30:  14%|█▍        | 14/98 [00:07<00:33,  2.49it/s]\u001b[A\n",
            "Loss=0.8444539308547974 Batch_id=14 Accuracy=70.30:  15%|█▌        | 15/98 [00:07<00:31,  2.66it/s]\u001b[A\n",
            "Loss=0.8672766089439392 Batch_id=15 Accuracy=70.15:  15%|█▌        | 15/98 [00:07<00:31,  2.66it/s]\u001b[A\n",
            "Loss=0.8672766089439392 Batch_id=15 Accuracy=70.15:  16%|█▋        | 16/98 [00:07<00:29,  2.79it/s]\u001b[A\n",
            "Loss=0.853117823600769 Batch_id=16 Accuracy=70.12:  16%|█▋        | 16/98 [00:08<00:29,  2.79it/s] \u001b[A\n",
            "Loss=0.853117823600769 Batch_id=16 Accuracy=70.12:  17%|█▋        | 17/98 [00:08<00:38,  2.10it/s]\u001b[A\n",
            "Loss=0.9673283696174622 Batch_id=17 Accuracy=69.84:  17%|█▋        | 17/98 [00:08<00:38,  2.10it/s]\u001b[A\n",
            "Loss=0.9673283696174622 Batch_id=17 Accuracy=69.84:  18%|█▊        | 18/98 [00:08<00:34,  2.34it/s]\u001b[A\n",
            "Loss=0.9089511632919312 Batch_id=18 Accuracy=69.76:  18%|█▊        | 18/98 [00:08<00:34,  2.34it/s]\u001b[A\n",
            "Loss=0.9089511632919312 Batch_id=18 Accuracy=69.76:  19%|█▉        | 19/98 [00:08<00:31,  2.52it/s]\u001b[A\n",
            "Loss=0.7822149395942688 Batch_id=19 Accuracy=69.81:  19%|█▉        | 19/98 [00:09<00:31,  2.52it/s]\u001b[A\n",
            "Loss=0.7822149395942688 Batch_id=19 Accuracy=69.81:  20%|██        | 20/98 [00:09<00:28,  2.72it/s]\u001b[A"
          ],
          "name": "stderr"
        }
      ]
    },
    {
      "cell_type": "code",
      "metadata": {
        "id": "qvAon0Ryu799",
        "colab_type": "code",
        "colab": {}
      },
      "source": [
        "import torch\n",
        "import torch.nn as nn\n",
        "import torch.optim as optim\n",
        "from tqdm import tqdm\n",
        "import torch.nn.functional as F\n",
        "\n",
        "class TrainTest:\n",
        "    \n",
        "    def __init__(self):\n",
        "        self.train_losses = []\n",
        "        self.test_losses = []\n",
        "        self.train_acc = []\n",
        "        self.test_acc = []\n",
        "    \n",
        "\n",
        "    def train_(self,model, device, train_loader, optimizer, criterion, epoch,L1 = False):\n",
        "          model.train()\n",
        "          pbar = tqdm(train_loader)\n",
        "          correct = 0\n",
        "          processed = 0\n",
        "          for batch_idx, (data, target) in enumerate(pbar):\n",
        "            # get samples\n",
        "            data, target = data.to(device), target.to(device)\n",
        "        \n",
        "            # Init\n",
        "            optimizer.zero_grad()\n",
        "            # In PyTorch, we need to set the gradients to zero before starting to do backpropragation because PyTorch accumulates the gradients on subsequent backward passes. \n",
        "            # Because of this, when you start your training loop, ideally you should zero out the gradients so that you do the parameter update correctly.\n",
        "        \n",
        "            # Predict\n",
        "            y_pred = model(data)\n",
        "        \n",
        "            outputs = model(data)\n",
        "            loss = criterion(outputs, target)\n",
        "            if L1 == True:\n",
        "                l1_crit = nn.L1Loss(size_average=False)\n",
        "                reg_loss = 0\n",
        "                for param in model.parameters():\n",
        "                    reg_loss += l1_crit(param,target=torch.zeros_like(param))\n",
        "\n",
        "                factor = 0.0005\n",
        "                loss += factor * reg_loss\n",
        "            \n",
        "            self.train_losses.append(loss)\n",
        "        \n",
        "            # Backpropagation\n",
        "            loss.backward()\n",
        "            optimizer.step()\n",
        "            \n",
        "            # Update pbar-tqdm\n",
        "            \n",
        "            pred = y_pred.argmax(dim=1, keepdim=True)  # get the index of the max log-probability\n",
        "            correct += pred.eq(target.view_as(pred)).sum().item()\n",
        "            processed += len(data)\n",
        "        \n",
        "            pbar.set_description(desc= f'Loss={loss.item()} Batch_id={batch_idx} Accuracy={100*correct/processed:0.2f}')\n",
        "            self.train_acc.append(100*correct/processed)\n",
        "            \n",
        "    def test_(self,model, device, test_loader):\n",
        "        model.eval()\n",
        "        test_loss = 0\n",
        "        correct = 0\n",
        "        with torch.no_grad():\n",
        "            for data, target in test_loader:\n",
        "                data, target = data.to(device), target.to(device)\n",
        "                output = model(data)\n",
        "                test_loss += F.nll_loss(output, target, reduction='sum').item()  # sum up batch loss\n",
        "                pred = output.argmax(dim=1, keepdim=True)  # get the index of the max log-probability\n",
        "                correct += pred.eq(target.view_as(pred)).sum().item()\n",
        "    \n",
        "        test_loss /= len(test_loader.dataset)\n",
        "        self.test_losses.append(test_loss)\n",
        "    \n",
        "        print('\\nTest set: Average loss: {:.4f}, Accuracy: {}/{} ({:.2f}%)\\n'.format(\n",
        "            test_loss, correct, len(test_loader.dataset),\n",
        "            100. * correct / len(test_loader.dataset)))\n",
        "        \n",
        "        self.test_acc.append(100. * correct / len(test_loader.dataset))\n",
        "        accT =100. * correct / len(test_loader.dataset)\n",
        "        return accT\n",
        "\n",
        "    def __del__(self):\n",
        "       print(\"deleted\")"
      ],
      "execution_count": 0,
      "outputs": []
    },
    {
      "cell_type": "code",
      "metadata": {
        "id": "lM73L8MtH8LP",
        "colab_type": "code",
        "colab": {}
      },
      "source": [
        "iters"
      ],
      "execution_count": 0,
      "outputs": []
    },
    {
      "cell_type": "code",
      "metadata": {
        "id": "hSN5TRtQLzEb",
        "colab_type": "code",
        "colab": {}
      },
      "source": [
        ""
      ],
      "execution_count": 0,
      "outputs": []
    }
  ]
}