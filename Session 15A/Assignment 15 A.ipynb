{
 "cells": [
  {
   "cell_type": "code",
   "execution_count": 1,
   "metadata": {},
   "outputs": [],
   "source": [
    "import cv2\n",
    "import os\n",
    "import pandas as pd\n",
    "from PIL import Image\n",
    "import math\n",
    "import numpy as np\n",
    "from random import randint"
   ]
  },
  {
   "cell_type": "markdown",
   "metadata": {},
   "source": [
    "### Background Images"
   ]
  },
  {
   "cell_type": "code",
   "execution_count": null,
   "metadata": {},
   "outputs": [],
   "source": [
    "req_size = 224\n",
    "source = r'D:\\Assignment 15A\\Raw Images\\01. Scene Images'\n",
    "destination = r'D:\\Assignment 15A\\Resized Images\\01. Backgrounds'\n",
    "\n",
    "os.chdir(source)\n",
    "files = os.listdir()\n",
    "file_map = pd.DataFrame({'Old Name':os.listdir(),\n",
    "                         'New Name':['bg'+'{:03}'.format(i)+'.jpg'  for i in list(range(1,len(os.listdir())+1))]})\n",
    "\n",
    "file_map['Old Name'].apply(lambda x:x.split('.')[len(x.split('.'))-1]).unique()\n",
    "\n",
    "for i in list(range(0,file_map.shape[0])):\n",
    "    print(i)\n",
    "    os.chdir(source)\n",
    "    im = Image.open(source+'\\\\'+file_map.loc[i,'Old Name']).convert('RGB')\n",
    "    os.chdir(destination)\n",
    "    if (im.size[0]/im.size[1])>1:\n",
    "        factor = im.size[1]/req_size\n",
    "    else:\n",
    "        factor = im.size[0]/req_size\n",
    "    \n",
    "    im = im.resize((math.floor(im.size[0]/factor),math.floor(im.size[1]/factor)))\n",
    "        \n",
    "    if im.size[0]>im.size[1]:\n",
    "        dims = (math.floor(im.size[0]/2)-(req_size/2),0,math.floor(im.size[0]/2)+(req_size/2),req_size)\n",
    "    else:\n",
    "        dims = (0,math.floor(im.size[1])-req_size,req_size,math.floor(im.size[1]))\n",
    "            \n",
    "    im = im.crop(dims)\n",
    "    \n",
    "    im.save(file_map.loc[i,'New Name'],'jpeg')\n",
    "\n",
    "file_map.to_csv(r'D:\\Assignment 15A\\Raw Images\\Background Mapper.csv')"
   ]
  },
  {
   "cell_type": "markdown",
   "metadata": {},
   "source": [
    "### Foreground Images"
   ]
  },
  {
   "cell_type": "code",
   "execution_count": null,
   "metadata": {},
   "outputs": [],
   "source": [
    "req_size = 56\n",
    "source = r'D:\\Assignment 15A\\Raw Images\\02. Objects'\n",
    "destination = r'D:\\Assignment 15A\\Resized Images\\02. Foregrounds'\n",
    "\n",
    "os.chdir(source)\n",
    "files = os.listdir()\n",
    "file_map = pd.DataFrame({'Old Name':os.listdir(),\n",
    "                         'New Name':['fg'+'{:03}'.format(i)+'.png'  for i in list(range(1,len(os.listdir())+1))],\n",
    "                         'Flip Name':['fg'+'{:03}'.format(100+i)+'.png'  for i in list(range(1,len(os.listdir())+1))]})\n",
    "\n",
    "for i in list(range(0,file_map.shape[0])):\n",
    "    print(\"------------------\")\n",
    "    print(i)    \n",
    "    os.chdir(source)\n",
    "    im = cv2.imread(source+'\\\\'+file_map.loc[i,'Old Name'], cv2.IMREAD_UNCHANGED)\n",
    "    print(im.shape)\n",
    "    os.chdir(destination)\n",
    "    if (im.shape[0]<im.shape[1]):\n",
    "        factor = im.shape[0]/req_size\n",
    "    else:\n",
    "        factor = im.shape[1]/req_size\n",
    "        \n",
    "    dim = (math.floor(im.shape[1]/factor),math.floor(im.shape[0]/factor))\n",
    "    im = cv2.resize(im,dim, interpolation = cv2.INTER_AREA)\n",
    "    flipHorizontal = cv2.flip(im, 1)\n",
    "    print(im.shape)\n",
    "    cv2.imwrite(file_map.loc[i,'New Name'],im)\n",
    "    cv2.imwrite(file_map.loc[i,'Flip Name'],flipHorizontal)\n",
    "\n",
    "file_map.to_csv(r'D:\\Assignment 15A\\Raw Images\\Foreground Mapper.csv')\n"
   ]
  },
  {
   "cell_type": "markdown",
   "metadata": {},
   "source": [
    "### Masking Images"
   ]
  },
  {
   "cell_type": "code",
   "execution_count": null,
   "metadata": {},
   "outputs": [],
   "source": [
    "source = r'D:\\Assignment 15A\\Resized Images\\02. Foregrounds'\n",
    "destination = r'D:\\Assignment 15A\\Resized Images\\03. Masks'\n",
    "\n",
    "os.chdir(source)\n",
    "files = os.listdir()\n",
    "file_map = pd.DataFrame({'Old Name':os.listdir(),\n",
    "                         'New Name':['mk'+'{:03}'.format(i)+'.png'  for i in list(range(1,len(os.listdir())+1))]})\n",
    "\n",
    "for i in list(range(0,file_map.shape[0])):\n",
    "    print(\"-----------------------------\")\n",
    "    print(i)    \n",
    "    os.chdir(source)\n",
    "    im = Image.open(source+'\\\\'+file_map.loc[i,'Old Name']).convert('RGB')\n",
    "    os.chdir(destination)    \n",
    "    # im = cv2.imwrite('sample.jpg',im)\n",
    "    # im = cv2.imread('sample.jpg')\n",
    "    im = np.array(im)\n",
    "    im[im != 0] = 255\n",
    "    pil_img = Image.fromarray(im)\n",
    "    pil_img.save(file_map.loc[i,'New Name'])\n",
    "\n",
    "file_map.to_csv(r'D:\\Assignment 15A\\Raw Images\\Mask Mapper.csv')\n"
   ]
  },
  {
   "cell_type": "markdown",
   "metadata": {},
   "source": [
    "### Overlaid Images and Masks"
   ]
  },
  {
   "cell_type": "code",
   "execution_count": null,
   "metadata": {},
   "outputs": [],
   "source": [
    "background = r'D:\\Assignment 15A\\Resized Images\\01. Backgrounds'\n",
    "foreground = r'D:\\Assignment 15A\\Resized Images\\02. Foregrounds'\n",
    "masks = r'D:\\Assignment 15A\\Resized Images\\03. Masks'\n",
    "overlaid = r'D:\\Assignment 15A\\Resized Images\\04. Overlaid'\n",
    "o_masks = r'D:\\Assignment 15A\\Resized Images\\05. Overlaid Masks'\n",
    "\n",
    "\n",
    "ims_b = os.listdir(background)\n",
    "ims_f = os.listdir(foreground)\n",
    "ims_m = os.listdir(masks)\n",
    "\n",
    "os.chdir(background)\n",
    "bg_shape = 224\n",
    "black = np.zeros((224,224,3))\n",
    "black =  Image.fromarray(black, 'RGB')\n",
    "\n",
    "for i in ims_b:\n",
    "    print(\"+++++++++++++++++++++++++++++++++++++\")\n",
    "    print(i)\n",
    "    os.chdir(background)\n",
    "    bg_ = Image.open(i)\n",
    "    bg_name = i.split('.')[0]+'_'\n",
    "    for j in list(range(0,200)):\n",
    "        print(\"------------------------------------\")\n",
    "        os.chdir(foreground)\n",
    "        fg_ = Image.open(ims_f[j])\n",
    "        os.chdir(masks)\n",
    "        mk_ = Image.open(ims_m[j])\n",
    "        max_x = 224-fg_.size[0]\n",
    "        max_y = 224-fg_.size[1]\n",
    "        fg_name = ims_f[j].split('.')[0]+'_'\n",
    "        ms_name = ims_m[j].split('.')[0]+'_'\n",
    "        xy_cords = [(randint(0, max_x),randint(0, max_y)) for p in range(0, 20)]\n",
    "        \n",
    "        imge = 0\n",
    "        for xy in xy_cords:\n",
    "            print(xy)\n",
    "            background_O = bg_.copy()\n",
    "            foreground_O = fg_.copy()\n",
    "            black_O = black.copy()\n",
    "            mask_O = mk_.copy().convert(\"RGBA\")\n",
    "            imge = imge+1\n",
    "            \n",
    "            background_O.paste(foreground_O, xy, foreground_O)\n",
    "            name = bg_name+fg_name+'{:02}'.format(imge)+'.jpg'\n",
    "            os.chdir(overlaid)\n",
    "            background_O.save(name,\"jpeg\")\n",
    "            \n",
    "            os.chdir(o_masks)\n",
    "            name = bg_name+ms_name+'{:02}'.format(imge)+'.jpg'\n",
    "            black_O.paste(mask_O, xy, mask_O)\n",
    "            black_O.save(name,\"jpeg\")"
   ]
  },
  {
   "cell_type": "markdown",
   "metadata": {},
   "source": [
    "### Depth Estimation"
   ]
  },
  {
   "cell_type": "markdown",
   "metadata": {},
   "source": [
    "Link to Repository: https://github.com/jai2shan/Depth-Estimation-PyTorch\n",
    "\n",
    "Used test_jay.py to estimate the depths in the images"
   ]
  },
  {
   "cell_type": "code",
   "execution_count": null,
   "metadata": {},
   "outputs": [],
   "source": []
  }
 ],
 "metadata": {
  "kernelspec": {
   "display_name": "Python 3",
   "language": "python",
   "name": "python3"
  },
  "language_info": {
   "codemirror_mode": {
    "name": "ipython",
    "version": 3
   },
   "file_extension": ".py",
   "mimetype": "text/x-python",
   "name": "python",
   "nbconvert_exporter": "python",
   "pygments_lexer": "ipython3",
   "version": "3.7.4"
  }
 },
 "nbformat": 4,
 "nbformat_minor": 2
}
