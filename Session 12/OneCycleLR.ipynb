{
  "nbformat": 4,
  "nbformat_minor": 0,
  "metadata": {
    "kernelspec": {
      "display_name": "Python 3",
      "language": "python",
      "name": "python3"
    },
    "language_info": {
      "codemirror_mode": {
        "name": "ipython",
        "version": 3
      },
      "file_extension": ".py",
      "mimetype": "text/x-python",
      "name": "python",
      "nbconvert_exporter": "python",
      "pygments_lexer": "ipython3",
      "version": "3.7.6"
    },
    "colab": {
      "name": "Assignment 12.ipynb",
      "provenance": [],
      "include_colab_link": true
    },
    "accelerator": "GPU",
    "widgets": {
      "application/vnd.jupyter.widget-state+json": {
        "9f4bcd38095741cc9b2c88bb50c20cc5": {
          "model_module": "@jupyter-widgets/controls",
          "model_name": "HBoxModel",
          "state": {
            "_view_name": "HBoxView",
            "_dom_classes": [],
            "_model_name": "HBoxModel",
            "_view_module": "@jupyter-widgets/controls",
            "_model_module_version": "1.5.0",
            "_view_count": null,
            "_view_module_version": "1.5.0",
            "box_style": "",
            "layout": "IPY_MODEL_3c13f13096a440da8a5b1e3a595e275e",
            "_model_module": "@jupyter-widgets/controls",
            "children": [
              "IPY_MODEL_0589edc9c166448d92106fd4aa3de7e3",
              "IPY_MODEL_ad729d017edd4b9e92cd6bd3d72fcee8"
            ]
          }
        },
        "3c13f13096a440da8a5b1e3a595e275e": {
          "model_module": "@jupyter-widgets/base",
          "model_name": "LayoutModel",
          "state": {
            "_view_name": "LayoutView",
            "grid_template_rows": null,
            "right": null,
            "justify_content": null,
            "_view_module": "@jupyter-widgets/base",
            "overflow": null,
            "_model_module_version": "1.2.0",
            "_view_count": null,
            "flex_flow": null,
            "width": null,
            "min_width": null,
            "border": null,
            "align_items": null,
            "bottom": null,
            "_model_module": "@jupyter-widgets/base",
            "top": null,
            "grid_column": null,
            "overflow_y": null,
            "overflow_x": null,
            "grid_auto_flow": null,
            "grid_area": null,
            "grid_template_columns": null,
            "flex": null,
            "_model_name": "LayoutModel",
            "justify_items": null,
            "grid_row": null,
            "max_height": null,
            "align_content": null,
            "visibility": null,
            "align_self": null,
            "height": null,
            "min_height": null,
            "padding": null,
            "grid_auto_rows": null,
            "grid_gap": null,
            "max_width": null,
            "order": null,
            "_view_module_version": "1.2.0",
            "grid_template_areas": null,
            "object_position": null,
            "object_fit": null,
            "grid_auto_columns": null,
            "margin": null,
            "display": null,
            "left": null
          }
        },
        "0589edc9c166448d92106fd4aa3de7e3": {
          "model_module": "@jupyter-widgets/controls",
          "model_name": "FloatProgressModel",
          "state": {
            "_view_name": "ProgressView",
            "style": "IPY_MODEL_318f0c118fe84ea5af0c533a9ff34ee1",
            "_dom_classes": [],
            "description": "100%",
            "_model_name": "FloatProgressModel",
            "bar_style": "success",
            "max": 500,
            "_view_module": "@jupyter-widgets/controls",
            "_model_module_version": "1.5.0",
            "value": 500,
            "_view_count": null,
            "_view_module_version": "1.5.0",
            "orientation": "horizontal",
            "min": 0,
            "description_tooltip": null,
            "_model_module": "@jupyter-widgets/controls",
            "layout": "IPY_MODEL_06f5d9c2a3454897bfab6309b3428014"
          }
        },
        "ad729d017edd4b9e92cd6bd3d72fcee8": {
          "model_module": "@jupyter-widgets/controls",
          "model_name": "HTMLModel",
          "state": {
            "_view_name": "HTMLView",
            "style": "IPY_MODEL_279b26431c094fd9ad0c12d7bfb0c35a",
            "_dom_classes": [],
            "description": "",
            "_model_name": "HTMLModel",
            "placeholder": "​",
            "_view_module": "@jupyter-widgets/controls",
            "_model_module_version": "1.5.0",
            "value": " 500/500 [02:01&lt;00:00,  4.10it/s]",
            "_view_count": null,
            "_view_module_version": "1.5.0",
            "description_tooltip": null,
            "_model_module": "@jupyter-widgets/controls",
            "layout": "IPY_MODEL_26ab8ba1c8264d7a80c87617d8dbbc62"
          }
        },
        "318f0c118fe84ea5af0c533a9ff34ee1": {
          "model_module": "@jupyter-widgets/controls",
          "model_name": "ProgressStyleModel",
          "state": {
            "_view_name": "StyleView",
            "_model_name": "ProgressStyleModel",
            "description_width": "initial",
            "_view_module": "@jupyter-widgets/base",
            "_model_module_version": "1.5.0",
            "_view_count": null,
            "_view_module_version": "1.2.0",
            "bar_color": null,
            "_model_module": "@jupyter-widgets/controls"
          }
        },
        "06f5d9c2a3454897bfab6309b3428014": {
          "model_module": "@jupyter-widgets/base",
          "model_name": "LayoutModel",
          "state": {
            "_view_name": "LayoutView",
            "grid_template_rows": null,
            "right": null,
            "justify_content": null,
            "_view_module": "@jupyter-widgets/base",
            "overflow": null,
            "_model_module_version": "1.2.0",
            "_view_count": null,
            "flex_flow": null,
            "width": null,
            "min_width": null,
            "border": null,
            "align_items": null,
            "bottom": null,
            "_model_module": "@jupyter-widgets/base",
            "top": null,
            "grid_column": null,
            "overflow_y": null,
            "overflow_x": null,
            "grid_auto_flow": null,
            "grid_area": null,
            "grid_template_columns": null,
            "flex": null,
            "_model_name": "LayoutModel",
            "justify_items": null,
            "grid_row": null,
            "max_height": null,
            "align_content": null,
            "visibility": null,
            "align_self": null,
            "height": null,
            "min_height": null,
            "padding": null,
            "grid_auto_rows": null,
            "grid_gap": null,
            "max_width": null,
            "order": null,
            "_view_module_version": "1.2.0",
            "grid_template_areas": null,
            "object_position": null,
            "object_fit": null,
            "grid_auto_columns": null,
            "margin": null,
            "display": null,
            "left": null
          }
        },
        "279b26431c094fd9ad0c12d7bfb0c35a": {
          "model_module": "@jupyter-widgets/controls",
          "model_name": "DescriptionStyleModel",
          "state": {
            "_view_name": "StyleView",
            "_model_name": "DescriptionStyleModel",
            "description_width": "",
            "_view_module": "@jupyter-widgets/base",
            "_model_module_version": "1.5.0",
            "_view_count": null,
            "_view_module_version": "1.2.0",
            "_model_module": "@jupyter-widgets/controls"
          }
        },
        "26ab8ba1c8264d7a80c87617d8dbbc62": {
          "model_module": "@jupyter-widgets/base",
          "model_name": "LayoutModel",
          "state": {
            "_view_name": "LayoutView",
            "grid_template_rows": null,
            "right": null,
            "justify_content": null,
            "_view_module": "@jupyter-widgets/base",
            "overflow": null,
            "_model_module_version": "1.2.0",
            "_view_count": null,
            "flex_flow": null,
            "width": null,
            "min_width": null,
            "border": null,
            "align_items": null,
            "bottom": null,
            "_model_module": "@jupyter-widgets/base",
            "top": null,
            "grid_column": null,
            "overflow_y": null,
            "overflow_x": null,
            "grid_auto_flow": null,
            "grid_area": null,
            "grid_template_columns": null,
            "flex": null,
            "_model_name": "LayoutModel",
            "justify_items": null,
            "grid_row": null,
            "max_height": null,
            "align_content": null,
            "visibility": null,
            "align_self": null,
            "height": null,
            "min_height": null,
            "padding": null,
            "grid_auto_rows": null,
            "grid_gap": null,
            "max_width": null,
            "order": null,
            "_view_module_version": "1.2.0",
            "grid_template_areas": null,
            "object_position": null,
            "object_fit": null,
            "grid_auto_columns": null,
            "margin": null,
            "display": null,
            "left": null
          }
        }
      }
    }
  },
  "cells": [
    {
      "cell_type": "markdown",
      "metadata": {
        "id": "view-in-github",
        "colab_type": "text"
      },
      "source": [
        "<a href=\"https://colab.research.google.com/github/jai2shan/TSAI-EVA40-Assignments/blob/master/Session%2012/OneCycleLR.ipynb\" target=\"_parent\"><img src=\"https://colab.research.google.com/assets/colab-badge.svg\" alt=\"Open In Colab\"/></a>"
      ]
    },
    {
      "cell_type": "code",
      "metadata": {
        "id": "zESQ_GHPs1ep",
        "colab_type": "code",
        "colab": {}
      },
      "source": [
        "# !git clone https://github.com/jai2shan/TSAI-EVA40-Assignments.git"
      ],
      "execution_count": 1,
      "outputs": []
    },
    {
      "cell_type": "code",
      "metadata": {
        "id": "bVD7dVIHvfGU",
        "colab_type": "code",
        "colab": {
          "base_uri": "https://localhost:8080/",
          "height": 238
        },
        "outputId": "90aa6fa1-71e1-4e83-ec52-8fd4e6f9bcde"
      },
      "source": [
        "import os\n",
        "os.chdir(r'/content/TSAI-EVA40-Assignments')\n",
        "!git pull origin master"
      ],
      "execution_count": 1,
      "outputs": [
        {
          "output_type": "stream",
          "text": [
            "remote: Enumerating objects: 11, done.\u001b[K\n",
            "remote: Counting objects:   9% (1/11)\u001b[K\rremote: Counting objects:  18% (2/11)\u001b[K\rremote: Counting objects:  27% (3/11)\u001b[K\rremote: Counting objects:  36% (4/11)\u001b[K\rremote: Counting objects:  45% (5/11)\u001b[K\rremote: Counting objects:  54% (6/11)\u001b[K\rremote: Counting objects:  63% (7/11)\u001b[K\rremote: Counting objects:  72% (8/11)\u001b[K\rremote: Counting objects:  81% (9/11)\u001b[K\rremote: Counting objects:  90% (10/11)\u001b[K\rremote: Counting objects: 100% (11/11)\u001b[K\rremote: Counting objects: 100% (11/11), done.\u001b[K\n",
            "remote: Compressing objects: 100% (1/1)\u001b[K\rremote: Compressing objects: 100% (1/1), done.\u001b[K\n",
            "remote: Total 6 (delta 5), reused 6 (delta 5), pack-reused 0\u001b[K\n",
            "Unpacking objects:  16% (1/6)   \rUnpacking objects:  33% (2/6)   \rUnpacking objects:  50% (3/6)   \rUnpacking objects:  66% (4/6)   \rUnpacking objects:  83% (5/6)   \rUnpacking objects: 100% (6/6)   \rUnpacking objects: 100% (6/6), done.\n",
            "From https://github.com/jai2shan/TSAI-EVA40-Assignments\n",
            " * branch                master     -> FETCH_HEAD\n",
            "   553eacd2e..2bb2440e7  master     -> origin/master\n",
            "Updating 553eacd2e..2bb2440e7\n",
            "Fast-forward\n",
            " Session 12/Scripts/DataLoader.py |  8 \u001b[32m+++\u001b[m\u001b[31m---\u001b[m\n",
            " Session 12/Scripts/resnet.py     | 55 \u001b[32m++++++++++++++++++\u001b[m\u001b[31m----------------------\u001b[m\n",
            " 2 files changed, 29 insertions(+), 34 deletions(-)\n"
          ],
          "name": "stdout"
        }
      ]
    },
    {
      "cell_type": "code",
      "metadata": {
        "id": "D28MGN-Ds4sM",
        "colab_type": "code",
        "colab": {}
      },
      "source": [
        "import os\n",
        "os.chdir(r'/content/TSAI-EVA40-Assignments/Session 12/Scripts')"
      ],
      "execution_count": 2,
      "outputs": []
    },
    {
      "cell_type": "code",
      "metadata": {
        "id": "KuQ7yCses1et",
        "colab_type": "code",
        "colab": {}
      },
      "source": [
        "import torch\n",
        "import torchvision\n",
        "import os\n",
        "from torchvision import transforms\n",
        "from DataLoader import *\n",
        "\n",
        "os.chdir(r'/content/TSAI-EVA40-Assignments/Session 12/Data')\n",
        "train_path = 'train'\n",
        "test_path = 'test'\n",
        "train_loader,test_loader = data_loader_(train_path,test_path,128)"
      ],
      "execution_count": 3,
      "outputs": []
    },
    {
      "cell_type": "code",
      "metadata": {
        "id": "Czz-cnI2s1ew",
        "colab_type": "code",
        "colab": {
          "base_uri": "https://localhost:8080/",
          "height": 1000
        },
        "outputId": "cdf80d27-d192-4e59-b22b-be30409d1cb3"
      },
      "source": [
        "import torch\n",
        "from torchsummary import summary\n",
        "use_cuda = torch.cuda.is_available()\n",
        "device = torch.device(\"cuda\" if use_cuda else \"cpu\")\n",
        "print(device)\n",
        "\n",
        "os.chdir(r'/content/TSAI-EVA40-Assignments/Session 12/Scripts')\n",
        "from resnet import ResNet18\n",
        "net = ResNet18(num_classes = 200).to(device)\n",
        "summary(net, input_size=(3,64,64))"
      ],
      "execution_count": 4,
      "outputs": [
        {
          "output_type": "stream",
          "text": [
            "cuda\n",
            "----------------------------------------------------------------\n",
            "        Layer (type)               Output Shape         Param #\n",
            "================================================================\n",
            "            Conv2d-1           [-1, 64, 64, 64]           1,728\n",
            "       BatchNorm2d-2           [-1, 64, 64, 64]             128\n",
            "            Conv2d-3           [-1, 64, 64, 64]          36,864\n",
            "       BatchNorm2d-4           [-1, 64, 64, 64]             128\n",
            "            Conv2d-5           [-1, 64, 64, 64]          36,864\n",
            "       BatchNorm2d-6           [-1, 64, 64, 64]             128\n",
            "        BasicBlock-7           [-1, 64, 64, 64]               0\n",
            "            Conv2d-8           [-1, 64, 64, 64]          36,864\n",
            "       BatchNorm2d-9           [-1, 64, 64, 64]             128\n",
            "           Conv2d-10           [-1, 64, 64, 64]          36,864\n",
            "      BatchNorm2d-11           [-1, 64, 64, 64]             128\n",
            "       BasicBlock-12           [-1, 64, 64, 64]               0\n",
            "           Conv2d-13          [-1, 128, 32, 32]          73,728\n",
            "      BatchNorm2d-14          [-1, 128, 32, 32]             256\n",
            "           Conv2d-15          [-1, 128, 32, 32]         147,456\n",
            "      BatchNorm2d-16          [-1, 128, 32, 32]             256\n",
            "           Conv2d-17          [-1, 128, 32, 32]           8,192\n",
            "      BatchNorm2d-18          [-1, 128, 32, 32]             256\n",
            "       BasicBlock-19          [-1, 128, 32, 32]               0\n",
            "           Conv2d-20          [-1, 128, 32, 32]         147,456\n",
            "      BatchNorm2d-21          [-1, 128, 32, 32]             256\n",
            "           Conv2d-22          [-1, 128, 32, 32]         147,456\n",
            "      BatchNorm2d-23          [-1, 128, 32, 32]             256\n",
            "       BasicBlock-24          [-1, 128, 32, 32]               0\n",
            "           Conv2d-25          [-1, 256, 16, 16]         294,912\n",
            "      BatchNorm2d-26          [-1, 256, 16, 16]             512\n",
            "           Conv2d-27          [-1, 256, 16, 16]         589,824\n",
            "      BatchNorm2d-28          [-1, 256, 16, 16]             512\n",
            "           Conv2d-29          [-1, 256, 16, 16]          32,768\n",
            "      BatchNorm2d-30          [-1, 256, 16, 16]             512\n",
            "       BasicBlock-31          [-1, 256, 16, 16]               0\n",
            "           Conv2d-32          [-1, 256, 16, 16]         589,824\n",
            "      BatchNorm2d-33          [-1, 256, 16, 16]             512\n",
            "           Conv2d-34          [-1, 256, 16, 16]         589,824\n",
            "      BatchNorm2d-35          [-1, 256, 16, 16]             512\n",
            "       BasicBlock-36          [-1, 256, 16, 16]               0\n",
            "           Conv2d-37            [-1, 512, 8, 8]       1,179,648\n",
            "      BatchNorm2d-38            [-1, 512, 8, 8]           1,024\n",
            "           Conv2d-39            [-1, 512, 8, 8]       2,359,296\n",
            "      BatchNorm2d-40            [-1, 512, 8, 8]           1,024\n",
            "           Conv2d-41            [-1, 512, 8, 8]         131,072\n",
            "      BatchNorm2d-42            [-1, 512, 8, 8]           1,024\n",
            "       BasicBlock-43            [-1, 512, 8, 8]               0\n",
            "           Conv2d-44            [-1, 512, 8, 8]       2,359,296\n",
            "      BatchNorm2d-45            [-1, 512, 8, 8]           1,024\n",
            "           Conv2d-46            [-1, 512, 8, 8]       2,359,296\n",
            "      BatchNorm2d-47            [-1, 512, 8, 8]           1,024\n",
            "       BasicBlock-48            [-1, 512, 8, 8]               0\n",
            "           Linear-49                  [-1, 200]         102,600\n",
            "================================================================\n",
            "Total params: 11,271,432\n",
            "Trainable params: 11,271,432\n",
            "Non-trainable params: 0\n",
            "----------------------------------------------------------------\n",
            "Input size (MB): 0.05\n",
            "Forward/backward pass size (MB): 45.00\n",
            "Params size (MB): 43.00\n",
            "Estimated Total Size (MB): 88.05\n",
            "----------------------------------------------------------------\n"
          ],
          "name": "stdout"
        }
      ]
    },
    {
      "cell_type": "code",
      "metadata": {
        "id": "EGJ6gA-as1ey",
        "colab_type": "code",
        "colab": {
          "base_uri": "https://localhost:8080/",
          "height": 366,
          "referenced_widgets": [
            "9f4bcd38095741cc9b2c88bb50c20cc5",
            "3c13f13096a440da8a5b1e3a595e275e",
            "0589edc9c166448d92106fd4aa3de7e3",
            "ad729d017edd4b9e92cd6bd3d72fcee8",
            "318f0c118fe84ea5af0c533a9ff34ee1",
            "06f5d9c2a3454897bfab6309b3428014",
            "279b26431c094fd9ad0c12d7bfb0c35a",
            "26ab8ba1c8264d7a80c87617d8dbbc62"
          ]
        },
        "outputId": "b36df7be-ea04-45c0-c4c5-1368bcd61bf1"
      },
      "source": [
        "from LR_Finder import *\n",
        "from Training_Testing import *\n",
        "tt = TrainTest()\n",
        "os.chdir(r'/content/TSAI-EVA40-Assignments/Session 12/Data')\n",
        "\n",
        "test_acc = 0\n",
        "criterion = nn.CrossEntropyLoss()\n",
        "optimizer = optim.SGD(net.parameters(), lr=0.0001)\n",
        "# scheduler = StepLR(optimizer, step_size=30, gamma=0.1)\n",
        "\n",
        "lr_finder = LRFinder(net, optimizer, criterion)\n",
        "lr_finder.range_test(train_loader, end_lr=2, num_iter=500,step_mode=\"exp\")\n",
        "lr_finder.plot()\n",
        "\n",
        "import pandas as pd\n",
        "lr_ = pd.DataFrame(lr_finder.history)\n",
        "lr_max = lr_.loc[lr_['loss']==lr_['loss'].min(),'lr'].values[0]\n",
        "lr_max"
      ],
      "execution_count": 5,
      "outputs": [
        {
          "output_type": "display_data",
          "data": {
            "application/vnd.jupyter.widget-view+json": {
              "model_id": "9f4bcd38095741cc9b2c88bb50c20cc5",
              "version_minor": 0,
              "version_major": 2
            },
            "text/plain": [
              "HBox(children=(FloatProgress(value=0.0, max=500.0), HTML(value='')))"
            ]
          },
          "metadata": {
            "tags": []
          }
        },
        {
          "output_type": "stream",
          "text": [
            "\n",
            "Learning rate search finished. See the graph with {finder_name}.plot()\n"
          ],
          "name": "stdout"
        },
        {
          "output_type": "display_data",
          "data": {
            "image/png": "[encoded data removed]",
            "text/plain": [
              "<Figure size 432x288 with 1 Axes>"
            ]
          },
          "metadata": {
            "tags": [],
            "needs_background": "light"
          }
        },
        {
          "output_type": "execute_result",
          "data": {
            "text/plain": [
              "0.09600134366907874"
            ]
          },
          "metadata": {
            "tags": []
          },
          "execution_count": 5
        }
      ]
    },
    {
      "cell_type": "code",
      "metadata": {
        "id": "4e5iIQr3s1e1",
        "colab_type": "code",
        "colab": {}
      },
      "source": [
        "# lr_min =  LR_Min(train_loader,lr_max)"
      ],
      "execution_count": 7,
      "outputs": []
    },
    {
      "cell_type": "code",
      "metadata": {
        "id": "B4ceVW4ds1e3",
        "colab_type": "code",
        "colab": {
          "base_uri": "https://localhost:8080/",
          "height": 1000
        },
        "outputId": "22d66295-96c9-4b06-e0a7-be50ce1eed5c"
      },
      "source": [
        "os.chdir(r'/content/TSAI-EVA40-Assignments/Session 12/Scripts')\n",
        "from Training_Testing import TrainTest\n",
        "import torch.optim as optim\n",
        "import torch.nn as nn\n",
        "from torch.optim.lr_scheduler import StepLR\n",
        "os.chdir(r'/content/TSAI-EVA40-Assignments/Session 12/Data')\n",
        "\n",
        "net = ResNet18(num_classes = 200).to(device)\n",
        "tt = TrainTest()\n",
        "test_acc = 0\n",
        "criterion = nn.CrossEntropyLoss()\n",
        "optimizer = optim.SGD(net.parameters(), lr = 0.1, momentum = 0.85,weight_decay = 0.0005)\n",
        "scheduler = optim.lr_scheduler.OneCycleLR(optimizer,\n",
        "                                          max_lr = lr_max, \n",
        "                                          pct_start = 0.3, # 15/50\n",
        "                                          epochs =50,\n",
        "                                          steps_per_epoch=len(train_loader),\n",
        "                                          div_factor = 10,\n",
        "                                          final_div_factor = 1)\n",
        "\n",
        "for epoch in range(50):\n",
        "    print(\"EPOCH:\", epoch)\n",
        "    tt.train_(net, device, train_loader, optimizer, criterion, epoch,L1 = False)\n",
        "    acc = tt.test_(net, device, test_loader)  \n",
        "    scheduler.step()\n",
        "       \n",
        "print('Finished Training')"
      ],
      "execution_count": null,
      "outputs": [
        {
          "output_type": "stream",
          "text": [
            "\r  0%|          | 0/547 [00:00<?, ?it/s]"
          ],
          "name": "stderr"
        },
        {
          "output_type": "stream",
          "text": [
            "EPOCH: 0\n"
          ],
          "name": "stdout"
        },
        {
          "output_type": "stream",
          "text": [
            "Loss=4.277472496032715 Batch_id=546 Accuracy=6.05: 100%|██████████| 547/547 [02:59<00:00,  3.05it/s]\n",
            "  0%|          | 0/547 [00:00<?, ?it/s]"
          ],
          "name": "stderr"
        },
        {
          "output_type": "stream",
          "text": [
            "\n",
            "Test set: Average loss: -2.6387, Accuracy: 3327/30000 (11.09%)\n",
            "\n",
            "EPOCH: 1\n"
          ],
          "name": "stdout"
        },
        {
          "output_type": "stream",
          "text": [
            "Loss=3.7770755290985107 Batch_id=546 Accuracy=13.93: 100%|██████████| 547/547 [02:59<00:00,  3.05it/s]\n",
            "  0%|          | 0/547 [00:00<?, ?it/s]"
          ],
          "name": "stderr"
        },
        {
          "output_type": "stream",
          "text": [
            "\n",
            "Test set: Average loss: -3.7157, Accuracy: 5140/30000 (17.13%)\n",
            "\n",
            "EPOCH: 2\n"
          ],
          "name": "stdout"
        },
        {
          "output_type": "stream",
          "text": [
            "Loss=3.4049031734466553 Batch_id=546 Accuracy=19.60: 100%|██████████| 547/547 [02:59<00:00,  3.05it/s]\n",
            "  0%|          | 0/547 [00:00<?, ?it/s]"
          ],
          "name": "stderr"
        },
        {
          "output_type": "stream",
          "text": [
            "\n",
            "Test set: Average loss: -4.7537, Accuracy: 6781/30000 (22.60%)\n",
            "\n",
            "EPOCH: 3\n"
          ],
          "name": "stdout"
        },
        {
          "output_type": "stream",
          "text": [
            "Loss=3.1466145515441895 Batch_id=546 Accuracy=24.82: 100%|██████████| 547/547 [02:59<00:00,  3.05it/s]\n",
            "  0%|          | 0/547 [00:00<?, ?it/s]"
          ],
          "name": "stderr"
        },
        {
          "output_type": "stream",
          "text": [
            "\n",
            "Test set: Average loss: -4.9830, Accuracy: 7513/30000 (25.04%)\n",
            "\n",
            "EPOCH: 4\n"
          ],
          "name": "stdout"
        },
        {
          "output_type": "stream",
          "text": [
            "Loss=2.9198801517486572 Batch_id=546 Accuracy=28.89: 100%|██████████| 547/547 [02:59<00:00,  3.04it/s]\n",
            "  0%|          | 0/547 [00:00<?, ?it/s]"
          ],
          "name": "stderr"
        },
        {
          "output_type": "stream",
          "text": [
            "\n",
            "Test set: Average loss: -5.6830, Accuracy: 8884/30000 (29.61%)\n",
            "\n",
            "EPOCH: 5\n"
          ],
          "name": "stdout"
        },
        {
          "output_type": "stream",
          "text": [
            "Loss=3.099303960800171 Batch_id=546 Accuracy=32.71: 100%|██████████| 547/547 [02:59<00:00,  3.05it/s]\n",
            "  0%|          | 0/547 [00:00<?, ?it/s]"
          ],
          "name": "stderr"
        },
        {
          "output_type": "stream",
          "text": [
            "\n",
            "Test set: Average loss: -5.9933, Accuracy: 9167/30000 (30.56%)\n",
            "\n",
            "EPOCH: 6\n"
          ],
          "name": "stdout"
        },
        {
          "output_type": "stream",
          "text": [
            "Loss=2.6071155071258545 Batch_id=546 Accuracy=35.84: 100%|██████████| 547/547 [02:59<00:00,  3.05it/s]\n",
            "  0%|          | 0/547 [00:00<?, ?it/s]"
          ],
          "name": "stderr"
        },
        {
          "output_type": "stream",
          "text": [
            "\n",
            "Test set: Average loss: -6.5727, Accuracy: 10641/30000 (35.47%)\n",
            "\n",
            "EPOCH: 7\n"
          ],
          "name": "stdout"
        },
        {
          "output_type": "stream",
          "text": [
            "Loss=2.4895377159118652 Batch_id=546 Accuracy=38.49: 100%|██████████| 547/547 [02:59<00:00,  3.04it/s]\n",
            "  0%|          | 0/547 [00:00<?, ?it/s]"
          ],
          "name": "stderr"
        },
        {
          "output_type": "stream",
          "text": [
            "\n",
            "Test set: Average loss: -6.8131, Accuracy: 11403/30000 (38.01%)\n",
            "\n",
            "EPOCH: 8\n"
          ],
          "name": "stdout"
        },
        {
          "output_type": "stream",
          "text": [
            "Loss=2.4765846729278564 Batch_id=546 Accuracy=40.59: 100%|██████████| 547/547 [02:59<00:00,  3.05it/s]\n",
            "  0%|          | 0/547 [00:00<?, ?it/s]"
          ],
          "name": "stderr"
        },
        {
          "output_type": "stream",
          "text": [
            "\n",
            "Test set: Average loss: -7.3091, Accuracy: 11675/30000 (38.92%)\n",
            "\n",
            "EPOCH: 9\n"
          ],
          "name": "stdout"
        },
        {
          "output_type": "stream",
          "text": [
            "Loss=2.443532705307007 Batch_id=546 Accuracy=42.61: 100%|██████████| 547/547 [02:59<00:00,  3.04it/s]\n",
            "  0%|          | 0/547 [00:00<?, ?it/s]"
          ],
          "name": "stderr"
        },
        {
          "output_type": "stream",
          "text": [
            "\n",
            "Test set: Average loss: -7.0471, Accuracy: 11696/30000 (38.99%)\n",
            "\n",
            "EPOCH: 10\n"
          ],
          "name": "stdout"
        },
        {
          "output_type": "stream",
          "text": [
            "Loss=2.3107566833496094 Batch_id=546 Accuracy=44.86: 100%|██████████| 547/547 [02:59<00:00,  3.05it/s]\n",
            "  0%|          | 0/547 [00:00<?, ?it/s]"
          ],
          "name": "stderr"
        },
        {
          "output_type": "stream",
          "text": [
            "\n",
            "Test set: Average loss: -7.6667, Accuracy: 12726/30000 (42.42%)\n",
            "\n",
            "EPOCH: 11\n"
          ],
          "name": "stdout"
        },
        {
          "output_type": "stream",
          "text": [
            "Loss=1.9372471570968628 Batch_id=546 Accuracy=46.62: 100%|██████████| 547/547 [02:59<00:00,  3.05it/s]\n",
            "  0%|          | 0/547 [00:00<?, ?it/s]"
          ],
          "name": "stderr"
        },
        {
          "output_type": "stream",
          "text": [
            "\n",
            "Test set: Average loss: -7.5907, Accuracy: 13022/30000 (43.41%)\n",
            "\n",
            "EPOCH: 12\n"
          ],
          "name": "stdout"
        },
        {
          "output_type": "stream",
          "text": [
            "Loss=2.440160036087036 Batch_id=546 Accuracy=48.40: 100%|██████████| 547/547 [02:59<00:00,  3.05it/s]\n",
            "  0%|          | 0/547 [00:00<?, ?it/s]"
          ],
          "name": "stderr"
        },
        {
          "output_type": "stream",
          "text": [
            "\n",
            "Test set: Average loss: -7.9712, Accuracy: 13372/30000 (44.57%)\n",
            "\n",
            "EPOCH: 13\n"
          ],
          "name": "stdout"
        },
        {
          "output_type": "stream",
          "text": [
            "Loss=2.073697805404663 Batch_id=546 Accuracy=50.15: 100%|██████████| 547/547 [02:59<00:00,  3.04it/s]\n",
            "  0%|          | 0/547 [00:00<?, ?it/s]"
          ],
          "name": "stderr"
        },
        {
          "output_type": "stream",
          "text": [
            "\n",
            "Test set: Average loss: -7.7648, Accuracy: 13312/30000 (44.37%)\n",
            "\n",
            "EPOCH: 14\n"
          ],
          "name": "stdout"
        },
        {
          "output_type": "stream",
          "text": [
            "Loss=1.8925162553787231 Batch_id=546 Accuracy=51.59: 100%|██████████| 547/547 [02:59<00:00,  3.04it/s]\n",
            "  0%|          | 0/547 [00:00<?, ?it/s]"
          ],
          "name": "stderr"
        },
        {
          "output_type": "stream",
          "text": [
            "\n",
            "Test set: Average loss: -8.1364, Accuracy: 13932/30000 (46.44%)\n",
            "\n",
            "EPOCH: 15\n"
          ],
          "name": "stdout"
        },
        {
          "output_type": "stream",
          "text": [
            "Loss=1.705337405204773 Batch_id=546 Accuracy=53.23: 100%|██████████| 547/547 [02:59<00:00,  3.04it/s]\n",
            "  0%|          | 0/547 [00:00<?, ?it/s]"
          ],
          "name": "stderr"
        },
        {
          "output_type": "stream",
          "text": [
            "\n",
            "Test set: Average loss: -8.0574, Accuracy: 14088/30000 (46.96%)\n",
            "\n",
            "EPOCH: 16\n"
          ],
          "name": "stdout"
        },
        {
          "output_type": "stream",
          "text": [
            "Loss=2.1862525939941406 Batch_id=546 Accuracy=54.66: 100%|██████████| 547/547 [02:59<00:00,  3.04it/s]\n",
            "  0%|          | 0/547 [00:00<?, ?it/s]"
          ],
          "name": "stderr"
        },
        {
          "output_type": "stream",
          "text": [
            "\n",
            "Test set: Average loss: -8.5970, Accuracy: 14373/30000 (47.91%)\n",
            "\n",
            "EPOCH: 17\n"
          ],
          "name": "stdout"
        },
        {
          "output_type": "stream",
          "text": [
            "Loss=1.834209680557251 Batch_id=546 Accuracy=56.30: 100%|██████████| 547/547 [02:59<00:00,  3.05it/s]\n",
            "  0%|          | 0/547 [00:00<?, ?it/s]"
          ],
          "name": "stderr"
        },
        {
          "output_type": "stream",
          "text": [
            "\n",
            "Test set: Average loss: -8.4436, Accuracy: 14673/30000 (48.91%)\n",
            "\n",
            "EPOCH: 18\n"
          ],
          "name": "stdout"
        },
        {
          "output_type": "stream",
          "text": [
            "Loss=1.750791311264038 Batch_id=546 Accuracy=57.65: 100%|██████████| 547/547 [02:59<00:00,  3.04it/s]\n",
            "  0%|          | 0/547 [00:00<?, ?it/s]"
          ],
          "name": "stderr"
        },
        {
          "output_type": "stream",
          "text": [
            "\n",
            "Test set: Average loss: -8.7771, Accuracy: 14588/30000 (48.63%)\n",
            "\n",
            "EPOCH: 19\n"
          ],
          "name": "stdout"
        },
        {
          "output_type": "stream",
          "text": [
            "Loss=1.6540107727050781 Batch_id=546 Accuracy=58.90: 100%|██████████| 547/547 [02:59<00:00,  3.04it/s]\n",
            "  0%|          | 0/547 [00:00<?, ?it/s]"
          ],
          "name": "stderr"
        },
        {
          "output_type": "stream",
          "text": [
            "\n",
            "Test set: Average loss: -8.7720, Accuracy: 14720/30000 (49.07%)\n",
            "\n",
            "EPOCH: 20\n"
          ],
          "name": "stdout"
        },
        {
          "output_type": "stream",
          "text": [
            "Loss=1.650702714920044 Batch_id=546 Accuracy=60.37: 100%|██████████| 547/547 [02:59<00:00,  3.05it/s]\n",
            "  0%|          | 0/547 [00:00<?, ?it/s]"
          ],
          "name": "stderr"
        },
        {
          "output_type": "stream",
          "text": [
            "\n",
            "Test set: Average loss: -9.2719, Accuracy: 15018/30000 (50.06%)\n",
            "\n",
            "EPOCH: 21\n"
          ],
          "name": "stdout"
        },
        {
          "output_type": "stream",
          "text": [
            "Loss=1.4580540657043457 Batch_id=149 Accuracy=62.85:  27%|██▋       | 150/547 [00:49<02:10,  3.05it/s]"
          ],
          "name": "stderr"
        }
      ]
    },
    {
      "cell_type": "code",
      "metadata": {
        "id": "fjk_UPHBGVyB",
        "colab_type": "code",
        "colab": {}
      },
      "source": [
        ""
      ],
      "execution_count": null,
      "outputs": []
    }
  ]
}