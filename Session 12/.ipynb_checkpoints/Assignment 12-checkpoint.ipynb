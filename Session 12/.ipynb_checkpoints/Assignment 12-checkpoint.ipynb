{
 "cells": [
  {
   "cell_type": "code",
   "execution_count": null,
   "metadata": {},
   "outputs": [],
   "source": []
  },
  {
   "cell_type": "code",
   "execution_count": null,
   "metadata": {},
   "outputs": [],
   "source": [
    "import torch\n",
    "import torchvision\n",
    "import os\n",
    "from torchvision import transforms\n",
    "os.chdir(r'C:\\Users\\jayasans4085\\OneDrive - ARCADIS\\Desktop\\TSAI-EVA40-Assignments\\Session 12\\Scripts')\n",
    "\n",
    "from DataLoader import *\n",
    "\n",
    "train_path = r'C:\\Users\\jayasans4085\\OneDrive - ARCADIS\\Desktop\\TSAI-EVA40-Assignments\\Session 12\\Data\\train'\n",
    "test_path = r'C:\\Users\\jayasans4085\\OneDrive - ARCADIS\\Desktop\\TSAI-EVA40-Assignments\\Session 12\\Data\\test'\n",
    "train_loader,test_loader = data_loader_(train_path,test_path,128)"
   ]
  },
  {
   "cell_type": "code",
   "execution_count": null,
   "metadata": {},
   "outputs": [],
   "source": [
    "import torch\n",
    "from torchsummary import summary\n",
    "use_cuda = torch.cuda.is_available()\n",
    "device = torch.device(\"cuda\" if use_cuda else \"cpu\")\n",
    "print(device)\n",
    "\n",
    "os.chdir(r'C:\\Users\\jayasans4085\\OneDrive - ARCADIS\\Desktop\\TSAI-EVA40-Assignments\\Session 12\\Scripts')\n",
    "from resnet import ResNet18\n",
    "net = ResNet18(num_classes = 200).to(device)\n",
    "summary(net, input_size=(3,32,32))"
   ]
  },
  {
   "cell_type": "code",
   "execution_count": null,
   "metadata": {},
   "outputs": [],
   "source": [
    "from LR_Finder_acc import *\n",
    "from LR_Min_Max import *\n",
    "lr_max = LR_Max(net,train_loader,start = 1e-4,end = 2,iters = 500,mode = 'linear')\n",
    "lr_max"
   ]
  },
  {
   "cell_type": "code",
   "execution_count": null,
   "metadata": {},
   "outputs": [],
   "source": [
    "lr_min =  LR_Min(train_loader,lr_max)"
   ]
  },
  {
   "cell_type": "code",
   "execution_count": null,
   "metadata": {},
   "outputs": [],
   "source": [
    "from Training_Testing import TrainTest\n",
    "import torch.optim as optim\n",
    "import torch.nn as nn\n",
    "from torch.optim.lr_scheduler import StepLR\n",
    "\n",
    "net = ResNet18(num_classes = 200).to(device)\n",
    "tt = TrainTest()\n",
    "test_acc = 0\n",
    "criterion = nn.CrossEntropyLoss()\n",
    "optimizer = optim.SGD(net.parameters(), lr = 0.1, momentum = 0.85,weight_decay = 0.0005)\n",
    "scheduler = optim.lr_scheduler.OneCycleLR(optimizer,\n",
    "                                          max_lr = lr_max.values[0], \n",
    "                                          pct_start = 5/24, # 5/24\n",
    "                                          epochs =24,\n",
    "                                          steps_per_epoch=len(trainloader),\n",
    "                                          div_factor = lr_max.values[0]/lr_min,\n",
    "                                          final_div_factor = 1)\n",
    "\n",
    "# net = Net().to(device)\n",
    "for epoch in range(24):\n",
    "    print(\"EPOCH:\", epoch)\n",
    "    tt.train_(net, device, trainloader, optimizer, criterion, epoch,L1 = False)\n",
    "    acc = tt.test_(net, device, testloader)  \n",
    "    scheduler.step()\n",
    "       \n",
    "print('Finished Training')"
   ]
  }
 ],
 "metadata": {
  "kernelspec": {
   "display_name": "Python 3",
   "language": "python",
   "name": "python3"
  },
  "language_info": {
   "codemirror_mode": {
    "name": "ipython",
    "version": 3
   },
   "file_extension": ".py",
   "mimetype": "text/x-python",
   "name": "python",
   "nbconvert_exporter": "python",
   "pygments_lexer": "ipython3",
   "version": "3.7.6"
  }
 },
 "nbformat": 4,
 "nbformat_minor": 4
}
