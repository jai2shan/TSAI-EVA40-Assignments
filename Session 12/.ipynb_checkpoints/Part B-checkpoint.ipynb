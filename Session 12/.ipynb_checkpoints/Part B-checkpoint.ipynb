{
 "cells": [
  {
   "cell_type": "code",
   "execution_count": 13,
   "metadata": {},
   "outputs": [],
   "source": [
    "import pandas as pd\n",
    "# import numpy as np\n",
    "import math\n",
    "import json\n",
    "import os\n",
    "dogs_json = open('/home/jai/Documents/TSAI-EVA40-Assignments/Session 12/Assignemnt 12.json')\n",
    "dogs_json = json.load(dogs_json)\n",
    "\n",
    "req = dogs_json['_via_img_metadata']\n",
    "req = pd.DataFrame(req.items())\n",
    "dogs_oths = pd.DataFrame(columns = ['Image Name',\n",
    "                                    'Shape Name',\n",
    "                                    'BB x','BB y',\n",
    "                                    'BB width',\n",
    "                                    'BB height',\n",
    "                                    'Class'])\n",
    "\n",
    "n =0 \n",
    "i,j = 0,0\n",
    "for i in range(0,req.shape[0]):\n",
    "    for j in range(0,len(req.iloc[i,1]['regions'])):\n",
    "        dogs_oths.loc[n,'Image Name'] = req.iloc[i,1]['filename']\n",
    "        dogs_oths.loc[n,'Shape Name'] = req.iloc[i,1]['regions'][j]['shape_attributes']['name']\n",
    "        dogs_oths.loc[n,'BB x'] = req.iloc[i,1]['regions'][j]['shape_attributes']['x']\n",
    "        dogs_oths.loc[n,'BB y'] = req.iloc[i,1]['regions'][j]['shape_attributes']['y']\n",
    "        dogs_oths.loc[n,'BB width'] = req.iloc[i,1]['regions'][j]['shape_attributes']['width']\n",
    "        dogs_oths.loc[n,'BB height'] = req.iloc[i,1]['regions'][j]['shape_attributes']['height']\n",
    "        dogs_oths.loc[n,'Class'] = req.iloc[i,1]['regions'][j]['region_attributes']['Class']\n",
    "        n +=1\n",
    "        # print(n)"
   ]
  },
  {
   "cell_type": "code",
   "execution_count": 14,
   "metadata": {},
   "outputs": [],
   "source": [
    "os.chdir(r'/home/jai/Documents/TSAI-EVA40-Assignments/Session 12/Dogs')\n",
    "os.listdir()\n",
    "\n",
    "data = pd.DataFrame({'Image Name':os.listdir()})\n",
    "data['Image width'] = 0\n",
    "data['Image height'] = 0\n",
    "import PIL\n",
    "from PIL import Image\n",
    "\n",
    "for i in os.listdir():\n",
    "    image = PIL.Image.open(i)\n",
    "    # print(image.size)\n",
    "    sers = (data['Image Name'] == i)\n",
    "    data.loc[sers,'Image width'], data.loc[sers,'Image height'] = image.size\n",
    "    \n",
    "dogs_oths = pd.merge(dogs_oths,data, how = 'left',on = 'Image Name')\n",
    "\n",
    "\n",
    "## Finding Centroids\n",
    "dogs_oths['BBx Cx'] = dogs_oths['BB x'] + (dogs_oths['BB width']/2)\n",
    "dogs_oths['BBy Cy'] = dogs_oths['BB y'] + (dogs_oths['BB height']/2)\n"
   ]
  },
  {
   "cell_type": "code",
   "execution_count": 15,
   "metadata": {},
   "outputs": [],
   "source": [
    "final = dogs_oths.copy()\n",
    "final['N width'] = final['Image width']/final['Image width']\n",
    "final['N height'] = final['Image height']/final['Image height']\n",
    "\n",
    "final['N BB width'] = final['BB width']/final['Image width']\n",
    "final['N BB height'] = final['BB height']/final['Image height']\n",
    "\n",
    "final['N BBx Cx'] = (final['BBx Cx']/(final['Image width']/13)).apply(lambda x:math.ceil(x))\n",
    "final['N BBy Cy'] = (final['BBy Cy']/(final['Image height']/13)).apply(lambda x:math.ceil(x))\n"
   ]
  },
  {
   "cell_type": "code",
   "execution_count": 28,
   "metadata": {
    "scrolled": true
   },
   "outputs": [
    {
     "data": {
      "text/plain": [
       "<matplotlib.axes._subplots.AxesSubplot at 0x7f5d94591b10>"
      ]
     },
     "execution_count": 28,
     "metadata": {},
     "output_type": "execute_result"
    },
    {
     "data": {
      "image/png": "[encoded data removed]",
      "text/plain": [
       "<Figure size 1008x354.96 with 1 Axes>"
      ]
     },
     "metadata": {},
     "output_type": "display_data"
    }
   ],
   "source": [
    "import seaborn as sns\n",
    "sns.set(rc={'figure.figsize':(14,4.93)})\n",
    "sns.scatterplot(x=final['N BB width'], y=final['N BB height'])"
   ]
  },
  {
   "cell_type": "code",
   "execution_count": null,
   "metadata": {},
   "outputs": [],
   "source": []
  }
 ],
 "metadata": {
  "kernelspec": {
   "display_name": "Python 3",
   "language": "python",
   "name": "python3"
  },
  "language_info": {
   "codemirror_mode": {
    "name": "ipython",
    "version": 3
   },
   "file_extension": ".py",
   "mimetype": "text/x-python",
   "name": "python",
   "nbconvert_exporter": "python",
   "pygments_lexer": "ipython3",
   "version": "3.7.6"
  }
 },
 "nbformat": 4,
 "nbformat_minor": 4
}
