{
  "nbformat": 4,
  "nbformat_minor": 0,
  "metadata": {
    "colab": {
      "name": "EVA4 - Session 2.ipynb",
      "provenance": [],
      "include_colab_link": true
    },
    "kernelspec": {
      "name": "python3",
      "display_name": "Python 3"
    },
    "accelerator": "GPU"
  },
  "cells": [
    {
      "cell_type": "markdown",
      "metadata": {
        "id": "view-in-github",
        "colab_type": "text"
      },
      "source": [
        "<a href=\"https://colab.research.google.com/github/jai2shan/TSAI-EVA40-Assignments/blob/master/Session%204/EVA4_Session_4%20Adding%20Dropout%20Step%204-1.ipynb\" target=\"_parent\"><img src=\"https://colab.research.google.com/assets/colab-badge.svg\" alt=\"Open In Colab\"/></a>"
      ]
    },
    {
      "cell_type": "markdown",
      "metadata": {
        "id": "DnY5o3QPQcc7",
        "colab_type": "text"
      },
      "source": [
        "### Drop Out - Trial\n",
        " Before Applying    \n",
        "Current Test Accuracy - Accuracy: 99.2     \n",
        "No of Parameters - 10,790   \n",
        "\n",
        "After applying    \n",
        "New Max Test Accuracy - 99.38  \n",
        "New Parameters - 10,790\n",
        " "
      ]
    },
    {
      "cell_type": "code",
      "metadata": {
        "id": "OBaxcQh4QbJ3",
        "colab_type": "code",
        "colab": {}
      },
      "source": [
        "from __future__ import print_function\n",
        "import torch\n",
        "import torch.nn as nn\n",
        "import torch.nn.functional as F\n",
        "import torch.optim as optim\n",
        "from torchvision import datasets, transforms"
      ],
      "execution_count": 0,
      "outputs": []
    },
    {
      "cell_type": "code",
      "metadata": {
        "id": "h_Cx9q2QFgM7",
        "colab_type": "code",
        "colab": {}
      },
      "source": [
        "class Net(nn.Module):\n",
        "    def __init__(self):\n",
        "        super(Net, self).__init__()\n",
        "        self.conv1 = nn.Sequential(nn.Conv2d(in_channels = 1, out_channels = 10, kernel_size = (3,3), padding=0,bias = False), #input -28 Output - 26, RF - 3\n",
        "                                   nn.ReLU(),\n",
        "                                   nn.BatchNorm2d(10)) \n",
        "        \n",
        "        self.conv2 = nn.Sequential(nn.Conv2d(in_channels = 10, out_channels = 10, kernel_size = (3,3), padding=0,bias = False), #input - 26, Output - 24, RF- 5\n",
        "                                   nn.ReLU(),\n",
        "                                   nn.BatchNorm2d(10))\n",
        "        \n",
        "        self.conv3 = nn.Sequential(nn.Conv2d(in_channels = 10, out_channels = 20, kernel_size = (3,3), padding=0,bias = False), #input - 24, Output - 22, RF- 5\n",
        "                                   nn.ReLU(),\n",
        "                                   nn.BatchNorm2d(20))\n",
        "                \n",
        "        self.pool1 = nn.Sequential(nn.MaxPool2d(2, 2)) #input 22, Output - 11\n",
        "        self.dout1 = nn.Sequential(nn.Dropout(0.25)) \n",
        "\n",
        "        self.conv4 = nn.Sequential(nn.Conv2d(in_channels = 20, out_channels = 10, kernel_size = (1,1), padding=0,bias = False), #input 11, Output - 11\n",
        "                                   nn.ReLU(),\n",
        "                                   nn.BatchNorm2d(10))\n",
        "        \n",
        "        self.conv5 = nn.Sequential(nn.Conv2d(in_channels = 10, out_channels = 10, kernel_size = (3,3), padding=0,bias = False), #input 11, Output - 9\n",
        "                                   nn.ReLU(),\n",
        "                                   nn.BatchNorm2d(10))\n",
        "        \n",
        "        self.conv6 = nn.Sequential(nn.Conv2d(in_channels = 10, out_channels = 20, kernel_size = (3,3), padding=0,bias = False), #input 9, Output - 7\n",
        "                                   nn.ReLU(),\n",
        "                                   nn.BatchNorm2d(20)) \n",
        "        # self.dout2 = nn.Sequential(nn.Dropout(0.25))\n",
        "        self.conv7 = nn.Sequential(nn.Conv2d(in_channels = 20, out_channels = 10, kernel_size = (1,1), padding=0,bias = False), #input 7, Output - 7\n",
        "                                   nn.ReLU(),\n",
        "                                   nn.BatchNorm2d(10))\n",
        "        self.dout3 = nn.Sequential(nn.Dropout(0.25))\n",
        "        self.conv8 = nn.Sequential(nn.Conv2d(in_channels = 10, out_channels = 10, kernel_size = (7,7), padding=0,bias = False)) #input 7, Output - 11\n",
        "                            \n",
        "    def forward(self, x): \n",
        "        x = self.conv1(x)\n",
        "        x = self.conv2(x)\n",
        "        x = self.conv3(x) \n",
        "        x = self.pool1(x)\n",
        "        x = self.dout1(x)\n",
        "        x = self.conv4(x)\n",
        "        x = self.conv5(x)\n",
        "        x = self.conv6(x)\n",
        "        # x = self.dout2(x)\n",
        "        x = self.conv7(x)\n",
        "        x = self.dout3(x)\n",
        "        x = self.conv8(x)\n",
        "\n",
        "        x = x.view(-1, 10)\n",
        "        return F.log_softmax(x)"
      ],
      "execution_count": 0,
      "outputs": []
    },
    {
      "cell_type": "code",
      "metadata": {
        "colab_type": "code",
        "id": "xdydjYTZFyi3",
        "outputId": "f35e5fa8-d74d-4257-bcc6-09ab4e9989f8",
        "colab": {
          "base_uri": "https://localhost:8080/",
          "height": 692
        }
      },
      "source": [
        "# !pip install torchsummary\n",
        "from torchsummary import summary\n",
        "use_cuda = torch.cuda.is_available()\n",
        "device = torch.device(\"cuda\" if use_cuda else \"cpu\")\n",
        "model = Net().to(device)\n",
        "summary(model, input_size=(1, 28, 28))"
      ],
      "execution_count": 44,
      "outputs": [
        {
          "output_type": "stream",
          "text": [
            "----------------------------------------------------------------\n",
            "        Layer (type)               Output Shape         Param #\n",
            "================================================================\n",
            "            Conv2d-1           [-1, 10, 26, 26]              90\n",
            "              ReLU-2           [-1, 10, 26, 26]               0\n",
            "       BatchNorm2d-3           [-1, 10, 26, 26]              20\n",
            "            Conv2d-4           [-1, 10, 24, 24]             900\n",
            "              ReLU-5           [-1, 10, 24, 24]               0\n",
            "       BatchNorm2d-6           [-1, 10, 24, 24]              20\n",
            "            Conv2d-7           [-1, 20, 22, 22]           1,800\n",
            "              ReLU-8           [-1, 20, 22, 22]               0\n",
            "       BatchNorm2d-9           [-1, 20, 22, 22]              40\n",
            "        MaxPool2d-10           [-1, 20, 11, 11]               0\n",
            "          Dropout-11           [-1, 20, 11, 11]               0\n",
            "           Conv2d-12           [-1, 10, 11, 11]             200\n",
            "             ReLU-13           [-1, 10, 11, 11]               0\n",
            "      BatchNorm2d-14           [-1, 10, 11, 11]              20\n",
            "           Conv2d-15             [-1, 10, 9, 9]             900\n",
            "             ReLU-16             [-1, 10, 9, 9]               0\n",
            "      BatchNorm2d-17             [-1, 10, 9, 9]              20\n",
            "           Conv2d-18             [-1, 20, 7, 7]           1,800\n",
            "             ReLU-19             [-1, 20, 7, 7]               0\n",
            "      BatchNorm2d-20             [-1, 20, 7, 7]              40\n",
            "           Conv2d-21             [-1, 10, 7, 7]             200\n",
            "             ReLU-22             [-1, 10, 7, 7]               0\n",
            "      BatchNorm2d-23             [-1, 10, 7, 7]              20\n",
            "          Dropout-24             [-1, 10, 7, 7]               0\n",
            "           Conv2d-25             [-1, 10, 1, 1]           4,900\n",
            "================================================================\n",
            "Total params: 10,970\n",
            "Trainable params: 10,970\n",
            "Non-trainable params: 0\n",
            "----------------------------------------------------------------\n",
            "Input size (MB): 0.00\n",
            "Forward/backward pass size (MB): 0.63\n",
            "Params size (MB): 0.04\n",
            "Estimated Total Size (MB): 0.67\n",
            "----------------------------------------------------------------\n"
          ],
          "name": "stdout"
        },
        {
          "output_type": "stream",
          "text": [
            "/usr/local/lib/python3.6/dist-packages/ipykernel_launcher.py:52: UserWarning: Implicit dimension choice for log_softmax has been deprecated. Change the call to include dim=X as an argument.\n"
          ],
          "name": "stderr"
        }
      ]
    },
    {
      "cell_type": "code",
      "metadata": {
        "id": "DqTWLaM5GHgH",
        "colab_type": "code",
        "colab": {}
      },
      "source": [
        "torch.manual_seed(1)\n",
        "batch_size = 128\n",
        "\n",
        "kwargs = {'num_workers': 1, 'pin_memory': True} if use_cuda else {}\n",
        "train_loader = torch.utils.data.DataLoader(\n",
        "    datasets.MNIST('../data', train=True, download=True,\n",
        "                    transform=transforms.Compose([\n",
        "                        transforms.ToTensor(),\n",
        "                        transforms.Normalize((0.1307,), (0.3081,))\n",
        "                    ])),\n",
        "    batch_size=batch_size, shuffle=True, **kwargs)\n",
        "test_loader = torch.utils.data.DataLoader(\n",
        "    datasets.MNIST('../data', train=False, transform=transforms.Compose([\n",
        "                        transforms.ToTensor(),\n",
        "                        transforms.Normalize((0.1307,), (0.3081,))\n",
        "                    ])),\n",
        "    batch_size=batch_size, shuffle=True, **kwargs)\n"
      ],
      "execution_count": 0,
      "outputs": []
    },
    {
      "cell_type": "code",
      "metadata": {
        "id": "8fDefDhaFlwH",
        "colab_type": "code",
        "colab": {}
      },
      "source": [
        "from tqdm import tqdm\n",
        "def train(model, device, train_loader, optimizer, epoch):\n",
        "    model.train()\n",
        "    pbar = tqdm(train_loader)\n",
        "    for batch_idx, (data, target) in enumerate(pbar):\n",
        "        data, target = data.to(device), target.to(device)\n",
        "        optimizer.zero_grad()\n",
        "        output = model(data)\n",
        "        loss = F.nll_loss(output, target)\n",
        "        loss.backward()\n",
        "        optimizer.step()\n",
        "        pbar.set_description(desc= f'loss={loss.item()} batch_id={batch_idx}')\n",
        "\n",
        "\n",
        "def test(model, device, test_loader):\n",
        "    model.eval()\n",
        "    test_loss = 0\n",
        "    correct = 0\n",
        "    with torch.no_grad():\n",
        "        for data, target in test_loader:\n",
        "            data, target = data.to(device), target.to(device)\n",
        "            output = model(data)\n",
        "            test_loss += F.nll_loss(output, target, reduction='sum').item()  # sum up batch loss\n",
        "            pred = output.argmax(dim=1, keepdim=True)  # get the index of the max log-probability\n",
        "            correct += pred.eq(target.view_as(pred)).sum().item()\n",
        "\n",
        "    test_loss /= len(test_loader.dataset)\n",
        "\n",
        "    print('\\nTest set: Average loss: {:.4f}, Accuracy: {}/{} ({:.0f}%)\\n'.format(\n",
        "        test_loss, correct, len(test_loader.dataset),\n",
        "        100. * correct / len(test_loader.dataset)))"
      ],
      "execution_count": 0,
      "outputs": []
    },
    {
      "cell_type": "code",
      "metadata": {
        "id": "MMWbLWO6FuHb",
        "colab_type": "code",
        "outputId": "fb1bcd64-249b-48cb-e383-dce04bfc838c",
        "colab": {
          "base_uri": "https://localhost:8080/",
          "height": 1000
        }
      },
      "source": [
        "\n",
        "model = Net().to(device)\n",
        "optimizer = optim.SGD(model.parameters(), lr=0.01, momentum=0.9)\n",
        "\n",
        "for epoch in range(1, 21):\n",
        "    train(model, device, train_loader, optimizer, epoch)\n",
        "    test(model, device, test_loader)"
      ],
      "execution_count": 47,
      "outputs": [
        {
          "output_type": "stream",
          "text": [
            "  0%|          | 0/469 [00:00<?, ?it/s]/usr/local/lib/python3.6/dist-packages/ipykernel_launcher.py:52: UserWarning: Implicit dimension choice for log_softmax has been deprecated. Change the call to include dim=X as an argument.\n",
            "loss=0.052298739552497864 batch_id=468: 100%|██████████| 469/469 [00:10<00:00, 44.94it/s]\n",
            "  0%|          | 0/469 [00:00<?, ?it/s]"
          ],
          "name": "stderr"
        },
        {
          "output_type": "stream",
          "text": [
            "\n",
            "Test set: Average loss: 0.0528, Accuracy: 9831/10000 (98%)\n",
            "\n"
          ],
          "name": "stdout"
        },
        {
          "output_type": "stream",
          "text": [
            "loss=0.07697457075119019 batch_id=468: 100%|██████████| 469/469 [00:10<00:00, 43.74it/s]\n",
            "  0%|          | 0/469 [00:00<?, ?it/s]"
          ],
          "name": "stderr"
        },
        {
          "output_type": "stream",
          "text": [
            "\n",
            "Test set: Average loss: 0.0412, Accuracy: 9864/10000 (99%)\n",
            "\n"
          ],
          "name": "stdout"
        },
        {
          "output_type": "stream",
          "text": [
            "loss=0.032502997666597366 batch_id=468: 100%|██████████| 469/469 [00:10<00:00, 43.47it/s]\n",
            "  0%|          | 0/469 [00:00<?, ?it/s]"
          ],
          "name": "stderr"
        },
        {
          "output_type": "stream",
          "text": [
            "\n",
            "Test set: Average loss: 0.0323, Accuracy: 9890/10000 (99%)\n",
            "\n"
          ],
          "name": "stdout"
        },
        {
          "output_type": "stream",
          "text": [
            "loss=0.0578201599419117 batch_id=468: 100%|██████████| 469/469 [00:10<00:00, 42.65it/s]\n",
            "  0%|          | 0/469 [00:00<?, ?it/s]"
          ],
          "name": "stderr"
        },
        {
          "output_type": "stream",
          "text": [
            "\n",
            "Test set: Average loss: 0.0313, Accuracy: 9898/10000 (99%)\n",
            "\n"
          ],
          "name": "stdout"
        },
        {
          "output_type": "stream",
          "text": [
            "loss=0.0748644694685936 batch_id=468: 100%|██████████| 469/469 [00:10<00:00, 43.66it/s]\n",
            "  0%|          | 0/469 [00:00<?, ?it/s]"
          ],
          "name": "stderr"
        },
        {
          "output_type": "stream",
          "text": [
            "\n",
            "Test set: Average loss: 0.0271, Accuracy: 9908/10000 (99%)\n",
            "\n"
          ],
          "name": "stdout"
        },
        {
          "output_type": "stream",
          "text": [
            "loss=0.0058767348527908325 batch_id=468: 100%|██████████| 469/469 [00:10<00:00, 45.07it/s]\n",
            "  0%|          | 0/469 [00:00<?, ?it/s]"
          ],
          "name": "stderr"
        },
        {
          "output_type": "stream",
          "text": [
            "\n",
            "Test set: Average loss: 0.0283, Accuracy: 9909/10000 (99%)\n",
            "\n"
          ],
          "name": "stdout"
        },
        {
          "output_type": "stream",
          "text": [
            "loss=0.05538755655288696 batch_id=468: 100%|██████████| 469/469 [00:10<00:00, 43.67it/s]\n",
            "  0%|          | 0/469 [00:00<?, ?it/s]"
          ],
          "name": "stderr"
        },
        {
          "output_type": "stream",
          "text": [
            "\n",
            "Test set: Average loss: 0.0283, Accuracy: 9902/10000 (99%)\n",
            "\n"
          ],
          "name": "stdout"
        },
        {
          "output_type": "stream",
          "text": [
            "loss=0.013272966258227825 batch_id=468: 100%|██████████| 469/469 [00:10<00:00, 43.88it/s]\n",
            "  0%|          | 0/469 [00:00<?, ?it/s]"
          ],
          "name": "stderr"
        },
        {
          "output_type": "stream",
          "text": [
            "\n",
            "Test set: Average loss: 0.0265, Accuracy: 9916/10000 (99%)\n",
            "\n"
          ],
          "name": "stdout"
        },
        {
          "output_type": "stream",
          "text": [
            "loss=0.0005909700994379818 batch_id=468: 100%|██████████| 469/469 [00:10<00:00, 44.01it/s]\n",
            "  0%|          | 0/469 [00:00<?, ?it/s]"
          ],
          "name": "stderr"
        },
        {
          "output_type": "stream",
          "text": [
            "\n",
            "Test set: Average loss: 0.0232, Accuracy: 9925/10000 (99%)\n",
            "\n"
          ],
          "name": "stdout"
        },
        {
          "output_type": "stream",
          "text": [
            "loss=0.0212788674980402 batch_id=468: 100%|██████████| 469/469 [00:10<00:00, 43.65it/s]\n",
            "  0%|          | 0/469 [00:00<?, ?it/s]"
          ],
          "name": "stderr"
        },
        {
          "output_type": "stream",
          "text": [
            "\n",
            "Test set: Average loss: 0.0241, Accuracy: 9925/10000 (99%)\n",
            "\n"
          ],
          "name": "stdout"
        },
        {
          "output_type": "stream",
          "text": [
            "loss=0.012670199386775494 batch_id=468: 100%|██████████| 469/469 [00:10<00:00, 43.62it/s]\n",
            "  0%|          | 0/469 [00:00<?, ?it/s]"
          ],
          "name": "stderr"
        },
        {
          "output_type": "stream",
          "text": [
            "\n",
            "Test set: Average loss: 0.0197, Accuracy: 9935/10000 (99%)\n",
            "\n"
          ],
          "name": "stdout"
        },
        {
          "output_type": "stream",
          "text": [
            "loss=0.028459792956709862 batch_id=468: 100%|██████████| 469/469 [00:10<00:00, 43.60it/s]\n",
            "  0%|          | 0/469 [00:00<?, ?it/s]"
          ],
          "name": "stderr"
        },
        {
          "output_type": "stream",
          "text": [
            "\n",
            "Test set: Average loss: 0.0222, Accuracy: 9935/10000 (99%)\n",
            "\n"
          ],
          "name": "stdout"
        },
        {
          "output_type": "stream",
          "text": [
            "loss=0.01480962336063385 batch_id=468: 100%|██████████| 469/469 [00:10<00:00, 44.42it/s]\n",
            "  0%|          | 0/469 [00:00<?, ?it/s]"
          ],
          "name": "stderr"
        },
        {
          "output_type": "stream",
          "text": [
            "\n",
            "Test set: Average loss: 0.0223, Accuracy: 9932/10000 (99%)\n",
            "\n"
          ],
          "name": "stdout"
        },
        {
          "output_type": "stream",
          "text": [
            "loss=0.04668663442134857 batch_id=468: 100%|██████████| 469/469 [00:10<00:00, 43.27it/s]\n",
            "  0%|          | 0/469 [00:00<?, ?it/s]"
          ],
          "name": "stderr"
        },
        {
          "output_type": "stream",
          "text": [
            "\n",
            "Test set: Average loss: 0.0189, Accuracy: 9929/10000 (99%)\n",
            "\n"
          ],
          "name": "stdout"
        },
        {
          "output_type": "stream",
          "text": [
            "loss=0.009154642932116985 batch_id=468: 100%|██████████| 469/469 [00:10<00:00, 43.25it/s]\n",
            "  0%|          | 0/469 [00:00<?, ?it/s]"
          ],
          "name": "stderr"
        },
        {
          "output_type": "stream",
          "text": [
            "\n",
            "Test set: Average loss: 0.0216, Accuracy: 9930/10000 (99%)\n",
            "\n"
          ],
          "name": "stdout"
        },
        {
          "output_type": "stream",
          "text": [
            "loss=0.0034265220165252686 batch_id=468: 100%|██████████| 469/469 [00:10<00:00, 45.64it/s]\n",
            "  0%|          | 0/469 [00:00<?, ?it/s]"
          ],
          "name": "stderr"
        },
        {
          "output_type": "stream",
          "text": [
            "\n",
            "Test set: Average loss: 0.0213, Accuracy: 9931/10000 (99%)\n",
            "\n"
          ],
          "name": "stdout"
        },
        {
          "output_type": "stream",
          "text": [
            "loss=0.010062302462756634 batch_id=468: 100%|██████████| 469/469 [00:10<00:00, 43.69it/s]\n",
            "  0%|          | 0/469 [00:00<?, ?it/s]"
          ],
          "name": "stderr"
        },
        {
          "output_type": "stream",
          "text": [
            "\n",
            "Test set: Average loss: 0.0186, Accuracy: 9940/10000 (99%)\n",
            "\n"
          ],
          "name": "stdout"
        },
        {
          "output_type": "stream",
          "text": [
            "loss=0.0026540060061961412 batch_id=468: 100%|██████████| 469/469 [00:10<00:00, 43.24it/s]\n",
            "  0%|          | 0/469 [00:00<?, ?it/s]"
          ],
          "name": "stderr"
        },
        {
          "output_type": "stream",
          "text": [
            "\n",
            "Test set: Average loss: 0.0238, Accuracy: 9925/10000 (99%)\n",
            "\n"
          ],
          "name": "stdout"
        },
        {
          "output_type": "stream",
          "text": [
            "loss=0.007857154123485088 batch_id=468: 100%|██████████| 469/469 [00:10<00:00, 43.99it/s]\n",
            "  0%|          | 0/469 [00:00<?, ?it/s]"
          ],
          "name": "stderr"
        },
        {
          "output_type": "stream",
          "text": [
            "\n",
            "Test set: Average loss: 0.0218, Accuracy: 9929/10000 (99%)\n",
            "\n"
          ],
          "name": "stdout"
        },
        {
          "output_type": "stream",
          "text": [
            "loss=0.005086496472358704 batch_id=468: 100%|██████████| 469/469 [00:10<00:00, 42.84it/s]\n"
          ],
          "name": "stderr"
        },
        {
          "output_type": "stream",
          "text": [
            "\n",
            "Test set: Average loss: 0.0180, Accuracy: 9941/10000 (99%)\n",
            "\n"
          ],
          "name": "stdout"
        }
      ]
    },
    {
      "cell_type": "code",
      "metadata": {
        "id": "AYaZDAqgdYbX",
        "colab_type": "code",
        "colab": {}
      },
      "source": [
        ""
      ],
      "execution_count": 0,
      "outputs": []
    }
  ]
}