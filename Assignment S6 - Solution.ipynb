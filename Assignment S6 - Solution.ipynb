{
  "nbformat": 4,
  "nbformat_minor": 0,
  "metadata": {
    "colab": {
      "name": "Untitled10.ipynb",
      "provenance": [],
      "authorship_tag": "ABX9TyP73e4Y4Y0DiIKEGtz9N2UF",
      "include_colab_link": true
    },
    "kernelspec": {
      "name": "python3",
      "display_name": "Python 3"
    }
  },
  "cells": [
    {
      "cell_type": "markdown",
      "metadata": {
        "id": "view-in-github",
        "colab_type": "text"
      },
      "source": [
        "<a href=\"https://colab.research.google.com/github/jai2shan/TSAI-EVA40-Assignments/blob/master/Assignment%20S6%20-%20Solution.ipynb\" target=\"_parent\"><img src=\"https://colab.research.google.com/assets/colab-badge.svg\" alt=\"Open In Colab\"/></a>"
      ]
    },
    {
      "cell_type": "code",
      "metadata": {
        "id": "uWRVTCusliXG",
        "colab_type": "code",
        "colab": {
          "base_uri": "https://localhost:8080/",
          "height": 34
        },
        "outputId": "0ec21a76-7d96-4984-a083-36ab4bf570b1"
      },
      "source": [
        "import os\n",
        "os.listdir()"
      ],
      "execution_count": 1,
      "outputs": [
        {
          "output_type": "execute_result",
          "data": {
            "text/plain": [
              "['.config', 'asgnmnt6-0.0.32-py3-none-any.whl', 'sample_data']"
            ]
          },
          "metadata": {
            "tags": []
          },
          "execution_count": 1
        }
      ]
    },
    {
      "cell_type": "code",
      "metadata": {
        "id": "QixaZPf7mtTZ",
        "colab_type": "code",
        "colab": {
          "base_uri": "https://localhost:8080/",
          "height": 67
        },
        "outputId": "c33a0c2b-7680-48b6-ba17-9271956d4705"
      },
      "source": [
        "pip install asgnmnt6-0.0.32-py3-none-any.whl"
      ],
      "execution_count": 2,
      "outputs": [
        {
          "output_type": "stream",
          "text": [
            "Processing ./asgnmnt6-0.0.32-py3-none-any.whl\n",
            "Installing collected packages: asgnmnt6\n",
            "Successfully installed asgnmnt6-0.0.32\n"
          ],
          "name": "stdout"
        }
      ]
    },
    {
      "cell_type": "markdown",
      "metadata": {
        "id": "vCWduyUlm-7L",
        "colab_type": "text"
      },
      "source": [
        "## Loading Packages"
      ]
    },
    {
      "cell_type": "code",
      "metadata": {
        "id": "a5JHtfsAnF9b",
        "colab_type": "code",
        "colab": {}
      },
      "source": [
        "from __future__ import print_function\n",
        "import torch\n",
        "import torch.optim as optim\n",
        "\n",
        "\n",
        "import os\n",
        "\n",
        "from GBNModel import GBNNet\n",
        "from Model import Net\n",
        "from DataTransformation import DataTransformation\n",
        "from TrainTest import TrainTest"
      ],
      "execution_count": 0,
      "outputs": []
    }
  ]
}